{
 "cells": [
  {
   "cell_type": "markdown",
   "metadata": {},
   "source": [
    "# Getting Started with Draftsim Bots\n",
    "August 3, 2019"
   ]
  },
  {
   "cell_type": "markdown",
   "metadata": {},
   "source": [
    "Make sure that you use the latest version of draftsimtools from MTG/Dan/draftsimtools. "
   ]
  },
  {
   "cell_type": "code",
   "execution_count": 2,
   "metadata": {},
   "outputs": [
    {
     "name": "stdout",
     "output_type": "stream",
     "text": [
      "Requirement already satisfied: torch in /home/dan/anaconda3/envs/keras/lib/python3.6/site-packages (1.0.0)\n",
      "\u001b[33mYou are using pip version 19.0.1, however version 19.2.2 is available.\n",
      "You should consider upgrading via the 'pip install --upgrade pip' command.\u001b[0m\n"
     ]
    }
   ],
   "source": [
    "# You may have to install torch.\n",
    "!pip install torch"
   ]
  },
  {
   "cell_type": "code",
   "execution_count": 3,
   "metadata": {},
   "outputs": [],
   "source": [
    "import draftsimtools as ds\n",
    "import numpy as np"
   ]
  },
  {
   "cell_type": "markdown",
   "metadata": {},
   "source": [
    "### Load Data"
   ]
  },
  {
   "cell_type": "code",
   "execution_count": 4,
   "metadata": {},
   "outputs": [
    {
     "name": "stdout",
     "output_type": "stream",
     "text": [
      "Processing draft: 0.\n",
      "Processing draft: 0.\n"
     ]
    }
   ],
   "source": [
    "# Define paths to dataset. \n",
    "# Can be downloaded from private \"draft-data-files\" channel on slack.\n",
    "rating_path1 = \"data/m19_rating.tsv\"\n",
    "rating_path2 = \"data/m19_land_rating.tsv\"\n",
    "train_csv = \"data/subset3000/train.csv\"\n",
    "val_csv = \"data/subset3000/val.csv\"\n",
    "\n",
    "# Load data (may take a few moments).\n",
    "train_data, train_tensor, m19_set, le = ds.load_dataset(rating_path1, rating_path2, \"data/subset3000/train.csv\")\n",
    "val_data, val_tensor, m19_set, le = ds.load_dataset(rating_path1, rating_path2, \"data/subset3000/val.csv\")"
   ]
  },
  {
   "cell_type": "markdown",
   "metadata": {},
   "source": [
    "### Label encoder\n",
    "Maps card names to integers"
   ]
  },
  {
   "cell_type": "code",
   "execution_count": 5,
   "metadata": {},
   "outputs": [
    {
     "data": {
      "text/plain": [
       "array([0, 1])"
      ]
     },
     "execution_count": 5,
     "metadata": {},
     "output_type": "execute_result"
    }
   ],
   "source": [
    "le.transform([\"Abnormal_Endurance\", \"Act_of_Treason\"])"
   ]
  },
  {
   "cell_type": "code",
   "execution_count": 6,
   "metadata": {},
   "outputs": [
    {
     "data": {
      "text/plain": [
       "array(['Abnormal_Endurance', 'Act_of_Treason', 'Aegis_of_the_Heavens',\n",
       "       'Aerial_Engineer', 'Aether_Tunnel', 'Aethershield_Artificer',\n",
       "       \"Ajani's_Last_Stand\", \"Ajani's_Pridemate\", \"Ajani's_Welcome\",\n",
       "       'Ajani_Adversary_of_Tyrants', 'Alpine_Moon',\n",
       "       'Amulet_of_Safekeeping', 'Angel_of_the_Dawn', 'Anticipate',\n",
       "       'Apex_of_Power', 'Arcades_the_Strategist', 'Arcane_Encyclopedia',\n",
       "       'Aven_Wind_Mage', 'Aviation_Pioneer', 'Banefire'], dtype=object)"
      ]
     },
     "execution_count": 6,
     "metadata": {},
     "output_type": "execute_result"
    }
   ],
   "source": [
    "le.classes_[:20]"
   ]
  },
  {
   "cell_type": "markdown",
   "metadata": {},
   "source": [
    "### Draft Dataset\n",
    "Pick data is contained in a draft dataset. Data can be accessed via a simple index."
   ]
  },
  {
   "cell_type": "code",
   "execution_count": 7,
   "metadata": {
    "scrolled": false
   },
   "outputs": [],
   "source": [
    "x, y = train_data[10]"
   ]
  },
  {
   "cell_type": "markdown",
   "metadata": {},
   "source": [
    "### Input Representation\n",
    "x is a vector of length 2n, where n is the number of cards in the set.  \n",
    "\n",
    "x[:n] represent the counts of cards already picked by the user.  \n",
    "x[n:2n] represent the cards in the current pack (1 if card is present in pack). "
   ]
  },
  {
   "cell_type": "code",
   "execution_count": 8,
   "metadata": {},
   "outputs": [
    {
     "name": "stdout",
     "output_type": "stream",
     "text": [
      "tensor([0., 0., 0., 0., 0., 0., 0., 0., 0., 0., 0., 0., 0., 0., 0., 0., 0., 0.,\n",
      "        0., 0., 0., 0., 0., 0., 0., 0., 0., 0., 0., 0., 0., 0., 0., 0., 0., 0.,\n",
      "        0., 0., 0., 0., 0., 0., 0., 0., 0., 0., 0., 0., 0., 0., 0., 0., 0., 0.,\n",
      "        0., 0., 0., 0., 0., 0., 0., 0., 0., 0., 0., 0., 0., 0., 0., 0., 0., 0.,\n",
      "        0., 1., 0., 0., 0., 1., 0., 0., 0., 0., 0., 0., 0., 0., 0., 0., 0., 1.,\n",
      "        0., 0., 3., 0., 0., 0., 0., 0., 0., 0., 0., 0., 0., 0., 0., 0., 0., 0.,\n",
      "        0., 0., 0., 0., 0., 0., 0., 0., 0., 0., 0., 0., 0., 0., 0., 0., 0., 0.,\n",
      "        0., 0., 0., 0., 0., 0., 0., 0., 0., 0., 0., 0., 0., 0., 0., 0., 0., 0.,\n",
      "        0., 0., 0., 0., 0., 0., 0., 1., 0., 0., 0., 0., 0., 0., 0., 0., 0., 0.,\n",
      "        0., 0., 0., 0., 0., 0., 0., 0., 0., 0., 0., 0., 0., 0., 0., 0., 0., 0.,\n",
      "        0., 0., 0., 0., 0., 0., 0., 0., 0., 0., 0., 0., 0., 0., 0., 0., 0., 0.,\n",
      "        0., 0., 0., 0., 0., 0., 0., 0., 0., 0., 0., 0., 0., 0., 1., 0., 0., 0.,\n",
      "        0., 0., 0., 0., 0., 0., 0., 0., 0., 0., 0., 0., 0., 0., 0., 1., 0., 0.,\n",
      "        0., 0., 0., 0., 0., 0., 0., 0., 0., 0., 0., 0., 0., 0., 0., 0., 0., 0.,\n",
      "        0., 0., 0., 0., 0., 0., 0., 0., 0., 0., 1., 0., 0., 0., 0., 0., 0., 0.,\n",
      "        0., 0., 0., 0., 0., 0., 0., 0., 0., 0., 0., 0., 0., 0., 0., 0., 0., 0.,\n",
      "        0., 0., 0., 0., 0., 0., 0., 0., 0., 0., 0., 0., 0., 0., 0., 0., 0., 0.,\n",
      "        0., 0., 1., 0., 0., 0., 0., 0., 0., 0., 0., 0., 0., 0., 0., 0., 0., 0.,\n",
      "        0., 0., 0., 0., 0., 0., 0., 0., 0., 0., 0., 0., 0., 0., 0., 0., 0., 0.,\n",
      "        0., 0., 0., 0., 0., 0., 0., 0., 0., 0., 0., 0., 0., 0., 0., 0., 0., 0.,\n",
      "        0., 0., 0., 0., 0., 0., 0., 0., 0., 0., 0., 0., 0., 0., 0., 0., 0., 0.,\n",
      "        0., 0., 0., 0., 0., 0., 0., 0., 0., 0., 0., 0., 0., 0., 0., 0., 0., 0.,\n",
      "        0., 0., 0., 0., 0., 0., 0., 0., 0., 0., 0., 0., 0., 0., 0., 0., 0., 0.,\n",
      "        0., 0., 0., 0., 0., 0., 0., 0., 0., 0., 0., 0., 0., 0., 0., 0., 0., 0.,\n",
      "        0., 0., 0., 0., 0., 0., 0., 0., 1., 0., 0., 0., 0., 0., 0., 0., 0., 0.,\n",
      "        1., 0., 0., 0., 0., 0., 0., 0., 0., 0., 0., 0., 0., 0., 0., 0., 0., 0.,\n",
      "        0., 0., 0., 0., 0., 0., 0., 1., 0., 0., 0., 0., 0., 0., 0., 0., 0., 0.,\n",
      "        0., 0., 0., 0., 0., 0., 0., 0., 0., 0., 0., 0., 0., 0., 0., 0., 0., 0.,\n",
      "        0., 0., 0., 0., 0., 0., 0., 0., 0., 0., 0., 0., 0., 0., 0., 0., 0., 0.,\n",
      "        0., 0., 0., 0., 0., 0., 0., 0., 0., 0., 0., 0., 0., 0., 0., 0., 0., 0.,\n",
      "        0., 0., 0., 0., 0., 0., 0., 0., 0., 0., 0., 0., 0., 1., 0., 0., 0., 0.,\n",
      "        0., 0., 0., 0., 0., 0., 0., 0., 0., 0., 0., 0.])\n"
     ]
    }
   ],
   "source": [
    "print(x)"
   ]
  },
  {
   "cell_type": "markdown",
   "metadata": {},
   "source": [
    "### Output Representation\n",
    "y is a vector of length n\n",
    "y[i]=1, where i is the index of the card picked by the user."
   ]
  },
  {
   "cell_type": "code",
   "execution_count": 9,
   "metadata": {},
   "outputs": [
    {
     "name": "stdout",
     "output_type": "stream",
     "text": [
      "tensor([0, 0, 0, 0, 0, 0, 0, 0, 0, 0, 0, 0, 0, 0, 0, 0, 0, 0, 0, 0, 0, 0, 0, 0,\n",
      "        0, 0, 0, 0, 0, 0, 0, 0, 0, 0, 0, 0, 0, 0, 0, 0, 0, 0, 0, 0, 0, 0, 0, 0,\n",
      "        0, 0, 0, 0, 0, 0, 0, 0, 0, 0, 0, 0, 0, 0, 0, 0, 0, 0, 0, 0, 0, 0, 0, 0,\n",
      "        0, 0, 0, 0, 0, 0, 0, 0, 0, 0, 0, 0, 0, 0, 0, 0, 0, 0, 0, 0, 0, 0, 0, 0,\n",
      "        0, 0, 0, 0, 0, 0, 0, 0, 0, 0, 0, 0, 0, 0, 0, 0, 0, 0, 0, 0, 0, 0, 0, 0,\n",
      "        0, 0, 0, 0, 0, 0, 0, 0, 0, 0, 0, 0, 0, 0, 0, 0, 0, 0, 0, 0, 0, 0, 0, 0,\n",
      "        0, 0, 0, 0, 0, 0, 0, 0, 0, 0, 0, 0, 0, 0, 0, 0, 0, 0, 0, 0, 0, 0, 0, 0,\n",
      "        0, 0, 0, 0, 0, 0, 0, 0, 0, 0, 0, 0, 0, 0, 0, 0, 0, 0, 0, 0, 0, 0, 0, 0,\n",
      "        0, 0, 0, 0, 0, 0, 0, 0, 0, 0, 0, 0, 0, 0, 0, 0, 0, 0, 0, 0, 0, 0, 0, 0,\n",
      "        0, 0, 0, 0, 0, 0, 0, 0, 0, 0, 0, 0, 0, 0, 0, 0, 0, 0, 0, 0, 0, 0, 0, 0,\n",
      "        0, 0, 0, 0, 0, 0, 0, 0, 0, 0, 0, 0, 0, 0, 0, 0, 0, 0, 0, 0, 0, 0, 0, 0,\n",
      "        0, 0, 0, 0, 1, 0, 0, 0, 0, 0, 0, 0, 0, 0, 0, 0, 0, 0, 0, 0, 0])\n"
     ]
    }
   ],
   "source": [
    "print(y)"
   ]
  },
  {
   "cell_type": "markdown",
   "metadata": {},
   "source": [
    "### Numpy Conversion\n",
    "By default, x and y are torch tensors. You may want to convert them to numpy arrays. "
   ]
  },
  {
   "cell_type": "code",
   "execution_count": 10,
   "metadata": {},
   "outputs": [
    {
     "name": "stdout",
     "output_type": "stream",
     "text": [
      "y: <class 'torch.Tensor'>\n",
      "y_numpy: <class 'numpy.ndarray'>\n"
     ]
    }
   ],
   "source": [
    "print(\"y:\", type(y))\n",
    "y_numpy = y.numpy()\n",
    "print(\"y_numpy:\", type(y_numpy))"
   ]
  },
  {
   "cell_type": "markdown",
   "metadata": {},
   "source": [
    "### Set Dataframe\n",
    "Contains information about each card in the set. It may be useful if you would like to include features like color and converted mana cost. "
   ]
  },
  {
   "cell_type": "code",
   "execution_count": 29,
   "metadata": {},
   "outputs": [
    {
     "data": {
      "text/html": [
       "<div>\n",
       "<style scoped>\n",
       "    .dataframe tbody tr th:only-of-type {\n",
       "        vertical-align: middle;\n",
       "    }\n",
       "\n",
       "    .dataframe tbody tr th {\n",
       "        vertical-align: top;\n",
       "    }\n",
       "\n",
       "    .dataframe thead th {\n",
       "        text-align: right;\n",
       "    }\n",
       "</style>\n",
       "<table border=\"1\" class=\"dataframe\">\n",
       "  <thead>\n",
       "    <tr style=\"text-align: right;\">\n",
       "      <th></th>\n",
       "      <th>Name</th>\n",
       "      <th>Casting Cost 1</th>\n",
       "      <th>Casting Cost 2</th>\n",
       "      <th>Card Type</th>\n",
       "      <th>Rarity</th>\n",
       "      <th>Rating</th>\n",
       "      <th>Color Vector</th>\n",
       "    </tr>\n",
       "  </thead>\n",
       "  <tbody>\n",
       "    <tr>\n",
       "      <th>0</th>\n",
       "      <td>Crucible_of_Worlds</td>\n",
       "      <td>3</td>\n",
       "      <td>none</td>\n",
       "      <td>Spell</td>\n",
       "      <td>M</td>\n",
       "      <td>1.5</td>\n",
       "      <td>[0, 0, 0, 0, 0]</td>\n",
       "    </tr>\n",
       "    <tr>\n",
       "      <th>1</th>\n",
       "      <td>Nicol_Bolas_the_Ravager</td>\n",
       "      <td>1UBR</td>\n",
       "      <td>none</td>\n",
       "      <td>Creature</td>\n",
       "      <td>M</td>\n",
       "      <td>4.6</td>\n",
       "      <td>[0, 1, 1, 1, 0]</td>\n",
       "    </tr>\n",
       "    <tr>\n",
       "      <th>2</th>\n",
       "      <td>Scapeshift</td>\n",
       "      <td>2GG</td>\n",
       "      <td>none</td>\n",
       "      <td>Spell</td>\n",
       "      <td>M</td>\n",
       "      <td>1.5</td>\n",
       "      <td>[0, 0, 0, 0, 2]</td>\n",
       "    </tr>\n",
       "    <tr>\n",
       "      <th>3</th>\n",
       "      <td>Sarkhan_Fireblood</td>\n",
       "      <td>1RR</td>\n",
       "      <td>none</td>\n",
       "      <td>Planeswalker</td>\n",
       "      <td>M</td>\n",
       "      <td>3.3</td>\n",
       "      <td>[0, 0, 0, 2, 0]</td>\n",
       "    </tr>\n",
       "    <tr>\n",
       "      <th>4</th>\n",
       "      <td>Resplendent_Angel</td>\n",
       "      <td>1WW</td>\n",
       "      <td>none</td>\n",
       "      <td>Creature</td>\n",
       "      <td>M</td>\n",
       "      <td>4.3</td>\n",
       "      <td>[2, 0, 0, 0, 0]</td>\n",
       "    </tr>\n",
       "  </tbody>\n",
       "</table>\n",
       "</div>"
      ],
      "text/plain": [
       "                      Name Casting Cost 1 Casting Cost 2     Card Type Rarity  \\\n",
       "0       Crucible_of_Worlds              3           none         Spell      M   \n",
       "1  Nicol_Bolas_the_Ravager           1UBR           none      Creature      M   \n",
       "2               Scapeshift            2GG           none         Spell      M   \n",
       "3        Sarkhan_Fireblood            1RR           none  Planeswalker      M   \n",
       "4        Resplendent_Angel            1WW           none      Creature      M   \n",
       "\n",
       "   Rating     Color Vector  \n",
       "0     1.5  [0, 0, 0, 0, 0]  \n",
       "1     4.6  [0, 1, 1, 1, 0]  \n",
       "2     1.5  [0, 0, 0, 0, 2]  \n",
       "3     3.3  [0, 0, 0, 2, 0]  \n",
       "4     4.3  [2, 0, 0, 0, 0]  "
      ]
     },
     "execution_count": 29,
     "metadata": {},
     "output_type": "execute_result"
    }
   ],
   "source": [
    "m19_set.head()"
   ]
  },
  {
   "cell_type": "markdown",
   "metadata": {},
   "source": [
    "If you need it, an <b>intermediate</b> representation of a draft is available in train_tensor. "
   ]
  },
  {
   "cell_type": "markdown",
   "metadata": {},
   "source": [
    "### Intermediate Draft Representation\n",
    "The above representation of x and y will work best for most models. If needed, however, a more compact representation of a draft is available in train_tensor.\n",
    "\n",
    "Each row represents cards present in a pack seen by the user.  \n",
    "The leftmost column represents the card picked.  "
   ]
  },
  {
   "cell_type": "code",
   "execution_count": 47,
   "metadata": {},
   "outputs": [
    {
     "name": "stdout",
     "output_type": "stream",
     "text": [
      "[[212   7  37 207 181 226 146 259  73 198 252  17 144 114 126]\n",
      " [ 92 274 238 108 148  26 266 259 151  79 114 261 268 281   0]\n",
      " [ 89  69  97  79 216 253  33  62 268 190  23 155 165   0   0]\n",
      " [ 92 207 210 149 155 135 157 252  96  29 230  84   0   0   0]\n",
      " [ 77 108 112 273 193 146 267 262 260  35 232   0   0   0   0]\n",
      " [231  87 170  79 144 101 267   0 281 258   0   0   0   0   0]\n",
      " [ 92  31  75  39  43 114 118 252 187   0   0   0   0   0   0]\n",
      " [262 273 208 253 131 281  96 163   0   0   0   0   0   0   0]\n",
      " [ 73 198 252  17 144 114 126   0   0   0   0   0   0   0   0]\n",
      " [151  79 114 261 268 281   0   0   0   0   0   0   0   0   0]\n",
      " [268 190  23 155 165   0   0   0   0   0   0   0   0   0   0]\n",
      " [ 96  29 230  84   0   0   0   0   0   0   0   0   0   0   0]\n",
      " [260  35 232   0   0   0   0   0   0   0   0   0   0   0   0]\n",
      " [281 258   0   0   0   0   0   0   0   0   0   0   0   0   0]\n",
      " [187   0   0   0   0   0   0   0   0   0   0   0   0   0   0]\n",
      " [156  54  12 233  60  58  20  27  77 259  33  57  79 271 187]\n",
      " [152 227 200 271  90 242  97 261 243  54 131  89  28 163   0]\n",
      " [ 17  94  72 150 116  13  70 101 151  28 137  39 232   0   0]\n",
      " [ 30   4 224  33 155 262 190 258  96  49 157   1   0   0   0]\n",
      " [  3  18 224   0 101 231 199  39  13 211  82   0   0   0   0]\n",
      " [218 260  12 170  30  72 120 208 204 246   0   0   0   0   0]\n",
      " [ 17  28 178  23 266  93  65 118 164   0   0   0   0   0   0]\n",
      " [218 227 224  33 230 213 190 239   0   0   0   0   0   0   0]\n",
      " [ 77 259  33  57  79 271 187   0   0   0   0   0   0   0   0]\n",
      " [243  54 131  89  28 163   0   0   0   0   0   0   0   0   0]\n",
      " [151  28 137  39 232   0   0   0   0   0   0   0   0   0   0]\n",
      " [ 96  49 157   1   0   0   0   0   0   0   0   0   0   0   0]\n",
      " [ 13 211  82   0   0   0   0   0   0   0   0   0   0   0   0]\n",
      " [204 246   0   0   0   0   0   0   0   0   0   0   0   0   0]\n",
      " [164   0   0   0   0   0   0   0   0   0   0   0   0   0   0]\n",
      " [266 214 184 140  12  61  57 195 281 108  23 113   1 211 260]\n",
      " [228 279 166 220  66 100 271  17  92 242 118 240 211 246   0]\n",
      " [  3 195  57 100 108  75 211 173  77  39 216  25 260   0   0]\n",
      " [ 96 221 238  61 116  57 271  37 112  38 208  81   0   0   0]\n",
      " [ 75 261 206  17 144 196 226 168  29 135 113   0   0   0   0]\n",
      " [ 92 221 256 108   1 230 194  13 168 129   0   0   0   0   0]\n",
      " [149 259 267  67 175 210 172 208 163   0   0   0   0   0   0]\n",
      " [122 242 267   1 251 260 281 164   0   0   0   0   0   0   0]\n",
      " [281 108  23 113   1 211 260   0   0   0   0   0   0   0   0]\n",
      " [ 92 242 118 240 211 246   0   0   0   0   0   0   0   0   0]\n",
      " [ 77  39 216  25 260   0   0   0   0   0   0   0   0   0   0]\n",
      " [112  38 208  81   0   0   0   0   0   0   0   0   0   0   0]\n",
      " [ 29 135 113   0   0   0   0   0   0   0   0   0   0   0   0]\n",
      " [168 129   0   0   0   0   0   0   0   0   0   0   0   0   0]\n",
      " [163   0   0   0   0   0   0   0   0   0   0   0   0   0   0]]\n"
     ]
    }
   ],
   "source": [
    "# Uncomment to view intermediate representation.\n",
    "print(train_tensor[0,:,:])"
   ]
  },
  {
   "cell_type": "markdown",
   "metadata": {},
   "source": [
    "### A Very Simple Bot"
   ]
  },
  {
   "cell_type": "code",
   "execution_count": 12,
   "metadata": {},
   "outputs": [],
   "source": [
    "class ActOfTreasonBot(object):\n",
    "    \n",
    "    def make_pick(self, x):\n",
    "        \"\"\"\n",
    "        Input x is of length 2n and represents collection and pack.\n",
    "        Returns y, a vector of length n that corresponds to the card picked.\n",
    "        \n",
    "        Every bot must implement this method.\n",
    "        \"\"\"\n",
    "        # Always predict act of treason.\n",
    "        act_of_treason = np.zeros(285)\n",
    "        act_of_treason[1] = 1\n",
    "        return act_of_treason"
   ]
  },
  {
   "cell_type": "markdown",
   "metadata": {},
   "source": [
    "### Benchmark Validation Accuracy"
   ]
  },
  {
   "cell_type": "code",
   "execution_count": 13,
   "metadata": {},
   "outputs": [
    {
     "name": "stdout",
     "output_type": "stream",
     "text": [
      "Validation accuracy of  0.007288888888888889\n"
     ]
    }
   ],
   "source": [
    "# Create bot.\n",
    "bot = ActOfTreasonBot()\n",
    "\n",
    "#Initialize metrics.\n",
    "num_correct = 0\n",
    "num_picks = len(val_data)\n",
    "\n",
    "# Count correct picks.\n",
    "for pick in range(num_picks):\n",
    "    x_torch, y_torch = train_data[pick]\n",
    "    x = x_torch.numpy()\n",
    "    y = y_torch.numpy()\n",
    "    if np.argmax(bot.make_pick(x)) == np.argmax(y):\n",
    "        num_correct += 1\n",
    "        \n",
    "val_accuracy = num_correct / (num_picks * 1.0)\n",
    "print(\"Validation accuracy of \", val_accuracy)    "
   ]
  }
 ],
 "metadata": {
  "kernelspec": {
   "display_name": "Python 3",
   "language": "python",
   "name": "python3"
  },
  "language_info": {
   "codemirror_mode": {
    "name": "ipython",
    "version": 3
   },
   "file_extension": ".py",
   "mimetype": "text/x-python",
   "name": "python",
   "nbconvert_exporter": "python",
   "pygments_lexer": "ipython3",
   "version": "3.6.7"
  }
 },
 "nbformat": 4,
 "nbformat_minor": 2
}
