{
 "cells": [
  {
   "cell_type": "markdown",
   "metadata": {},
   "source": [
    "Testbed for bots, by Arseny, based on Henry's testing_grounds."
   ]
  },
  {
   "cell_type": "code",
   "execution_count": 1,
   "metadata": {},
   "outputs": [],
   "source": [
    "import numpy as np\n",
    "import pandas as pd\n",
    "from operator import itemgetter\n",
    "from copy import deepcopy\n",
    "import json\n",
    "\n",
    "import draftsimtools as ds"
   ]
  },
  {
   "cell_type": "code",
   "execution_count": 2,
   "metadata": {},
   "outputs": [],
   "source": [
    "# Load M19 drafts\n",
    "raw_drafts = ds.load_drafts(\"../../data/m19_2.csv\")"
   ]
  },
  {
   "cell_type": "code",
   "execution_count": 100,
   "metadata": {},
   "outputs": [],
   "source": [
    "# Here other folks load card lists, but I grab them from json instead\n",
    "# m19_set = ds.create_set(\"data/m19_rating.tsv\", \"data/m19_land_rating.tsv\")\n",
    "\n",
    "with open('../../data/Allsets.json', 'r',encoding='utf-8') as json_data:\n",
    "    mtgJSON = json.load(json_data)\n",
    "    \n",
    "jsonSubset = mtgJSON['M19']['cards']\n",
    "\n",
    "thisSet = {card['name'] : card for card in jsonSubset}"
   ]
  },
  {
   "cell_type": "code",
   "execution_count": 99,
   "metadata": {},
   "outputs": [],
   "source": [
    "# thisSet[list(thisSet.keys())[0]] # Just to look at the fields"
   ]
  },
  {
   "cell_type": "code",
   "execution_count": null,
   "metadata": {},
   "outputs": [],
   "source": [
    "# One (simple) way to create a list of names:\n",
    "# nameList = pd.DataFrame(thisSet.keys(),columns = ['Name']) # Instead of relying on cvs, get names from json"
   ]
  },
  {
   "cell_type": "code",
   "execution_count": 114,
   "metadata": {},
   "outputs": [
    {
     "data": {
      "text/html": [
       "<div>\n",
       "<style scoped>\n",
       "    .dataframe tbody tr th:only-of-type {\n",
       "        vertical-align: middle;\n",
       "    }\n",
       "\n",
       "    .dataframe tbody tr th {\n",
       "        vertical-align: top;\n",
       "    }\n",
       "\n",
       "    .dataframe thead th {\n",
       "        text-align: right;\n",
       "    }\n",
       "</style>\n",
       "<table border=\"1\" class=\"dataframe\">\n",
       "  <thead>\n",
       "    <tr style=\"text-align: right;\">\n",
       "      <th></th>\n",
       "      <th>colors</th>\n",
       "      <th>rarity</th>\n",
       "      <th>type</th>\n",
       "      <th>convertedManaCost</th>\n",
       "      <th>Name</th>\n",
       "    </tr>\n",
       "    <tr>\n",
       "      <th>index</th>\n",
       "      <th></th>\n",
       "      <th></th>\n",
       "      <th></th>\n",
       "      <th></th>\n",
       "      <th></th>\n",
       "    </tr>\n",
       "  </thead>\n",
       "  <tbody>\n",
       "    <tr>\n",
       "      <th>1</th>\n",
       "      <td>[R]</td>\n",
       "      <td>common</td>\n",
       "      <td>Sorcery</td>\n",
       "      <td>3.0</td>\n",
       "      <td>Act of Treason</td>\n",
       "    </tr>\n",
       "    <tr>\n",
       "      <th>2</th>\n",
       "      <td>[W]</td>\n",
       "      <td>uncommon</td>\n",
       "      <td>Instant</td>\n",
       "      <td>2.0</td>\n",
       "      <td>Aegis of the Heavens</td>\n",
       "    </tr>\n",
       "    <tr>\n",
       "      <th>3</th>\n",
       "      <td>[U, W]</td>\n",
       "      <td>uncommon</td>\n",
       "      <td>Creature — Human Artificer</td>\n",
       "      <td>4.0</td>\n",
       "      <td>Aerial Engineer</td>\n",
       "    </tr>\n",
       "    <tr>\n",
       "      <th>4</th>\n",
       "      <td>[U]</td>\n",
       "      <td>uncommon</td>\n",
       "      <td>Enchantment — Aura</td>\n",
       "      <td>2.0</td>\n",
       "      <td>Aether Tunnel</td>\n",
       "    </tr>\n",
       "  </tbody>\n",
       "</table>\n",
       "</div>"
      ],
      "text/plain": [
       "       colors    rarity                        type  convertedManaCost  \\\n",
       "index                                                                    \n",
       "1         [R]    common                     Sorcery                3.0   \n",
       "2         [W]  uncommon                     Instant                2.0   \n",
       "3      [U, W]  uncommon  Creature — Human Artificer                4.0   \n",
       "4         [U]  uncommon          Enchantment — Aura                2.0   \n",
       "\n",
       "                       Name  \n",
       "index                        \n",
       "1            Act of Treason  \n",
       "2      Aegis of the Heavens  \n",
       "3           Aerial Engineer  \n",
       "4             Aether Tunnel  "
      ]
     },
     "execution_count": 114,
     "metadata": {},
     "output_type": "execute_result"
    }
   ],
   "source": [
    "# Another (fancier) way to create a list of names + lots of other useful stuff\n",
    "nameList = pd.DataFrame.from_dict(thisSet, orient='index', columns=['colors','rarity','type','convertedManaCost'])\n",
    "nameList['Name'] = a.index                 # We need names as a column, not an index\n",
    "nameList['index'] = range(len(nameList))\n",
    "nameList = nameList.set_index('index')     # And we need a normal numerical index\n",
    "nameList[1:5]"
   ]
  },
  {
   "cell_type": "code",
   "execution_count": 115,
   "metadata": {},
   "outputs": [],
   "source": [
    "# Process names, then handle weird card names (those with commas)\n",
    "\n",
    "nameList['Name'] = nameList.Name.str.replace(' ','_')\n",
    "\n",
    "# This utility method searches for \"Name\" column in nameList that have commas\n",
    "nameList, raw_drafts = ds.fix_commas(nameList, raw_drafts) # Returns a tuple, as it updates both\n",
    "# nameList.Name[nameList.Name.str.find(',')!=-1] # There should be no longer any cards with commas"
   ]
  },
  {
   "cell_type": "code",
   "execution_count": 104,
   "metadata": {},
   "outputs": [
    {
     "name": "stdout",
     "output_type": "stream",
     "text": [
      "Processing draft: 0.\n",
      "Processing draft: 10000.\n",
      "Processing draft: 20000.\n",
      "Processing draft: 30000.\n",
      "Processing draft: 40000.\n",
      "Processing draft: 50000.\n",
      "Processing draft: 60000.\n",
      "Processing draft: 70000.\n",
      "Processing draft: 80000.\n",
      "Processing draft: 90000.\n",
      "Processing draft: 100000.\n"
     ]
    }
   ],
   "source": [
    "# Process the drafts, deconstructing packs (hands) at every turn of every draft\n",
    "drafts = ds.process_drafts(raw_drafts)"
   ]
  },
  {
   "cell_type": "markdown",
   "metadata": {},
   "source": [
    "### Now this part below will just create weird bots and test them\n",
    "\n",
    "But for now I can as well sketch a random bot here."
   ]
  },
  {
   "cell_type": "code",
   "execution_count": 105,
   "metadata": {},
   "outputs": [],
   "source": [
    "# Splits into (toy) training and test sets. NOTE: For real training, use all drafts.\n",
    "subset_drafts = drafts[5000:5500]\n",
    "#train, test = train_test_split(subset_drafts, test_size = 0.4)"
   ]
  },
  {
   "cell_type": "code",
   "execution_count": 106,
   "metadata": {},
   "outputs": [
    {
     "data": {
      "text/plain": [
       "300"
      ]
     },
     "execution_count": 106,
     "metadata": {},
     "output_type": "execute_result"
    }
   ],
   "source": [
    "# nameList.Name = nameList.Name.str.lower()\n",
    "nCardsInSet = len(nameList)\n",
    "nCardsInSet"
   ]
  },
  {
   "cell_type": "code",
   "execution_count": 107,
   "metadata": {},
   "outputs": [],
   "source": [
    "class bot_random(object):\n",
    "    def __init__(self,thisSet):\n",
    "        self.thisSet = thisSet # a list with 'Name' column, containing the names\n",
    "        \n",
    "    def pickCard(self,pack,collection):\n",
    "        cardInd = np.random.choice(np.nonzero(hand)[0])\n",
    "        return cardInd"
   ]
  },
  {
   "cell_type": "code",
   "execution_count": 116,
   "metadata": {},
   "outputs": [
    {
     "name": "stdout",
     "output_type": "stream",
     "text": [
      "Simple accuracy: 0.21\n"
     ]
    }
   ],
   "source": [
    "bot = bot_random(nameList)\n",
    "\n",
    "# Count-hot encoding, then colling the bot\n",
    "pickCount = 0\n",
    "accuracySimple = 0\n",
    "\n",
    "for iDraft in range(20): #range(len(subset_drafts)):\n",
    "    draft = subset_drafts[iDraft]\n",
    "    collection = np.zeros(nCardsInSet+1)\n",
    "    for pack in draft:     \n",
    "        hand = np.zeros(nCardsInSet+1)\n",
    "        iCard = 0\n",
    "        for card in pack:\n",
    "            cardName = card\n",
    "            try:\n",
    "                pos = nameList[nameList.Name==cardName].index[0]\n",
    "            except:\n",
    "                pos = nCardsInSet # Use this very large number (300 for M19) if not found; for now\n",
    "                # print(\"---Unrecognized card:\") # All unrecognized cards here seem to be foil lands, so ignore 'em\n",
    "            hand[pos] += 1\n",
    "            \n",
    "            if card==pack[0]: # First card, the one that was picked\n",
    "                humanCard = pos\n",
    "                \n",
    "        # ----- that's where the bot should be called, with current collection and pack\n",
    "        botCard = bot.pickCard(hand, collection)\n",
    "        #print(len(pack),botCard, humanCard==botCard)\n",
    "        \n",
    "        pickCount += 1\n",
    "        if(humanCard==botCard):\n",
    "            accuracySimple += 1 # Simple count of picked cards\n",
    "        \n",
    "        collection[humanCard] += 1 # Update collection\n",
    "        \n",
    "print(\"Simple accuracy: %4.2f\" % (accuracySimple/pickCount))"
   ]
  },
  {
   "cell_type": "code",
   "execution_count": null,
   "metadata": {},
   "outputs": [],
   "source": [
    "# Gets bot accuracy for some packs\n",
    "tester = ds.BotTester(test)\n",
    "tester.evaluate_bots([draftsim_bot, sgd_bot], [\"Draftsim2018\", \"Draftsim2018SGD\"])\n",
    "tester.write_evaluations()"
   ]
  }
 ],
 "metadata": {
  "kernelspec": {
   "display_name": "Python 3",
   "language": "python",
   "name": "python3"
  },
  "language_info": {
   "codemirror_mode": {
    "name": "ipython",
    "version": 3
   },
   "file_extension": ".py",
   "mimetype": "text/x-python",
   "name": "python",
   "nbconvert_exporter": "python",
   "pygments_lexer": "ipython3",
   "version": "3.7.3"
  }
 },
 "nbformat": 4,
 "nbformat_minor": 2
}
