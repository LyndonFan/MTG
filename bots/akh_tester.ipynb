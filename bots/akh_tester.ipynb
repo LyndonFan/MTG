{
 "cells": [
  {
   "cell_type": "markdown",
   "metadata": {},
   "source": [
    "Testbed for bots, by Arseny, based on Henry's sketch"
   ]
  },
  {
   "cell_type": "code",
   "execution_count": 27,
   "metadata": {},
   "outputs": [],
   "source": [
    "import numpy as np\n",
    "import pandas as pd\n",
    "from operator import itemgetter\n",
    "from copy import deepcopy\n",
    "import json\n",
    "\n",
    "import draftsimtools as ds"
   ]
  },
  {
   "cell_type": "code",
   "execution_count": 28,
   "metadata": {},
   "outputs": [],
   "source": [
    "# Load M19 drafts\n",
    "raw_drafts = ds.load_drafts(\"../../data/m19_2.csv\")\n",
    "\n",
    "# m19_set = ds.create_set(\"data/m19_rating.tsv\", \"data/m19_land_rating.tsv\")"
   ]
  },
  {
   "cell_type": "code",
   "execution_count": 29,
   "metadata": {},
   "outputs": [],
   "source": [
    "with open('../../data/Allsets.json', 'r',encoding='utf-8') as json_data:\n",
    "    mtgJSON = json.load(json_data)\n",
    "    \n",
    "jsonSubset = mtgJSON['M19']['cards']\n",
    "\n",
    "thisSet = {card['name'] : card for card in jsonSubset}\n",
    "nameList = pd.DataFrame(thisSet.keys(),columns = ['Name']) # Instead of relying on cvs, get names from json"
   ]
  },
  {
   "cell_type": "code",
   "execution_count": 30,
   "metadata": {},
   "outputs": [],
   "source": [
    "raw_drafts = ds.fix_commas(nameList, raw_drafts)"
   ]
  },
  {
   "cell_type": "code",
   "execution_count": null,
   "metadata": {},
   "outputs": [],
   "source": []
  },
  {
   "cell_type": "code",
   "execution_count": 23,
   "metadata": {},
   "outputs": [
    {
     "ename": "AttributeError",
     "evalue": "'tuple' object has no attribute 'split'",
     "output_type": "error",
     "traceback": [
      "\u001b[1;31m---------------------------------------------------------------------------\u001b[0m",
      "\u001b[1;31mAttributeError\u001b[0m                            Traceback (most recent call last)",
      "\u001b[1;32m<ipython-input-23-7472fffc5617>\u001b[0m in \u001b[0;36m<module>\u001b[1;34m\u001b[0m\n\u001b[0;32m      1\u001b[0m \u001b[1;31m# Process the drafts\u001b[0m\u001b[1;33m\u001b[0m\u001b[1;33m\u001b[0m\u001b[1;33m\u001b[0m\u001b[0m\n\u001b[1;32m----> 2\u001b[1;33m \u001b[0mdrafts\u001b[0m \u001b[1;33m=\u001b[0m \u001b[0mds\u001b[0m\u001b[1;33m.\u001b[0m\u001b[0mprocess_drafts\u001b[0m\u001b[1;33m(\u001b[0m\u001b[0mraw_drafts\u001b[0m\u001b[1;33m)\u001b[0m\u001b[1;33m\u001b[0m\u001b[1;33m\u001b[0m\u001b[0m\n\u001b[0m\u001b[0;32m      3\u001b[0m \u001b[1;33m\u001b[0m\u001b[0m\n\u001b[0;32m      4\u001b[0m \u001b[1;31m# Splits into (toy) training and test sets. NOTE: For real training, use all drafts.\u001b[0m\u001b[1;33m\u001b[0m\u001b[1;33m\u001b[0m\u001b[1;33m\u001b[0m\u001b[0m\n\u001b[0;32m      5\u001b[0m \u001b[0msubset_drafts\u001b[0m \u001b[1;33m=\u001b[0m \u001b[0mdrafts\u001b[0m\u001b[1;33m[\u001b[0m\u001b[1;36m5000\u001b[0m\u001b[1;33m:\u001b[0m\u001b[1;36m5500\u001b[0m\u001b[1;33m]\u001b[0m\u001b[1;33m\u001b[0m\u001b[1;33m\u001b[0m\u001b[0m\n",
      "\u001b[1;32m~\\OneDrive\\Documents\\gitprojects\\MTG\\MTG-git\\bots\\draftsimtools\\load.py\u001b[0m in \u001b[0;36mprocess_drafts\u001b[1;34m(drafts, print_every)\u001b[0m\n\u001b[0;32m    218\u001b[0m \u001b[1;33m\u001b[0m\u001b[0m\n\u001b[0;32m    219\u001b[0m     \u001b[1;31m#Store each draft as a string.\u001b[0m\u001b[1;33m\u001b[0m\u001b[1;33m\u001b[0m\u001b[1;33m\u001b[0m\u001b[0m\n\u001b[1;32m--> 220\u001b[1;33m     \u001b[0mstring_drafts\u001b[0m \u001b[1;33m=\u001b[0m \u001b[0mdrafts\u001b[0m\u001b[1;33m.\u001b[0m\u001b[0msplit\u001b[0m\u001b[1;33m(\u001b[0m\u001b[1;34m\"\\n\"\u001b[0m\u001b[1;33m)\u001b[0m\u001b[1;33m\u001b[0m\u001b[1;33m\u001b[0m\u001b[0m\n\u001b[0m\u001b[0;32m    221\u001b[0m \u001b[1;33m\u001b[0m\u001b[0m\n\u001b[0;32m    222\u001b[0m     \u001b[1;31m#Store each draft as an unsorted list.\u001b[0m\u001b[1;33m\u001b[0m\u001b[1;33m\u001b[0m\u001b[1;33m\u001b[0m\u001b[0m\n",
      "\u001b[1;31mAttributeError\u001b[0m: 'tuple' object has no attribute 'split'"
     ]
    }
   ],
   "source": [
    "# Process the drafts\n",
    "drafts = ds.process_drafts(raw_drafts)\n",
    "\n",
    "# Splits into (toy) training and test sets. NOTE: For real training, use all drafts.\n",
    "#subset_drafts = drafts[5000:5500]\n",
    "#train, test = train_test_split(subset_drafts, test_size = 0.4)"
   ]
  },
  {
   "cell_type": "code",
   "execution_count": null,
   "metadata": {},
   "outputs": [],
   "source": [
    "# Creates a bot that implements current Draftsim logic\n",
    "draftsim_bot = ds.DraftsimBot(rating_dict)\n",
    "\n",
    "# Creates a bot that implements current Draftsim logic with SGD optimization\n",
    "sgd_bot = ds.DraftsimSGDBot(rating_dict)\n",
    "epochs = 5\n",
    "for x in range(epochs):\n",
    "    sgd_bot.sgd_optimization(train, 0.05)\n",
    "print(\"Done optimizing SGD bot\")\n",
    "\n",
    "# Gets bot accuracy for some packs\n",
    "tester = ds.BotTester(test)\n",
    "tester.evaluate_bots([draftsim_bot, sgd_bot], [\"Draftsim2018\", \"Draftsim2018SGD\"])\n",
    "tester.write_evaluations()"
   ]
  }
 ],
 "metadata": {
  "kernelspec": {
   "display_name": "Python 3",
   "language": "python",
   "name": "python3"
  },
  "language_info": {
   "codemirror_mode": {
    "name": "ipython",
    "version": 3
   },
   "file_extension": ".py",
   "mimetype": "text/x-python",
   "name": "python",
   "nbconvert_exporter": "python",
   "pygments_lexer": "ipython3",
   "version": "3.7.3"
  }
 },
 "nbformat": 4,
 "nbformat_minor": 2
}
