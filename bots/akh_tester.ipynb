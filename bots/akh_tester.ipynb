{
 "cells": [
  {
   "cell_type": "markdown",
   "metadata": {},
   "source": [
    "Testbed for bots, by Arseny, based on Henry's testing_grounds."
   ]
  },
  {
   "cell_type": "code",
   "execution_count": 1,
   "metadata": {},
   "outputs": [],
   "source": [
    "import numpy as np\n",
    "import pandas as pd\n",
    "from operator import itemgetter\n",
    "from copy import deepcopy\n",
    "import json\n",
    "\n",
    "import draftsimtools as ds"
   ]
  },
  {
   "cell_type": "code",
   "execution_count": 2,
   "metadata": {},
   "outputs": [],
   "source": [
    "# Load M19 drafts\n",
    "raw_drafts = ds.load_drafts(\"../../data/m19_2.csv\")"
   ]
  },
  {
   "cell_type": "code",
   "execution_count": 3,
   "metadata": {},
   "outputs": [],
   "source": [
    "# Here other folks load card lists, but I grab them from json instead\n",
    "# m19_set = ds.create_set(\"data/m19_rating.tsv\", \"data/m19_land_rating.tsv\")\n",
    "\n",
    "with open('../../data/Allsets.json', 'r',encoding='utf-8') as json_data:\n",
    "    mtgJSON = json.load(json_data)\n",
    "    \n",
    "jsonSubset = mtgJSON['M19']['cards']\n",
    "\n",
    "thisSet = {card['name'] : card for card in jsonSubset}\n",
    "nameList = pd.DataFrame(thisSet.keys(),columns = ['Name']) # Instead of relying on cvs, get names from json"
   ]
  },
  {
   "cell_type": "code",
   "execution_count": 5,
   "metadata": {},
   "outputs": [],
   "source": [
    "nameList['Name'] = nameList.Name.str.replace(' ','_')\n",
    "# nameList.Name[nameList.Name.str.find(',')!=-1] # List of all names with a comma"
   ]
  },
  {
   "cell_type": "code",
   "execution_count": 6,
   "metadata": {},
   "outputs": [
    {
     "data": {
      "text/plain": [
       "Series([], Name: Name, dtype: object)"
      ]
     },
     "execution_count": 6,
     "metadata": {},
     "output_type": "execute_result"
    }
   ],
   "source": [
    "# This utility method searches for \"Name\" column in nameList that have commas\n",
    "nameList, raw_drafts = ds.fix_commas(nameList, raw_drafts) # Returns a tuple, as it updates both\n",
    "nameList.Name[nameList.Name.str.find(',')!=-1] # There should be no longer any cards with commas"
   ]
  },
  {
   "cell_type": "code",
   "execution_count": 7,
   "metadata": {},
   "outputs": [
    {
     "name": "stdout",
     "output_type": "stream",
     "text": [
      "Processing draft: 0.\n",
      "Processing draft: 10000.\n",
      "Processing draft: 20000.\n",
      "Processing draft: 30000.\n",
      "Processing draft: 40000.\n",
      "Processing draft: 50000.\n",
      "Processing draft: 60000.\n",
      "Processing draft: 70000.\n",
      "Processing draft: 80000.\n",
      "Processing draft: 90000.\n",
      "Processing draft: 100000.\n"
     ]
    }
   ],
   "source": [
    "# Process the drafts, deconstructing packs (hands) at every turn of every draft\n",
    "drafts = ds.process_drafts(raw_drafts)"
   ]
  },
  {
   "cell_type": "code",
   "execution_count": 15,
   "metadata": {},
   "outputs": [],
   "source": [
    "# Splits into (toy) training and test sets. NOTE: For real training, use all drafts.\n",
    "subset_drafts = drafts[5000:5500]\n",
    "#train, test = train_test_split(subset_drafts, test_size = 0.4)"
   ]
  },
  {
   "cell_type": "markdown",
   "metadata": {},
   "source": [
    "### Now this part below will just create weird bots and test them\n",
    "\n",
    "But for now I can as well sketch a random bot here."
   ]
  },
  {
   "cell_type": "code",
   "execution_count": null,
   "metadata": {},
   "outputs": [],
   "source": [
    "# Here Henry created bots, but I do everything manually\n",
    "# Creates a bot that implements current Draftsim logic\n",
    "# draftsim_bot = ds.DraftsimBot(rating_dict)"
   ]
  },
  {
   "cell_type": "code",
   "execution_count": 16,
   "metadata": {},
   "outputs": [
    {
     "data": {
      "text/plain": [
       "300"
      ]
     },
     "execution_count": 16,
     "metadata": {},
     "output_type": "execute_result"
    }
   ],
   "source": [
    "# nameList.Name = nameList.Name.str.lower()\n",
    "nCardsInSet = len(nameList)\n",
    "nCardsInSet"
   ]
  },
  {
   "cell_type": "code",
   "execution_count": 10,
   "metadata": {},
   "outputs": [],
   "source": [
    "# nameList.Name[nameList.Name.str[0]=='T']"
   ]
  },
  {
   "cell_type": "code",
   "execution_count": 17,
   "metadata": {},
   "outputs": [
    {
     "data": {
      "text/plain": [
       "array([1, 3], dtype=int64)"
      ]
     },
     "execution_count": 17,
     "metadata": {},
     "output_type": "execute_result"
    }
   ],
   "source": [
    "a = [0, 1, 0, 1, 0, 0, 0, 0]\n",
    "np.nonzero(a)[0]"
   ]
  },
  {
   "cell_type": "code",
   "execution_count": 34,
   "metadata": {},
   "outputs": [
    {
     "name": "stdout",
     "output_type": "stream",
     "text": [
      "15 276 False\n",
      "14 300 False\n",
      "13 243 False\n",
      "12 214 False\n",
      "11 151 False\n",
      "10 151 False\n",
      "9 179 False\n",
      "8 300 False\n",
      "7 300 False\n",
      "6 179 True\n",
      "5 111 False\n",
      "4 46 False\n",
      "3 269 True\n",
      "2 300 False\n",
      "1 300 True\n",
      "15 143 True\n",
      "14 114 False\n",
      "13 272 True\n",
      "12 300 False\n",
      "11 86 False\n",
      "10 300 False\n",
      "9 156 False\n",
      "8 294 False\n",
      "7 29 False\n",
      "6 300 False\n",
      "5 276 False\n",
      "4 126 False\n",
      "3 72 True\n",
      "2 117 False\n",
      "1 156 True\n",
      "15 267 False\n",
      "14 277 False\n",
      "13 296 False\n",
      "12 267 False\n",
      "11 245 False\n",
      "10 163 False\n",
      "9 211 False\n",
      "8 79 False\n",
      "7 92 False\n",
      "6 211 False\n",
      "5 47 True\n",
      "4 300 False\n",
      "3 300 False\n",
      "2 300 False\n",
      "1 300 True\n"
     ]
    }
   ],
   "source": [
    "# Count-hot encoding\n",
    "for iDraft in range(11,12): #range(len(subset_drafts)):\n",
    "    draft = subset_drafts[iDraft]\n",
    "    collection = np.zeros(nCardsInSet+1)\n",
    "    for pack in draft:     \n",
    "        hand = np.zeros(nCardsInSet+1)\n",
    "        iCard = 0\n",
    "        for card in pack:\n",
    "            cardName = card\n",
    "            try:\n",
    "                pos = nameList[nameList.Name==cardName].index[0]\n",
    "            except:\n",
    "                pos = nCardsInSet # Use this very large number (300 for M19) if not found; for now\n",
    "                # print(\"---Unrecognized card:\") # All unrecognized cards here seem to be foil lands, so ignore 'em\n",
    "            hand[pos] += 1\n",
    "            \n",
    "            if card==pack[0]: # First card, the one that was picked\n",
    "                humanCard = pos\n",
    "                \n",
    "        # ----- that's where the bot should be called, with current collection and pack\n",
    "        botCard = np.random.choice(np.nonzero(hand)[0])\n",
    "        print(len(pack),botCard, humanCard==botCard)\n",
    "        \n",
    "        collection[humanCard] += 1"
   ]
  },
  {
   "cell_type": "code",
   "execution_count": null,
   "metadata": {},
   "outputs": [],
   "source": [
    "# Gets bot accuracy for some packs\n",
    "tester = ds.BotTester(test)\n",
    "tester.evaluate_bots([draftsim_bot, sgd_bot], [\"Draftsim2018\", \"Draftsim2018SGD\"])\n",
    "tester.write_evaluations()"
   ]
  }
 ],
 "metadata": {
  "kernelspec": {
   "display_name": "Python 3",
   "language": "python",
   "name": "python3"
  },
  "language_info": {
   "codemirror_mode": {
    "name": "ipython",
    "version": 3
   },
   "file_extension": ".py",
   "mimetype": "text/x-python",
   "name": "python",
   "nbconvert_exporter": "python",
   "pygments_lexer": "ipython3",
   "version": "3.7.3"
  }
 },
 "nbformat": 4,
 "nbformat_minor": 2
}
