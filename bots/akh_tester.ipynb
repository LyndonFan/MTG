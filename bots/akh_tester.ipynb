{
 "cells": [
  {
   "cell_type": "markdown",
   "metadata": {},
   "source": [
    "Bot testbed testbed (a testbed for a testbed) by Arseny"
   ]
  },
  {
   "cell_type": "code",
   "execution_count": 1,
   "metadata": {},
   "outputs": [],
   "source": [
    "import numpy as np\n",
    "import pandas as pd\n",
    "from operator import itemgetter\n",
    "from copy import deepcopy\n",
    "import json\n",
    "\n",
    "import draftsimtools as ds"
   ]
  },
  {
   "cell_type": "code",
   "execution_count": 2,
   "metadata": {},
   "outputs": [],
   "source": [
    "# Load M19 drafts\n",
    "raw_drafts = ds.load_drafts(\"../../data/m19_2.csv\")"
   ]
  },
  {
   "cell_type": "code",
   "execution_count": 3,
   "metadata": {},
   "outputs": [],
   "source": [
    "# Here other folks load card lists, but I grab them from json instead\n",
    "# m19_set = ds.create_set(\"data/m19_rating.tsv\", \"data/m19_land_rating.tsv\")\n",
    "\n",
    "with open('../../data/Allsets.json', 'r',encoding='utf-8') as json_data:\n",
    "    mtgJSON = json.load(json_data)\n",
    "    \n",
    "jsonSubset = mtgJSON['M19']['cards']\n",
    "\n",
    "thisSet = {card['name'] : card for card in jsonSubset}"
   ]
  },
  {
   "cell_type": "code",
   "execution_count": null,
   "metadata": {},
   "outputs": [],
   "source": [
    "# One (simple) way to create a list of names:\n",
    "# nameList = pd.DataFrame(thisSet.keys(),columns = ['Name']) # Instead of relying on cvs, get names from json"
   ]
  },
  {
   "cell_type": "code",
   "execution_count": 4,
   "metadata": {},
   "outputs": [
    {
     "data": {
      "text/html": [
       "<div>\n",
       "<style scoped>\n",
       "    .dataframe tbody tr th:only-of-type {\n",
       "        vertical-align: middle;\n",
       "    }\n",
       "\n",
       "    .dataframe tbody tr th {\n",
       "        vertical-align: top;\n",
       "    }\n",
       "\n",
       "    .dataframe thead th {\n",
       "        text-align: right;\n",
       "    }\n",
       "</style>\n",
       "<table border=\"1\" class=\"dataframe\">\n",
       "  <thead>\n",
       "    <tr style=\"text-align: right;\">\n",
       "      <th></th>\n",
       "      <th>colors</th>\n",
       "      <th>rarity</th>\n",
       "      <th>type</th>\n",
       "      <th>convertedManaCost</th>\n",
       "      <th>Name</th>\n",
       "    </tr>\n",
       "    <tr>\n",
       "      <th>index</th>\n",
       "      <th></th>\n",
       "      <th></th>\n",
       "      <th></th>\n",
       "      <th></th>\n",
       "      <th></th>\n",
       "    </tr>\n",
       "  </thead>\n",
       "  <tbody>\n",
       "    <tr>\n",
       "      <th>1</th>\n",
       "      <td>[R]</td>\n",
       "      <td>common</td>\n",
       "      <td>Sorcery</td>\n",
       "      <td>3.0</td>\n",
       "      <td>Act of Treason</td>\n",
       "    </tr>\n",
       "    <tr>\n",
       "      <th>2</th>\n",
       "      <td>[W]</td>\n",
       "      <td>uncommon</td>\n",
       "      <td>Instant</td>\n",
       "      <td>2.0</td>\n",
       "      <td>Aegis of the Heavens</td>\n",
       "    </tr>\n",
       "    <tr>\n",
       "      <th>3</th>\n",
       "      <td>[U, W]</td>\n",
       "      <td>uncommon</td>\n",
       "      <td>Creature — Human Artificer</td>\n",
       "      <td>4.0</td>\n",
       "      <td>Aerial Engineer</td>\n",
       "    </tr>\n",
       "    <tr>\n",
       "      <th>4</th>\n",
       "      <td>[U]</td>\n",
       "      <td>uncommon</td>\n",
       "      <td>Enchantment — Aura</td>\n",
       "      <td>2.0</td>\n",
       "      <td>Aether Tunnel</td>\n",
       "    </tr>\n",
       "  </tbody>\n",
       "</table>\n",
       "</div>"
      ],
      "text/plain": [
       "       colors    rarity                        type  convertedManaCost  \\\n",
       "index                                                                    \n",
       "1         [R]    common                     Sorcery                3.0   \n",
       "2         [W]  uncommon                     Instant                2.0   \n",
       "3      [U, W]  uncommon  Creature — Human Artificer                4.0   \n",
       "4         [U]  uncommon          Enchantment — Aura                2.0   \n",
       "\n",
       "                       Name  \n",
       "index                        \n",
       "1            Act of Treason  \n",
       "2      Aegis of the Heavens  \n",
       "3           Aerial Engineer  \n",
       "4             Aether Tunnel  "
      ]
     },
     "execution_count": 4,
     "metadata": {},
     "output_type": "execute_result"
    }
   ],
   "source": [
    "# Another (fancier) way to create a list of names + lots of other useful stuff\n",
    "nameList = pd.DataFrame.from_dict(thisSet, orient='index', columns=['colors','rarity','type','convertedManaCost'])\n",
    "nameList['Name'] = nameList.index                 # We need names as a column, not an index\n",
    "nameList['index'] = range(len(nameList))\n",
    "nameList = nameList.set_index('index')     # And we need a normal numerical index\n",
    "nameList[1:5]"
   ]
  },
  {
   "cell_type": "code",
   "execution_count": 5,
   "metadata": {},
   "outputs": [],
   "source": [
    "# Process names, then handle weird card names (those with commas)\n",
    "\n",
    "nameList['Name'] = nameList.Name.str.replace(' ','_')\n",
    "\n",
    "# This utility method searches for \"Name\" column in nameList that have commas\n",
    "nameList, raw_drafts = ds.fix_commas(nameList, raw_drafts) # Returns a tuple, as it updates both\n",
    "# nameList.Name[nameList.Name.str.find(',')!=-1] # There should be no longer any cards with commas"
   ]
  },
  {
   "cell_type": "code",
   "execution_count": 6,
   "metadata": {},
   "outputs": [
    {
     "name": "stdout",
     "output_type": "stream",
     "text": [
      "Processing draft: 0.\n",
      "Processing draft: 10000.\n",
      "Processing draft: 20000.\n",
      "Processing draft: 30000.\n",
      "Processing draft: 40000.\n",
      "Processing draft: 50000.\n",
      "Processing draft: 60000.\n",
      "Processing draft: 70000.\n",
      "Processing draft: 80000.\n",
      "Processing draft: 90000.\n",
      "Processing draft: 100000.\n"
     ]
    }
   ],
   "source": [
    "# Process the drafts, deconstructing packs (hands) at every turn of every draft\n",
    "drafts = ds.process_drafts(raw_drafts)"
   ]
  },
  {
   "cell_type": "markdown",
   "metadata": {},
   "source": [
    "### Now this part below creates bots and tests them"
   ]
  },
  {
   "cell_type": "code",
   "execution_count": 7,
   "metadata": {},
   "outputs": [],
   "source": [
    "# Splits into (toy) training and test sets. NOTE: For real training, use all drafts.\n",
    "subset_drafts = drafts[5000:5500]\n",
    "#train, test = train_test_split(subset_drafts, test_size = 0.4)"
   ]
  },
  {
   "cell_type": "code",
   "execution_count": 15,
   "metadata": {},
   "outputs": [],
   "source": [
    "class bot_random(object):\n",
    "    def __init__(self,nameList):\n",
    "        self.nameList = nameList # a list with 'Name' column, containing the names\n",
    "        \n",
    "    def pickCard(self,longVector):\n",
    "        nCards = int(len(longVector)/2)\n",
    "        collection = longVector[0:nCards]\n",
    "        pack = longVector[nCards:]\n",
    "        \n",
    "        # botCard = np.random.choice(np.nonzero(pack)[0])\n",
    "        \n",
    "        # Create fake pick preferences (fake, because for this bot it's )\n",
    "        preferences = np.random.uniform(size=nCards)*(pack>0) # Mask a random vector with available cards\n",
    "        return preferences"
   ]
  },
  {
   "cell_type": "code",
   "execution_count": 9,
   "metadata": {},
   "outputs": [],
   "source": [
    "# --- Naive bot (drafts like a 5-years-old)\n",
    "class bot_kiddo(object):\n",
    "    def __init__(self,nameList):\n",
    "        self.nameList = nameList # a list with 'Name' column, containing the names\n",
    "        \n",
    "    def pickCard(self,longVector):\n",
    "        nCards = int(len(longVector)/2)\n",
    "        collection = longVector[0:nCards]\n",
    "        pack = longVector[nCards:]\n",
    "        \n",
    "        # - Analyze collection:\n",
    "        colorStats = {'W':0, 'U':0, 'B':0, 'R':0, 'G':0}\n",
    "        for subList in list(color for color in self.nameList.iloc[np.nonzero(collection)[0]].colors):\n",
    "            for item in subList:\n",
    "                colorStats[item] += 1\n",
    "        currentColor = max(colorStats, key=colorStats.get) \n",
    "        # Comment for this notation of max: Passes each iterable to the key function, \n",
    "        # Returns largest iterable based on the return value of the key function\n",
    "        # print(colorStats, currentColor)\n",
    "        \n",
    "        # - Make the pick:\n",
    "        possibleCards = np.nonzero(packVector)[0]\n",
    "        rating = np.zeros(len(possibleCards))\n",
    "        condition = self.nameList.iloc[possibleCards].rarity.str[0]=='r' # rares\n",
    "        rating[condition] += 5\n",
    "        condition = self.nameList.iloc[possibleCards].rarity.str[0]=='u' # uncommons\n",
    "        rating[condition] += 2\n",
    "        condition = list(currentColor in color \n",
    "                         for color in self.nameList.iloc[possibleCards].colors) # Follow the color\n",
    "        rating[condition] += 1\n",
    "        #print(rating)\n",
    "        \n",
    "        botCard = possibleCards[np.argmax(rating)]\n",
    "        \n",
    "        return botCard"
   ]
  },
  {
   "cell_type": "code",
   "execution_count": 10,
   "metadata": {},
   "outputs": [
    {
     "name": "stdout",
     "output_type": "stream",
     "text": [
      "---Unrecognized card:  Forest_3\n",
      "---Unrecognized card:  Swamp_2\n",
      "---Unrecognized card:  Mountain_4\n",
      "---Unrecognized card:  Forest_4\n",
      "---Unrecognized card:  Mountain_1\n",
      "---Unrecognized card:  Swamp_3\n",
      "---Unrecognized card:  Island_2\n",
      "---Unrecognized card:  Island_1\n",
      "---Unrecognized card:  Forest_2\n",
      "---Unrecognized card:  Swamp_4\n",
      "---Unrecognized card:  Forest_1\n",
      "---Unrecognized card:  Island_4\n",
      "---Unrecognized card:  Plains_1\n",
      "---Unrecognized card:  Mountain_2\n",
      "---Unrecognized card:  Swamp_1\n",
      "---Unrecognized card:  Island_3\n",
      "---Unrecognized card:  Plains_4\n",
      "---Unrecognized card:  Mountain_3\n",
      "---Unrecognized card:  Plains_3\n",
      "---Unrecognized card:  Plains_2\n",
      "Draft #100\n"
     ]
    }
   ],
   "source": [
    "# Make sure all cards are listed in the nameList; update if necessary\n",
    "for iDraft in range(200): #range(len(subset_drafts)):\n",
    "    if iDraft>0 and iDraft % 100 == 0:\n",
    "        print(\"Draft #%d\" % iDraft)\n",
    "    draft = subset_drafts[iDraft]\n",
    "    for pack in draft:     \n",
    "        for cardName in pack:\n",
    "            try:\n",
    "                pos = nameList[nameList.Name==cardName].index[0]\n",
    "            except:\n",
    "                print(\"---Unrecognized card: \",cardName) # All unrecognized cards here seem to be foil lands\n",
    "                #  \tcolors \trarity \ttype \tconvertedManaCost \tName\n",
    "                nameList = nameList.append({'colors':[],'rarity':'weird','type':'weird',\n",
    "                                            'convertedManaCost':0,'Name':cardName},ignore_index=True)"
   ]
  },
  {
   "cell_type": "code",
   "execution_count": 16,
   "metadata": {},
   "outputs": [
    {
     "ename": "ValueError",
     "evalue": "operands could not be broadcast together with shapes (320,) (15,) ",
     "output_type": "error",
     "traceback": [
      "\u001b[1;31m---------------------------------------------------------------------------\u001b[0m",
      "\u001b[1;31mValueError\u001b[0m                                Traceback (most recent call last)",
      "\u001b[1;32m<ipython-input-16-92c051b51405>\u001b[0m in \u001b[0;36m<module>\u001b[1;34m\u001b[0m\n\u001b[0;32m     22\u001b[0m \u001b[1;33m\u001b[0m\u001b[0m\n\u001b[0;32m     23\u001b[0m         \u001b[1;31m# ----- that's where the bot should be called, with current collection and pack\u001b[0m\u001b[1;33m\u001b[0m\u001b[1;33m\u001b[0m\u001b[1;33m\u001b[0m\u001b[0m\n\u001b[1;32m---> 24\u001b[1;33m         \u001b[0mratings\u001b[0m \u001b[1;33m=\u001b[0m \u001b[0mbot\u001b[0m\u001b[1;33m.\u001b[0m\u001b[0mpickCard\u001b[0m\u001b[1;33m(\u001b[0m\u001b[0mnp\u001b[0m\u001b[1;33m.\u001b[0m\u001b[0mconcatenate\u001b[0m\u001b[1;33m(\u001b[0m\u001b[1;33m[\u001b[0m\u001b[0mcollection\u001b[0m\u001b[1;33m,\u001b[0m \u001b[0mpackVector\u001b[0m\u001b[1;33m]\u001b[0m\u001b[1;33m)\u001b[0m\u001b[1;33m)\u001b[0m\u001b[1;33m\u001b[0m\u001b[1;33m\u001b[0m\u001b[0m\n\u001b[0m\u001b[0;32m     25\u001b[0m         \u001b[0mbotCard\u001b[0m \u001b[1;33m=\u001b[0m \u001b[0mnp\u001b[0m\u001b[1;33m.\u001b[0m\u001b[0margmax\u001b[0m\u001b[1;33m(\u001b[0m\u001b[0mratings\u001b[0m\u001b[1;33m)\u001b[0m\u001b[1;33m\u001b[0m\u001b[1;33m\u001b[0m\u001b[0m\n\u001b[0;32m     26\u001b[0m \u001b[1;33m\u001b[0m\u001b[0m\n",
      "\u001b[1;32m<ipython-input-15-05a2a471c009>\u001b[0m in \u001b[0;36mpickCard\u001b[1;34m(self, longVector)\u001b[0m\n\u001b[0;32m     11\u001b[0m \u001b[1;33m\u001b[0m\u001b[0m\n\u001b[0;32m     12\u001b[0m         \u001b[1;31m# Create fake pick preferences (fake, because for this bot it's )\u001b[0m\u001b[1;33m\u001b[0m\u001b[1;33m\u001b[0m\u001b[1;33m\u001b[0m\u001b[0m\n\u001b[1;32m---> 13\u001b[1;33m         \u001b[0mpreferences\u001b[0m \u001b[1;33m=\u001b[0m \u001b[0mnp\u001b[0m\u001b[1;33m.\u001b[0m\u001b[0mrandom\u001b[0m\u001b[1;33m.\u001b[0m\u001b[0muniform\u001b[0m\u001b[1;33m(\u001b[0m\u001b[0msize\u001b[0m\u001b[1;33m=\u001b[0m\u001b[0mnCards\u001b[0m\u001b[1;33m)\u001b[0m\u001b[1;33m*\u001b[0m\u001b[0mnp\u001b[0m\u001b[1;33m.\u001b[0m\u001b[0mnonzero\u001b[0m\u001b[1;33m(\u001b[0m\u001b[0mpack\u001b[0m\u001b[1;33m)\u001b[0m\u001b[1;33m[\u001b[0m\u001b[1;36m0\u001b[0m\u001b[1;33m]\u001b[0m\u001b[1;33m\u001b[0m\u001b[1;33m\u001b[0m\u001b[0m\n\u001b[0m\u001b[0;32m     14\u001b[0m         \u001b[1;32mreturn\u001b[0m \u001b[0mpreferences\u001b[0m\u001b[1;33m\u001b[0m\u001b[1;33m\u001b[0m\u001b[0m\n",
      "\u001b[1;31mValueError\u001b[0m: operands could not be broadcast together with shapes (320,) (15,) "
     ]
    }
   ],
   "source": [
    "bot = bot_random(nameList)\n",
    "#bot = bot_kiddo(nameList)\n",
    "\n",
    "nCardsInSet = len(nameList)\n",
    "pickCount = 0\n",
    "accuracySimple = 0\n",
    "\n",
    "for iDraft in range(50): #range(len(subset_drafts)): # <----- Uncomment this to ran it on a full dataset\n",
    "    if iDraft>0 and iDraft % 100 == 0:\n",
    "        print(\"Draft #%d\" % iDraft)\n",
    "    draft = subset_drafts[iDraft]\n",
    "    collection = np.zeros(nCardsInSet)\n",
    "    for pack in draft:     \n",
    "        packVector = np.zeros(nCardsInSet)\n",
    "        iCard = 0\n",
    "        for cardName in pack:\n",
    "            iCard += 1\n",
    "            pos = nameList[nameList.Name==cardName].index[0]            \n",
    "            packVector[pos] += 1  # Mark the card            \n",
    "            if cardName==pack[0]: # If the first card in the pack, note it, as the Human picked it\n",
    "                humanCard = pos\n",
    "                \n",
    "        # ----- that's where the bot should be called, with current collection and pack\n",
    "        ratings = bot.pickCard(np.concatenate([collection, packVector]))\n",
    "        botCard = np.argmax(ratings)\n",
    "        \n",
    "        #print(iDraft,iCard,nameList.iloc[humanCard]['Name'],nameList.iloc[humanCard]['colors'],\n",
    "        #                   nameList.iloc[botCard]['Name'],  nameList.iloc[botCard]['colors'])\n",
    "        \n",
    "        # --- Update accuracy measurements and the collection:\n",
    "        pickCount += 1\n",
    "        if(humanCard==botCard):\n",
    "            accuracySimple += 1 # Simple count of picked cards\n",
    "        \n",
    "        collection[humanCard] += 1 # Update collection\n",
    "        \n",
    "print(\"Simple accuracy: %4.2f\" % (accuracySimple/pickCount))"
   ]
  },
  {
   "cell_type": "code",
   "execution_count": null,
   "metadata": {},
   "outputs": [],
   "source": []
  },
  {
   "cell_type": "code",
   "execution_count": null,
   "metadata": {},
   "outputs": [],
   "source": []
  },
  {
   "cell_type": "code",
   "execution_count": null,
   "metadata": {},
   "outputs": [],
   "source": []
  },
  {
   "cell_type": "code",
   "execution_count": null,
   "metadata": {},
   "outputs": [],
   "source": [
    "# Playground for iterating through a list of lists\n",
    "colorStats = {'W':0, 'U':0, 'B':0, 'R':0, 'G':0}\n",
    "colorData = [['W'] , ['W','B'], ['U']]\n",
    "for subList in colorData:\n",
    "    for item in subList:\n",
    "        colorStats[item] += 1\n",
    "    \n",
    "colorStats"
   ]
  },
  {
   "cell_type": "code",
   "execution_count": null,
   "metadata": {},
   "outputs": [],
   "source": [
    "# Playground for subsetting and quering\n",
    "\n",
    "possible = np.array([3,5,15,28])\n",
    "# nameList.iloc[possible].rarity.str[0]=='u' # A good stub to work with rarity\n",
    "print(nameList.iloc[possible].colors)\n",
    "\n",
    "condition = list('W' in color for color in nameList.iloc[possible].colors)\n",
    "print(condition)\n",
    "\n",
    "possible[condition]"
   ]
  }
 ],
 "metadata": {
  "kernelspec": {
   "display_name": "Python 3",
   "language": "python",
   "name": "python3"
  },
  "language_info": {
   "codemirror_mode": {
    "name": "ipython",
    "version": 3
   },
   "file_extension": ".py",
   "mimetype": "text/x-python",
   "name": "python",
   "nbconvert_exporter": "python",
   "pygments_lexer": "ipython3",
   "version": "3.7.3"
  }
 },
 "nbformat": 4,
 "nbformat_minor": 2
}
