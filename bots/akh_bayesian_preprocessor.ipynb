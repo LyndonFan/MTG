{
 "cells": [
  {
   "cell_type": "markdown",
   "metadata": {},
   "source": [
    "A notebook to calculate data for the Bayesian bot (analogous to training for ML bots)"
   ]
  },
  {
   "cell_type": "code",
   "execution_count": 17,
   "metadata": {},
   "outputs": [],
   "source": [
    "import numpy as np\n",
    "import pandas as pd\n",
    "import matplotlib.pyplot as plt\n",
    "from operator import itemgetter\n",
    "from copy import deepcopy\n",
    "import json\n",
    "\n",
    "import draftsimtools as ds"
   ]
  },
  {
   "cell_type": "code",
   "execution_count": 2,
   "metadata": {},
   "outputs": [],
   "source": [
    "# Load M19 drafts\n",
    "raw_drafts = ds.load_drafts(\"../../data/m19_2.csv\")"
   ]
  },
  {
   "cell_type": "code",
   "execution_count": 3,
   "metadata": {},
   "outputs": [],
   "source": [
    "# Here other folks load card lists, but I grab them from json instead\n",
    "# m19_set = ds.create_set(\"data/m19_rating.tsv\", \"data/m19_land_rating.tsv\")\n",
    "with open('../../data/Allsets.json', 'r',encoding='utf-8') as json_data:\n",
    "    mtgJSON = json.load(json_data)\n",
    "    \n",
    "jsonSubset = mtgJSON['M19']['cards']\n",
    "thisSet = {card['name'] : card for card in jsonSubset}"
   ]
  },
  {
   "cell_type": "code",
   "execution_count": 5,
   "metadata": {},
   "outputs": [
    {
     "data": {
      "text/html": [
       "<div>\n",
       "<style scoped>\n",
       "    .dataframe tbody tr th:only-of-type {\n",
       "        vertical-align: middle;\n",
       "    }\n",
       "\n",
       "    .dataframe tbody tr th {\n",
       "        vertical-align: top;\n",
       "    }\n",
       "\n",
       "    .dataframe thead th {\n",
       "        text-align: right;\n",
       "    }\n",
       "</style>\n",
       "<table border=\"1\" class=\"dataframe\">\n",
       "  <thead>\n",
       "    <tr style=\"text-align: right;\">\n",
       "      <th></th>\n",
       "      <th>colors</th>\n",
       "      <th>rarity</th>\n",
       "      <th>type</th>\n",
       "      <th>convertedManaCost</th>\n",
       "      <th>Name</th>\n",
       "    </tr>\n",
       "    <tr>\n",
       "      <th>index</th>\n",
       "      <th></th>\n",
       "      <th></th>\n",
       "      <th></th>\n",
       "      <th></th>\n",
       "      <th></th>\n",
       "    </tr>\n",
       "  </thead>\n",
       "  <tbody>\n",
       "    <tr>\n",
       "      <th>1</th>\n",
       "      <td>[R]</td>\n",
       "      <td>common</td>\n",
       "      <td>Sorcery</td>\n",
       "      <td>3.0</td>\n",
       "      <td>Act of Treason</td>\n",
       "    </tr>\n",
       "    <tr>\n",
       "      <th>2</th>\n",
       "      <td>[W]</td>\n",
       "      <td>uncommon</td>\n",
       "      <td>Instant</td>\n",
       "      <td>2.0</td>\n",
       "      <td>Aegis of the Heavens</td>\n",
       "    </tr>\n",
       "    <tr>\n",
       "      <th>3</th>\n",
       "      <td>[U, W]</td>\n",
       "      <td>uncommon</td>\n",
       "      <td>Creature — Human Artificer</td>\n",
       "      <td>4.0</td>\n",
       "      <td>Aerial Engineer</td>\n",
       "    </tr>\n",
       "    <tr>\n",
       "      <th>4</th>\n",
       "      <td>[U]</td>\n",
       "      <td>uncommon</td>\n",
       "      <td>Enchantment — Aura</td>\n",
       "      <td>2.0</td>\n",
       "      <td>Aether Tunnel</td>\n",
       "    </tr>\n",
       "  </tbody>\n",
       "</table>\n",
       "</div>"
      ],
      "text/plain": [
       "       colors    rarity                        type  convertedManaCost  \\\n",
       "index                                                                    \n",
       "1         [R]    common                     Sorcery                3.0   \n",
       "2         [W]  uncommon                     Instant                2.0   \n",
       "3      [U, W]  uncommon  Creature — Human Artificer                4.0   \n",
       "4         [U]  uncommon          Enchantment — Aura                2.0   \n",
       "\n",
       "                       Name  \n",
       "index                        \n",
       "1            Act of Treason  \n",
       "2      Aegis of the Heavens  \n",
       "3           Aerial Engineer  \n",
       "4             Aether Tunnel  "
      ]
     },
     "execution_count": 5,
     "metadata": {},
     "output_type": "execute_result"
    }
   ],
   "source": [
    "# Create a list of names + lots of other useful stuff\n",
    "nameList = pd.DataFrame.from_dict(thisSet, orient='index', columns=['colors','rarity','type','convertedManaCost'])\n",
    "nameList['Name'] = nameList.index                 # We need names as a column, not an index\n",
    "nameList['index'] = range(len(nameList))\n",
    "nameList = nameList.set_index('index')     # And we need a normal numerical index\n",
    "nameList[1:5]"
   ]
  },
  {
   "cell_type": "code",
   "execution_count": 6,
   "metadata": {},
   "outputs": [],
   "source": [
    "# Process names, then handle weird card names (those with commas)\n",
    "nameList['Name'] = nameList.Name.str.replace(' ','_')\n",
    "\n",
    "# This utility method searches for \"Name\" column in nameList that have commas\n",
    "nameList, raw_drafts = ds.fix_commas(nameList, raw_drafts) # Returns a tuple, as it updates both\n",
    "# nameList.Name[nameList.Name.str.find(',')!=-1] # There should be no longer any cards with commas"
   ]
  },
  {
   "cell_type": "code",
   "execution_count": 7,
   "metadata": {},
   "outputs": [
    {
     "name": "stdout",
     "output_type": "stream",
     "text": [
      "Processing draft: 0.\n",
      "Processing draft: 10000.\n",
      "Processing draft: 20000.\n",
      "Processing draft: 30000.\n",
      "Processing draft: 40000.\n",
      "Processing draft: 50000.\n",
      "Processing draft: 60000.\n",
      "Processing draft: 70000.\n",
      "Processing draft: 80000.\n",
      "Processing draft: 90000.\n",
      "Processing draft: 100000.\n"
     ]
    }
   ],
   "source": [
    "# Process the drafts, deconstructing packs (hands) at every turn of every draft\n",
    "drafts = ds.process_drafts(raw_drafts)"
   ]
  },
  {
   "cell_type": "markdown",
   "metadata": {},
   "source": [
    "### Make sure all cards are listed, even weird foils"
   ]
  },
  {
   "cell_type": "code",
   "execution_count": 9,
   "metadata": {},
   "outputs": [
    {
     "name": "stdout",
     "output_type": "stream",
     "text": [
      "---Unrecognized card:  Mountain_4\n",
      "---Unrecognized card:  Forest_4\n",
      "---Unrecognized card:  Plains_2\n",
      "---Unrecognized card:  Mountain_2\n",
      "---Unrecognized card:  Island_1\n",
      "---Unrecognized card:  Forest_2\n",
      "---Unrecognized card:  Swamp_1\n",
      "---Unrecognized card:  Mountain_3\n",
      "---Unrecognized card:  Forest_1\n",
      "---Unrecognized card:  Island_4\n",
      "---Unrecognized card:  Swamp_3\n",
      "---Unrecognized card:  Plains_1\n",
      "---Unrecognized card:  Swamp_4\n",
      "---Unrecognized card:  Plains_4\n",
      "---Unrecognized card:  Forest_3\n",
      "---Unrecognized card:  Island_3\n",
      "---Unrecognized card:  Swamp_2\n",
      "---Unrecognized card:  Plains_3\n",
      "---Unrecognized card:  Mountain_1\n",
      "---Unrecognized card:  Island_2\n",
      "Draft #100\n"
     ]
    }
   ],
   "source": [
    "# Make sure all cards are listed in the nameList; update if necessary\n",
    "for iDraft in range(200): #range(len(subset_drafts)):\n",
    "    if iDraft>0 and iDraft % 100 == 0:\n",
    "        print(\"Draft #%d\" % iDraft)\n",
    "    draft = drafts[iDraft]\n",
    "    for pack in draft[1:100]: # Let's assume that first 100 drafts cover all the bases     \n",
    "        for cardName in pack:\n",
    "            try:\n",
    "                pos = nameList[nameList.Name==cardName].index[0]\n",
    "            except:\n",
    "                print(\"---Unrecognized card: \",cardName) # All unrecognized cards here seem to be foil lands\n",
    "                #  \tcolors \trarity \ttype \tconvertedManaCost \tName\n",
    "                nameList = nameList.append({'colors':[],'rarity':'weird','type':'weird',\n",
    "                                            'convertedManaCost':0,'Name':cardName},ignore_index=True)"
   ]
  },
  {
   "cell_type": "markdown",
   "metadata": {},
   "source": [
    "### Calculate all the stats"
   ]
  },
  {
   "cell_type": "code",
   "execution_count": 74,
   "metadata": {},
   "outputs": [],
   "source": [
    "nCardsInSet = len(nameList)\n",
    "pCoDraft = np.zeros([nCardsInSet,nCardsInSet])\n",
    "pChoice = np.zeros([nCardsInSet,nCardsInSet])"
   ]
  },
  {
   "cell_type": "code",
   "execution_count": 75,
   "metadata": {},
   "outputs": [
    {
     "name": "stdout",
     "output_type": "stream",
     "text": [
      "Done\n"
     ]
    }
   ],
   "source": [
    "# Main loop:\n",
    "\n",
    "for iDraft in range(50): #range(len(subset_drafts)): # <----- Uncomment this to ran it on a full dataset\n",
    "    if iDraft>0 and iDraft % 100 == 0:\n",
    "        print(\"Draft #%d\" % iDraft)\n",
    "    draft = drafts[iDraft]\n",
    "    collection = np.zeros(nCardsInSet)\n",
    "    for pack in draft:     \n",
    "        packVector = np.zeros(nCardsInSet)\n",
    "        for cardName in pack:            \n",
    "            pos = nameList[nameList.Name==cardName].index[0]            \n",
    "            packVector[pos] += 1  # Mark the card\n",
    "            if cardName==pack[0]: # If the first card in the pack, note it, as the Human picked it\n",
    "                humanCard = pos\n",
    "\n",
    "        humanPick = np.zeros(nCardsInSet)\n",
    "        humanPick[humanCard] = 1\n",
    "        pChoice += np.outer(humanPick,packVector)\n",
    "        collection[humanCard] += 1 # Update collection\n",
    "                \n",
    "        #print(iDraft,iCard,nameList.iloc[humanCard]['Name'],nameList.iloc[humanCard]['colors'],\n",
    "        #                   nameList.iloc[botCard]['Name'],  nameList.iloc[botCard]['colors'])\n",
    "        \n",
    "    # -- Out of drafting: Final collection\n",
    "    pCoDraft += np.outer(collection,collection)-np.diag(collection) # Diagonal: n^2-n = n(n-1)\n",
    "    \n",
    "# -- Out of loop: Final adjustments to everything\n",
    "pCoDraft[range(nCardsInSet),range(nCardsInSet)] = pCoDraft[range(nCardsInSet),range(nCardsInSet)]/2 \n",
    "# Scale diagonal by 0.5, to get n(n-1)/2\n",
    "np.fill_diagonal(pChoice,0) # Weird method that modifies its argument instead of returning something\n",
    "print('Done')"
   ]
  },
  {
   "cell_type": "code",
   "execution_count": 76,
   "metadata": {},
   "outputs": [
    {
     "data": {
      "image/png": "[encoded data removed]",
      "text/plain": [
       "<Figure size 432x288 with 1 Axes>"
      ]
     },
     "metadata": {
      "needs_background": "light"
     },
     "output_type": "display_data"
    }
   ],
   "source": [
    "plt.imshow(pCoDraft, cmap=\"Greys\");"
   ]
  },
  {
   "cell_type": "code",
   "execution_count": 81,
   "metadata": {},
   "outputs": [
    {
     "data": {
      "image/png": "[encoded data removed]",
      "text/plain": [
       "<Figure size 432x288 with 1 Axes>"
      ]
     },
     "metadata": {
      "needs_background": "light"
     },
     "output_type": "display_data"
    }
   ],
   "source": [
    "plt.imshow(pChoice, cmap=\"Greys\");"
   ]
  },
  {
   "cell_type": "code",
   "execution_count": null,
   "metadata": {},
   "outputs": [],
   "source": [
    "np.savetxt('bots_data/pCoDraft.csv', pCoDraft, delimiter=\",\")\n",
    "np.savetxt('bots_data/pChoice.csv', pChoice, delimiter=\",\")"
   ]
  },
  {
   "cell_type": "code",
   "execution_count": 94,
   "metadata": {},
   "outputs": [
    {
     "data": {
      "text/html": [
       "<div>\n",
       "<style scoped>\n",
       "    .dataframe tbody tr th:only-of-type {\n",
       "        vertical-align: middle;\n",
       "    }\n",
       "\n",
       "    .dataframe tbody tr th {\n",
       "        vertical-align: top;\n",
       "    }\n",
       "\n",
       "    .dataframe thead th {\n",
       "        text-align: right;\n",
       "    }\n",
       "</style>\n",
       "<table border=\"1\" class=\"dataframe\">\n",
       "  <thead>\n",
       "    <tr style=\"text-align: right;\">\n",
       "      <th></th>\n",
       "      <th>colors</th>\n",
       "      <th>rarity</th>\n",
       "      <th>type</th>\n",
       "      <th>convertedManaCost</th>\n",
       "      <th>Name</th>\n",
       "    </tr>\n",
       "  </thead>\n",
       "  <tbody>\n",
       "    <tr>\n",
       "      <th>263</th>\n",
       "      <td>[]</td>\n",
       "      <td>uncommon</td>\n",
       "      <td>Artifact Creature — Golem</td>\n",
       "      <td>3.0</td>\n",
       "      <td>Tezzeret's_Strider</td>\n",
       "    </tr>\n",
       "    <tr>\n",
       "      <th>289</th>\n",
       "      <td>[G]</td>\n",
       "      <td>mythic</td>\n",
       "      <td>Legendary Planeswalker — Vivien</td>\n",
       "      <td>6.0</td>\n",
       "      <td>Vivien_of_the_Arkbow</td>\n",
       "    </tr>\n",
       "    <tr>\n",
       "      <th>171</th>\n",
       "      <td>[U]</td>\n",
       "      <td>mythic</td>\n",
       "      <td>Instant</td>\n",
       "      <td>7.0</td>\n",
       "      <td>Nexus_of_Fate</td>\n",
       "    </tr>\n",
       "    <tr>\n",
       "      <th>288</th>\n",
       "      <td>[G]</td>\n",
       "      <td>mythic</td>\n",
       "      <td>Legendary Planeswalker — Vivien</td>\n",
       "      <td>5.0</td>\n",
       "      <td>Vivien_Reid</td>\n",
       "    </tr>\n",
       "    <tr>\n",
       "      <th>147</th>\n",
       "      <td>[B]</td>\n",
       "      <td>mythic</td>\n",
       "      <td>Legendary Planeswalker — Liliana</td>\n",
       "      <td>5.0</td>\n",
       "      <td>Liliana_the_Necromancer</td>\n",
       "    </tr>\n",
       "    <tr>\n",
       "      <th>187</th>\n",
       "      <td>[]</td>\n",
       "      <td>common</td>\n",
       "      <td>Artifact</td>\n",
       "      <td>2.0</td>\n",
       "      <td>Pendulum_of_Patterns</td>\n",
       "    </tr>\n",
       "    <tr>\n",
       "      <th>233</th>\n",
       "      <td>[G]</td>\n",
       "      <td>rare</td>\n",
       "      <td>Creature — Wolf Spirit</td>\n",
       "      <td>5.0</td>\n",
       "      <td>Skalla_Wolf</td>\n",
       "    </tr>\n",
       "    <tr>\n",
       "      <th>132</th>\n",
       "      <td>[R]</td>\n",
       "      <td>common</td>\n",
       "      <td>Creature — Human Warrior</td>\n",
       "      <td>2.0</td>\n",
       "      <td>Kargan_Dragonrider</td>\n",
       "    </tr>\n",
       "    <tr>\n",
       "      <th>136</th>\n",
       "      <td>[R]</td>\n",
       "      <td>rare</td>\n",
       "      <td>Legendary Creature — Dragon</td>\n",
       "      <td>6.0</td>\n",
       "      <td>Lathliss_Dragon_Queen</td>\n",
       "    </tr>\n",
       "    <tr>\n",
       "      <th>280</th>\n",
       "      <td>[G]</td>\n",
       "      <td>common</td>\n",
       "      <td>Creature — Human Berserker</td>\n",
       "      <td>2.0</td>\n",
       "      <td>Ursine_Champion</td>\n",
       "    </tr>\n",
       "  </tbody>\n",
       "</table>\n",
       "</div>"
      ],
      "text/plain": [
       "    colors    rarity                              type  convertedManaCost  \\\n",
       "263     []  uncommon         Artifact Creature — Golem                3.0   \n",
       "289    [G]    mythic   Legendary Planeswalker — Vivien                6.0   \n",
       "171    [U]    mythic                           Instant                7.0   \n",
       "288    [G]    mythic   Legendary Planeswalker — Vivien                5.0   \n",
       "147    [B]    mythic  Legendary Planeswalker — Liliana                5.0   \n",
       "187     []    common                          Artifact                2.0   \n",
       "233    [G]      rare            Creature — Wolf Spirit                5.0   \n",
       "132    [R]    common          Creature — Human Warrior                2.0   \n",
       "136    [R]      rare       Legendary Creature — Dragon                6.0   \n",
       "280    [G]    common        Creature — Human Berserker                2.0   \n",
       "\n",
       "                        Name  \n",
       "263       Tezzeret's_Strider  \n",
       "289     Vivien_of_the_Arkbow  \n",
       "171            Nexus_of_Fate  \n",
       "288              Vivien_Reid  \n",
       "147  Liliana_the_Necromancer  \n",
       "187     Pendulum_of_Patterns  \n",
       "233              Skalla_Wolf  \n",
       "132       Kargan_Dragonrider  \n",
       "136    Lathliss_Dragon_Queen  \n",
       "280          Ursine_Champion  "
      ]
     },
     "execution_count": 94,
     "metadata": {},
     "output_type": "execute_result"
    }
   ],
   "source": [
    "# Let's make sure that the preference matrix (pChoice) makes sense\n",
    "rating = sum(pChoice)\n",
    "rating = np.argsort(rating)\n",
    "nameList.iloc[rating[:10]] # 10 most preferred cards\n",
    "#nameList.iloc[rating[-10:]] # 10 least preferred cards"
   ]
  },
  {
   "cell_type": "code",
   "execution_count": null,
   "metadata": {},
   "outputs": [],
   "source": []
  },
  {
   "cell_type": "code",
   "execution_count": null,
   "metadata": {},
   "outputs": [],
   "source": []
  },
  {
   "cell_type": "code",
   "execution_count": 39,
   "metadata": {},
   "outputs": [
    {
     "data": {
      "text/plain": [
       "array([[0, 0, 0, 0, 0, 0, 0],\n",
       "       [0, 0, 0, 0, 2, 1, 3],\n",
       "       [0, 0, 0, 0, 0, 0, 0],\n",
       "       [0, 0, 0, 0, 0, 0, 0],\n",
       "       [0, 2, 0, 0, 1, 2, 6],\n",
       "       [0, 1, 0, 0, 2, 0, 3],\n",
       "       [0, 3, 0, 0, 6, 3, 3]])"
      ]
     },
     "execution_count": 39,
     "metadata": {},
     "output_type": "execute_result"
    }
   ],
   "source": [
    "# Playground for co-occurrence matrix\n",
    "a = np.array([0,1,0,0,2,1,3])\n",
    "b = np.outer(a,a)-np.diag(a)\n",
    "# b = b*(np.ones(7)-np.eye(7)) + np.diag(np.diag(b)/2) # Horrible way\n",
    "b[range(7),range(7)] = b[range(7),range(7)]/2 # Scale diagonal by 0.5\n",
    "b"
   ]
  },
  {
   "cell_type": "code",
   "execution_count": 56,
   "metadata": {},
   "outputs": [
    {
     "data": {
      "text/plain": [
       "array([[0., 0., 0., 0., 0.],\n",
       "       [0., 0., 0., 1., 2.],\n",
       "       [0., 0., 0., 0., 0.],\n",
       "       [0., 0., 0., 0., 0.],\n",
       "       [0., 0., 0., 0., 0.]])"
      ]
     },
     "execution_count": 56,
     "metadata": {},
     "output_type": "execute_result"
    }
   ],
   "source": [
    "# Playground for preference matrix\n",
    "a = np.array([0,1,0,1,2]) # pack\n",
    "b = 1 # Card that was taken (with zero indexing)\n",
    "c = np.zeros(5)\n",
    "c[b] = 1\n",
    "np.outer(c,a)-np.diag(c)\n",
    "# A_ij counts how many time card i won over card j"
   ]
  }
 ],
 "metadata": {
  "kernelspec": {
   "display_name": "Python 3",
   "language": "python",
   "name": "python3"
  },
  "language_info": {
   "codemirror_mode": {
    "name": "ipython",
    "version": 3
   },
   "file_extension": ".py",
   "mimetype": "text/x-python",
   "name": "python",
   "nbconvert_exporter": "python",
   "pygments_lexer": "ipython3",
   "version": "3.7.3"
  }
 },
 "nbformat": 4,
 "nbformat_minor": 2
}
