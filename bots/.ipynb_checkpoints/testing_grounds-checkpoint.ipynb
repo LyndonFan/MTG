{
 "cells": [
  {
   "cell_type": "code",
   "execution_count": 1,
   "metadata": {},
   "outputs": [],
   "source": [
    "import numpy as np\n",
    "import pandas as pd\n",
    "from operator import itemgetter\n",
    "from copy import deepcopy\n",
    "import json\n",
    "\n",
    "from sklearn.model_selection import train_test_split\n",
    "\n",
    "import draftsimtools as ds"
   ]
  },
  {
   "cell_type": "code",
   "execution_count": 2,
   "metadata": {},
   "outputs": [],
   "source": [
    "# Load M19 drafts\n",
    "raw_drafts = ds.load_drafts(\"../../data/m19_2.csv\")"
   ]
  },
  {
   "cell_type": "code",
   "execution_count": 3,
   "metadata": {},
   "outputs": [],
   "source": [
    "# Here other folks load card lists, but I grab them from json instead\n",
    "# m19_set = ds.create_set(\"data/m19_rating.tsv\", \"data/m19_land_rating.tsv\")\n",
    "\n",
    "with open('../../data/all_sets.json', 'r',encoding='utf-8') as json_data:\n",
    "    mtgJSON = json.load(json_data)\n",
    "jsonSubset = mtgJSON['M19']['cards']\n",
    "thisSet = {card['name'] : card for card in jsonSubset}\n",
    "\n",
    "# Another (fancier) way to create a list of names + lots of other useful stuff\n",
    "nameList = pd.DataFrame.from_dict(thisSet, orient='index', \n",
    "                                  columns=['colors','rarity','type','convertedManaCost'])\n",
    "nameList['Name'] = nameList.index                 # We need names as a column, not an index\n",
    "nameList['index'] = range(len(nameList))\n",
    "nameList = nameList.set_index('index')     # And we need a normal numerical index\n",
    "nameList[1:5]\n",
    "\n",
    "# Process names, then handle weird card names (those with commas)\n",
    "nameList['Name'] = nameList.Name.str.replace(' ','_')\n",
    "\n",
    "# This utility method searches for \"Name\" column in nameList that have commas\n",
    "nameList, raw_drafts = ds.fix_commas(nameList, raw_drafts) # Returns a tuple, as it updates both\n",
    "\n",
    "# Prints namelist\n",
    "nameList[1:5]"
   ]
  },
  {
   "cell_type": "code",
   "execution_count": 5,
   "metadata": {},
   "outputs": [
    {
     "name": "stdout",
     "output_type": "stream",
     "text": [
      "Processing draft: 0.\n",
      "Processing draft: 10000.\n",
      "Processing draft: 20000.\n",
      "Processing draft: 30000.\n",
      "Processing draft: 40000.\n"
     ]
    }
   ],
   "source": [
    "# Process the drafts, deconstructing packs (hands) at every turn of every draft\n",
    "drafts = ds.process_drafts(raw_drafts)"
   ]
  },
  {
   "cell_type": "code",
   "execution_count": 6,
   "metadata": {},
   "outputs": [],
   "source": [
    "# Splits into (toy) training and test sets. NOTE: For real training, use all drafts.\n",
    "subset_drafts = drafts[5000:5500]\n",
    "#train, test = train_test_split(subset_drafts, test_size = 0.4)"
   ]
  },
  {
   "cell_type": "code",
   "execution_count": 7,
   "metadata": {},
   "outputs": [
    {
     "name": "stdout",
     "output_type": "stream",
     "text": [
      "---Unrecognized card:  Mountain_3\n",
      "---Unrecognized card:  Island_2\n",
      "---Unrecognized card:  Forest_4\n",
      "---Unrecognized card:  Plains_1\n",
      "---Unrecognized card:  Plains_2\n",
      "---Unrecognized card:  Forest_1\n",
      "---Unrecognized card:  Swamp_3\n",
      "---Unrecognized card:  Plains_3\n",
      "---Unrecognized card:  Island_3\n",
      "---Unrecognized card:  Forest_3\n",
      "---Unrecognized card:  Swamp_4\n",
      "---Unrecognized card:  Forest_2\n",
      "---Unrecognized card:  Island_4\n",
      "---Unrecognized card:  Swamp_2\n",
      "---Unrecognized card:  Swamp_1\n",
      "---Unrecognized card:  Mountain_1\n",
      "---Unrecognized card:  Mountain_2\n",
      "---Unrecognized card:  Plains_4\n",
      "---Unrecognized card:  Island_1\n",
      "---Unrecognized card:  Mountain_4\n"
     ]
    }
   ],
   "source": [
    "# Make sure all cards are listed in the nameList; update if necessary\n",
    "for iDraft in range(len(subset_drafts)):\n",
    "    draft = subset_drafts[iDraft]\n",
    "    for pack in draft:     \n",
    "        for cardName in pack:\n",
    "            try:\n",
    "                pos = nameList[nameList.Name==cardName].index[0]\n",
    "            except:\n",
    "                print(\"---Unrecognized card: \",cardName) # All unrecognized cards here seem to be foil lands\n",
    "                #  \tcolors \trarity \ttype \tconvertedManaCost \tName\n",
    "                nameList = nameList.append({'colors':[],'rarity':'weird','type':'weird',\n",
    "                                            'convertedManaCost':0,'Name':cardName},ignore_index=True)"
   ]
  },
  {
   "cell_type": "code",
   "execution_count": 8,
   "metadata": {},
   "outputs": [
    {
     "name": "stdout",
     "output_type": "stream",
     "text": [
      "Wrote correct to: exact_correct.tsv\n",
      "Wrote fuzzy_correct to: fuzzy_correct.tsv\n",
      "Wrote rank_error to: rank_error.tsv\n",
      "Wrote card_acc to: card_accuracies.tsv\n"
     ]
    }
   ],
   "source": [
    "# Splits data into training and testing sets.\n",
    "# This doesn't matter for some bots, but for others it does,\n",
    "# so we want to make sure we evaluate on the same testing\n",
    "# set for every bot. \n",
    "train, test = train_test_split(subset_drafts, test_size = 0.4)\n",
    "\n",
    "# Tests the random and the raredrafting bots against each other\n",
    "bot1 = ds.RandomBot()\n",
    "bot2 = ds.RaredraftBot(nameList)\n",
    "\n",
    "tester = ds.BotTester(subset_drafts)\n",
    "tester.evaluate_bots([bot1, bot2], [\"RandomBot\", \"RaredraftBot\"])\n",
    "tester.write_evaluations()"
   ]
  },
  {
   "cell_type": "code",
   "execution_count": null,
   "metadata": {},
   "outputs": [],
   "source": []
  },
  {
   "cell_type": "code",
   "execution_count": null,
   "metadata": {},
   "outputs": [],
   "source": []
  }
 ],
 "metadata": {
  "kernelspec": {
   "display_name": "Python 3",
   "language": "python",
   "name": "python3"
  },
  "language_info": {
   "codemirror_mode": {
    "name": "ipython",
    "version": 3
   },
   "file_extension": ".py",
   "mimetype": "text/x-python",
   "name": "python",
   "nbconvert_exporter": "python",
   "pygments_lexer": "ipython3",
   "version": "3.6.4"
  }
 },
 "nbformat": 4,
 "nbformat_minor": 2
}
