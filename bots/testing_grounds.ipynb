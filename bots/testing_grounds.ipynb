{
 "cells": [
  {
   "cell_type": "markdown",
   "metadata": {},
   "source": [
    "# Testing Grounds\n",
    "This notebook tests the performance of a series of bots from draftsimtools."
   ]
  },
  {
   "cell_type": "code",
   "execution_count": 57,
   "metadata": {},
   "outputs": [],
   "source": [
    "import numpy as np\n",
    "import pandas as pd\n",
    "from operator import itemgetter\n",
    "from copy import deepcopy\n",
    "import json\n",
    "\n",
    "from sklearn.model_selection import train_test_split\n",
    "\n",
    "import draftsimtools as ds"
   ]
  },
  {
   "cell_type": "markdown",
   "metadata": {},
   "source": [
    "### Load M19 drafts. \n",
    "Data folder is downloadable from draft-data-files on slack"
   ]
  },
  {
   "cell_type": "code",
   "execution_count": 58,
   "metadata": {},
   "outputs": [],
   "source": [
    "raw_drafts = ds.load_drafts(\"../data/subset3000/test.csv\")\n",
    "# raw_drafts = ds.load_drafts(\"../../data/m19_2.csv\") # Previous import."
   ]
  },
  {
   "cell_type": "markdown",
   "metadata": {},
   "source": [
    "This cell isn't runnable without AllSets.json"
   ]
  },
  {
   "cell_type": "code",
   "execution_count": 59,
   "metadata": {},
   "outputs": [],
   "source": [
    "# Here other folks load card lists, but I grab them from json instead\n",
    "# m19_set = ds.create_set(\"data/m19_rating.tsv\", \"data/m19_land_rating.tsv\")\n",
    "\n",
    "with open('../data/AllSets.json', 'r',encoding='utf-8') as json_data:\n",
    "    mtgJSON = json.load(json_data)\n",
    "jsonSubset = mtgJSON['M19']['cards']\n",
    "thisSet = {card['name'] : card for card in jsonSubset}"
   ]
  },
  {
   "cell_type": "code",
   "execution_count": 60,
   "metadata": {},
   "outputs": [
    {
     "data": {
      "text/html": [
       "<div>\n",
       "<style scoped>\n",
       "    .dataframe tbody tr th:only-of-type {\n",
       "        vertical-align: middle;\n",
       "    }\n",
       "\n",
       "    .dataframe tbody tr th {\n",
       "        vertical-align: top;\n",
       "    }\n",
       "\n",
       "    .dataframe thead th {\n",
       "        text-align: right;\n",
       "    }\n",
       "</style>\n",
       "<table border=\"1\" class=\"dataframe\">\n",
       "  <thead>\n",
       "    <tr style=\"text-align: right;\">\n",
       "      <th></th>\n",
       "      <th>artist</th>\n",
       "      <th>borderColor</th>\n",
       "      <th>colorIdentity</th>\n",
       "      <th>colors</th>\n",
       "      <th>convertedManaCost</th>\n",
       "      <th>edhrecRank</th>\n",
       "      <th>flavorText</th>\n",
       "      <th>foreignData</th>\n",
       "      <th>frameVersion</th>\n",
       "      <th>hasFoil</th>\n",
       "      <th>...</th>\n",
       "      <th>names</th>\n",
       "      <th>hasLeadershipSkills</th>\n",
       "      <th>loyalty</th>\n",
       "      <th>frameEffect</th>\n",
       "      <th>variations</th>\n",
       "      <th>isPromo</th>\n",
       "      <th>colorIndicator</th>\n",
       "      <th>faceConvertedManaCost</th>\n",
       "      <th>side</th>\n",
       "      <th>Name</th>\n",
       "    </tr>\n",
       "    <tr>\n",
       "      <th>index</th>\n",
       "      <th></th>\n",
       "      <th></th>\n",
       "      <th></th>\n",
       "      <th></th>\n",
       "      <th></th>\n",
       "      <th></th>\n",
       "      <th></th>\n",
       "      <th></th>\n",
       "      <th></th>\n",
       "      <th></th>\n",
       "      <th></th>\n",
       "      <th></th>\n",
       "      <th></th>\n",
       "      <th></th>\n",
       "      <th></th>\n",
       "      <th></th>\n",
       "      <th></th>\n",
       "      <th></th>\n",
       "      <th></th>\n",
       "      <th></th>\n",
       "      <th></th>\n",
       "    </tr>\n",
       "  </thead>\n",
       "  <tbody>\n",
       "    <tr>\n",
       "      <th>1</th>\n",
       "      <td>Eric Deschamps</td>\n",
       "      <td>black</td>\n",
       "      <td>[R]</td>\n",
       "      <td>[R]</td>\n",
       "      <td>3.0</td>\n",
       "      <td>2758.0</td>\n",
       "      <td>She learned a tragic lesson that day: even the...</td>\n",
       "      <td>[{'flavorText': 'An jenem Tag lernte sie eine ...</td>\n",
       "      <td>2015</td>\n",
       "      <td>True</td>\n",
       "      <td>...</td>\n",
       "      <td>NaN</td>\n",
       "      <td>NaN</td>\n",
       "      <td>NaN</td>\n",
       "      <td>NaN</td>\n",
       "      <td>NaN</td>\n",
       "      <td>NaN</td>\n",
       "      <td>NaN</td>\n",
       "      <td>NaN</td>\n",
       "      <td>NaN</td>\n",
       "      <td>Act_of_Treason</td>\n",
       "    </tr>\n",
       "    <tr>\n",
       "      <th>2</th>\n",
       "      <td>Anthony Palumbo</td>\n",
       "      <td>black</td>\n",
       "      <td>[W]</td>\n",
       "      <td>[W]</td>\n",
       "      <td>2.0</td>\n",
       "      <td>9845.0</td>\n",
       "      <td>Inner strength is never seen until it makes al...</td>\n",
       "      <td>[{'flavorText': 'Innere Stärke bleibt verborge...</td>\n",
       "      <td>2015</td>\n",
       "      <td>True</td>\n",
       "      <td>...</td>\n",
       "      <td>NaN</td>\n",
       "      <td>NaN</td>\n",
       "      <td>NaN</td>\n",
       "      <td>NaN</td>\n",
       "      <td>NaN</td>\n",
       "      <td>NaN</td>\n",
       "      <td>NaN</td>\n",
       "      <td>NaN</td>\n",
       "      <td>NaN</td>\n",
       "      <td>Aegis_of_the_Heavens</td>\n",
       "    </tr>\n",
       "    <tr>\n",
       "      <th>3</th>\n",
       "      <td>Zoltan Boros</td>\n",
       "      <td>black</td>\n",
       "      <td>[U, W]</td>\n",
       "      <td>[U, W]</td>\n",
       "      <td>4.0</td>\n",
       "      <td>15888.0</td>\n",
       "      <td>The best of their trade know every bolt of the...</td>\n",
       "      <td>[{'flavorText': 'Die Besten ihres Handwerks ke...</td>\n",
       "      <td>2015</td>\n",
       "      <td>True</td>\n",
       "      <td>...</td>\n",
       "      <td>NaN</td>\n",
       "      <td>NaN</td>\n",
       "      <td>NaN</td>\n",
       "      <td>NaN</td>\n",
       "      <td>NaN</td>\n",
       "      <td>NaN</td>\n",
       "      <td>NaN</td>\n",
       "      <td>NaN</td>\n",
       "      <td>NaN</td>\n",
       "      <td>Aerial_Engineer</td>\n",
       "    </tr>\n",
       "    <tr>\n",
       "      <th>4</th>\n",
       "      <td>Lucas Graciano</td>\n",
       "      <td>black</td>\n",
       "      <td>[U]</td>\n",
       "      <td>[U]</td>\n",
       "      <td>2.0</td>\n",
       "      <td>5517.0</td>\n",
       "      <td>If you can't find a doorway, make one.</td>\n",
       "      <td>[{'flavorText': 'Wenn du keinen Eingang finden...</td>\n",
       "      <td>2015</td>\n",
       "      <td>True</td>\n",
       "      <td>...</td>\n",
       "      <td>NaN</td>\n",
       "      <td>NaN</td>\n",
       "      <td>NaN</td>\n",
       "      <td>NaN</td>\n",
       "      <td>NaN</td>\n",
       "      <td>NaN</td>\n",
       "      <td>NaN</td>\n",
       "      <td>NaN</td>\n",
       "      <td>NaN</td>\n",
       "      <td>Aether_Tunnel</td>\n",
       "    </tr>\n",
       "  </tbody>\n",
       "</table>\n",
       "<p>4 rows × 56 columns</p>\n",
       "</div>"
      ],
      "text/plain": [
       "                artist borderColor colorIdentity  colors  convertedManaCost  \\\n",
       "index                                                                         \n",
       "1       Eric Deschamps       black           [R]     [R]                3.0   \n",
       "2      Anthony Palumbo       black           [W]     [W]                2.0   \n",
       "3         Zoltan Boros       black        [U, W]  [U, W]                4.0   \n",
       "4       Lucas Graciano       black           [U]     [U]                2.0   \n",
       "\n",
       "       edhrecRank                                         flavorText  \\\n",
       "index                                                                  \n",
       "1          2758.0  She learned a tragic lesson that day: even the...   \n",
       "2          9845.0  Inner strength is never seen until it makes al...   \n",
       "3         15888.0  The best of their trade know every bolt of the...   \n",
       "4          5517.0             If you can't find a doorway, make one.   \n",
       "\n",
       "                                             foreignData frameVersion  \\\n",
       "index                                                                   \n",
       "1      [{'flavorText': 'An jenem Tag lernte sie eine ...         2015   \n",
       "2      [{'flavorText': 'Innere Stärke bleibt verborge...         2015   \n",
       "3      [{'flavorText': 'Die Besten ihres Handwerks ke...         2015   \n",
       "4      [{'flavorText': 'Wenn du keinen Eingang finden...         2015   \n",
       "\n",
       "       hasFoil          ...           names  hasLeadershipSkills  loyalty  \\\n",
       "index                   ...                                                 \n",
       "1         True          ...             NaN                  NaN      NaN   \n",
       "2         True          ...             NaN                  NaN      NaN   \n",
       "3         True          ...             NaN                  NaN      NaN   \n",
       "4         True          ...             NaN                  NaN      NaN   \n",
       "\n",
       "       frameEffect variations isPromo colorIndicator  faceConvertedManaCost  \\\n",
       "index                                                                         \n",
       "1              NaN        NaN     NaN            NaN                    NaN   \n",
       "2              NaN        NaN     NaN            NaN                    NaN   \n",
       "3              NaN        NaN     NaN            NaN                    NaN   \n",
       "4              NaN        NaN     NaN            NaN                    NaN   \n",
       "\n",
       "       side                  Name  \n",
       "index                              \n",
       "1       NaN        Act_of_Treason  \n",
       "2       NaN  Aegis_of_the_Heavens  \n",
       "3       NaN       Aerial_Engineer  \n",
       "4       NaN         Aether_Tunnel  \n",
       "\n",
       "[4 rows x 56 columns]"
      ]
     },
     "execution_count": 60,
     "metadata": {},
     "output_type": "execute_result"
    }
   ],
   "source": [
    "# Another (fancier) way to create a list of names + lots of other useful stuff\n",
    "nameList = pd.DataFrame.from_dict(thisSet, orient='index') #, columns=['colors','rarity','type','convertedManaCost'])\n",
    "nameList['Name'] = nameList.index                 # We need names as a column, not an index\n",
    "nameList['index'] = range(len(nameList))\n",
    "nameList = nameList.set_index('index')     # And we need a normal numerical index\n",
    "nameList[1:5]\n",
    "\n",
    "# Process names, then handle weird card names (those with commas)\n",
    "nameList['Name'] = nameList.Name.str.replace(' ', '_')\n",
    "\n",
    "# This utility method searches for \"Name\" column in nameList that have commas\n",
    "nameList, raw_drafts = ds.fix_commas(nameList, raw_drafts) # Returns a tuple, as it updates both\n",
    "\n",
    "# Prints namelist\n",
    "nameList[1:5]"
   ]
  },
  {
   "cell_type": "markdown",
   "metadata": {},
   "source": [
    "Load sets normally instead."
   ]
  },
  {
   "cell_type": "code",
   "execution_count": 61,
   "metadata": {},
   "outputs": [],
   "source": [
    "m19_set = ds.create_set(\"../data/m19_rating.tsv\", \"../data/m19_land_rating.tsv\")"
   ]
  },
  {
   "cell_type": "code",
   "execution_count": 62,
   "metadata": {},
   "outputs": [],
   "source": [
    "m19_set = m19_set.sort_values(\"Name\").reset_index(drop=True)"
   ]
  },
  {
   "cell_type": "code",
   "execution_count": 63,
   "metadata": {},
   "outputs": [
    {
     "name": "stdout",
     "output_type": "stream",
     "text": [
      "Processing draft: 0.\n"
     ]
    }
   ],
   "source": [
    "# Process the drafts, deconstructing packs (hands) at every turn of every draft\n",
    "drafts = ds.process_drafts(raw_drafts)"
   ]
  },
  {
   "cell_type": "code",
   "execution_count": 64,
   "metadata": {},
   "outputs": [],
   "source": [
    "# Splits into (toy) training and test sets. NOTE: For real training, use all drafts.\n",
    "subset_drafts = drafts[:20] # We are only looking at 1000 with this import.\n",
    "#subset_drafts = drafts[5000:5500]\n",
    "#train, test = train_test_split(subset_drafts, test_size = 0.4)"
   ]
  },
  {
   "cell_type": "code",
   "execution_count": 65,
   "metadata": {},
   "outputs": [
    {
     "name": "stdout",
     "output_type": "stream",
     "text": [
      "---Unrecognized card:  Island_2\n",
      "---Unrecognized card:  Plains_4\n",
      "---Unrecognized card:  Plains_3\n",
      "---Unrecognized card:  Swamp_4\n",
      "---Unrecognized card:  Forest_3\n",
      "---Unrecognized card:  Forest_2\n",
      "---Unrecognized card:  Swamp_2\n",
      "---Unrecognized card:  Island_3\n",
      "---Unrecognized card:  Mountain_4\n",
      "---Unrecognized card:  Mountain_3\n",
      "---Unrecognized card:  Island_4\n",
      "---Unrecognized card:  Swamp_1\n",
      "---Unrecognized card:  Mountain_2\n",
      "---Unrecognized card:  Swamp_3\n",
      "---Unrecognized card:  Forest_1\n",
      "---Unrecognized card:  Forest_4\n",
      "---Unrecognized card:  Island_1\n",
      "---Unrecognized card:  Plains_2\n",
      "---Unrecognized card:  Plains_1\n",
      "---Unrecognized card:  Mountain_1\n"
     ]
    }
   ],
   "source": [
    "# This should simply add basic lands. \n",
    "\n",
    "# Make sure all cards are listed in the nameList; update if necessary\n",
    "for iDraft in range(len(subset_drafts)):\n",
    "    draft = subset_drafts[iDraft]\n",
    "    for pack in draft:     \n",
    "        for cardName in pack:\n",
    "            try:\n",
    "                pos = nameList[nameList.Name==cardName].index[0]\n",
    "            except:\n",
    "                print(\"---Unrecognized card: \",cardName) # All unrecognized cards here seem to be foil lands\n",
    "                #  \tcolors \trarity \ttype \tconvertedManaCost \tName\n",
    "                nameList = nameList.append({'colors':[],'rarity':'weird','type':'weird',\n",
    "                                            'convertedManaCost':0,'Name':cardName},ignore_index=True)"
   ]
  },
  {
   "cell_type": "code",
   "execution_count": 66,
   "metadata": {},
   "outputs": [
    {
     "name": "stdout",
     "output_type": "stream",
     "text": [
      "320\n"
     ]
    }
   ],
   "source": [
    "print(len(nameList))"
   ]
  },
  {
   "cell_type": "code",
   "execution_count": 67,
   "metadata": {},
   "outputs": [],
   "source": [
    "# Splits data into training and testing sets.\n",
    "# This doesn't matter for some bots, but for others it does,\n",
    "# so we want to make sure we evaluate on the same testing\n",
    "# set for every bot. \n",
    "train, test = train_test_split(subset_drafts, test_size = 0.4)"
   ]
  },
  {
   "cell_type": "code",
   "execution_count": 68,
   "metadata": {},
   "outputs": [],
   "source": [
    "# Tests the random and the raredrafting bots against each other\n",
    "bot1 = ds.RandomBot()\n",
    "# bot2 = ds.RaredraftBot(nameList) # These bots are not runnable without allsets json.\n",
    "# bot3 = ds.ClassicBot(nameList)\n",
    "bot4 = ds.RandomBot()"
   ]
  },
  {
   "cell_type": "code",
   "execution_count": 69,
   "metadata": {},
   "outputs": [],
   "source": [
    "tester = ds.BotTester(subset_drafts)"
   ]
  },
  {
   "cell_type": "code",
   "execution_count": 70,
   "metadata": {},
   "outputs": [
    {
     "name": "stdout",
     "output_type": "stream",
     "text": [
      "draft_num    10.500000\n",
      "pick_num     23.000000\n",
      "RandomBot     0.225556\n",
      "MiscBot       0.230000\n",
      "dtype: float64\n",
      "Wrote correct to: output_files/exact_correct.tsv\n",
      "Wrote fuzzy_correct to: output_files/fuzzy_correct.tsv\n",
      "Wrote rank_error to: output_files/rank_error.tsv\n",
      "Wrote card_acc to: output_files/card_accuracies.tsv\n"
     ]
    }
   ],
   "source": [
    "#tester.evaluate_bots([bot1, bot2, bot3], [\"RandomBot\", \"RaredraftBot\", \"ClassicBot\"])\n",
    "tester.evaluate_bots([bot1, bot4], [\"RandomBot\", \"MiscBot\"])\n",
    "tester.report_evaluations()\n",
    "tester.write_evaluations()"
   ]
  },
  {
   "cell_type": "code",
   "execution_count": null,
   "metadata": {},
   "outputs": [],
   "source": []
  },
  {
   "cell_type": "code",
   "execution_count": 36,
   "metadata": {},
   "outputs": [],
   "source": [
    "import torch"
   ]
  },
  {
   "cell_type": "code",
   "execution_count": 39,
   "metadata": {},
   "outputs": [],
   "source": [
    "#Torch imports.\n",
    "import torch\n",
    "import torch.nn as nn\n",
    "import torch.nn.functional as F\n",
    "import torch.optim as optim\n",
    "from torch.utils.data.dataset import Dataset\n",
    "\n",
    "#Implement NN.\n",
    "class DraftNet(nn.Module):\n",
    "    \n",
    "    def __init__(self, set_tensor):\n",
    "        \"\"\"Placeholder NN. Currently does nothing.\n",
    "        \n",
    "        param ss: number of cards in set\n",
    "        param set_tensor: Mxss set tensor describing the set\n",
    "        \"\"\"\n",
    "        super(DraftNet, self).__init__()\n",
    "        \n",
    "        # Load set tensor.\n",
    "        self.set_tensor = set_tensor\n",
    "        self.set_tensor_tranpose = torch.transpose(set_tensor, 0, 1)\n",
    "        self.M, self.ss = self.set_tensor.shape\n",
    "        self.half_ss = self.ss / 2\n",
    "        \n",
    "        # Specify layer sizes. \n",
    "        size_in = self.ss + self.M\n",
    "        #size_in = self.ss\n",
    "        size1 = self.ss\n",
    "        size2 = self.ss\n",
    "        size3 = self.ss\n",
    "        size4 = self.ss\n",
    "        size5 = self.ss\n",
    "        size6 = self.ss\n",
    "        size7 = self.ss\n",
    "        size8 = self.ss\n",
    "        \n",
    "        self.ns = 0.01\n",
    "        \n",
    "        self.bn = nn.BatchNorm1d(self.ss + self.M)\n",
    "        \n",
    "        self.linear1 = torch.nn.Linear(size_in, size1)\n",
    "        self.bn1 = nn.BatchNorm1d(size1)\n",
    "        self.relu1 = torch.nn.LeakyReLU(negative_slope = self.ns)\n",
    "        self.dropout1 = nn.Dropout(0.5)\n",
    "        \n",
    "        self.linear2 = torch.nn.Linear(size1, size2)\n",
    "        self.bn2 = nn.BatchNorm1d(size2)\n",
    "        self.relu2 = torch.nn.LeakyReLU(negative_slope = self.ns)\n",
    "        self.dropout2 = nn.Dropout(0.5)\n",
    "        \n",
    "        self.linear3 = torch.nn.Linear(size2, size3)\n",
    "        self.bn3 = nn.BatchNorm1d(size3)\n",
    "        self.relu3 = torch.nn.LeakyReLU(negative_slope = self.ns)\n",
    "        self.dropout3 = nn.Dropout(0.5)\n",
    "        \n",
    "        self.linear4 = torch.nn.Linear(size3, size4)\n",
    "        self.relu4 = torch.nn.LeakyReLU(negative_slope = self.ns)\n",
    "        self.dropout4 = nn.Dropout(0.5)\n",
    "        \n",
    "        self.linear5 = torch.nn.Linear(size3, size5)\n",
    "        self.relu5 = torch.nn.LeakyReLU(negative_slope = self.ns)\n",
    "        self.dropout5 = nn.Dropout(0.5)\n",
    "        \n",
    "        self.linear6 = torch.nn.Linear(size3, size6)\n",
    "        self.relu6 = torch.nn.LeakyReLU(negative_slope = self.ns)\n",
    "        self.dropout6 = nn.Dropout(0.5)\n",
    "        \n",
    "        self.linear7 = torch.nn.Linear(size3, size7)\n",
    "        self.relu7 = torch.nn.LeakyReLU(negative_slope = self.ns)\n",
    "        self.dropout7 = nn.Dropout(0.5)\n",
    "        \n",
    "        self.linear8 = torch.nn.Linear(size3, size8)\n",
    "        self.relu8 = torch.nn.LeakyReLU(negative_slope = self.ns)\n",
    "        \n",
    "        \n",
    "        #self.sm = torch.nn.Softmax()\n",
    "                \n",
    "    def forward(self, x):\n",
    "        \n",
    "        collection = x[:, :self.ss]\n",
    "        \n",
    "        #collection = self.bn(collection)\n",
    "        \n",
    "        pack = x[:, self.ss:]\n",
    "        \n",
    "        # Get features from set tensor. \n",
    "        features = torch.mm(collection, self.set_tensor_tranpose)\n",
    "        collection_and_features = torch.cat((collection, features), 1)\n",
    "        \n",
    "        collection_and_features = self.bn(collection_and_features)\n",
    "        \n",
    "        #y = self.linear1(collection_and_features)\n",
    "        y = self.linear1(collection_and_features)\n",
    "        y = self.bn1(y)\n",
    "        y = self.relu1(y)\n",
    "        y = self.dropout1(y)\n",
    "        \n",
    "        y = self.linear2(y)\n",
    "        y = self.bn2(y)\n",
    "        y = self.relu2(y)\n",
    "        y = self.dropout2(y)\n",
    "        \n",
    "        y = self.linear3(y)\n",
    "        y = self.bn3(y)\n",
    "        y = self.relu3(y)\n",
    "        y = self.dropout3(y)\n",
    "\n",
    "        y = self.linear4(y)\n",
    "        #y = self.relu4(y)\n",
    "        #y = self.dropout4(y)\n",
    "        \n",
    "        #y = self.linear5(y)\n",
    "        #y = self.relu5(y)\n",
    "        #y = self.dropout5(y)\n",
    "        \n",
    "        #y = self.linear6(y)\n",
    "        #y = self.relu6(y)\n",
    "        #y = self.dropout6(y)\n",
    "        \n",
    "        #y = self.linear7(y)\n",
    "        #y = self.relu7(y)\n",
    "        #y = self.dropout7(y)\n",
    "        \n",
    "        #y = self.linear8(y)\n",
    "        #y = self.relu8(y)\n",
    "        \n",
    "        y = y * pack # Enforce cards in pack only.\n",
    "        \n",
    "        return y\n",
    "\n",
    "#Create NN.\n",
    "#net = DraftNet(st).cuda()\n",
    "#print(net)"
   ]
  },
  {
   "cell_type": "code",
   "execution_count": null,
   "metadata": {},
   "outputs": [],
   "source": []
  },
  {
   "cell_type": "code",
   "execution_count": 45,
   "metadata": {},
   "outputs": [
    {
     "ename": "NameError",
     "evalue": "name 'Bot' is not defined",
     "output_type": "error",
     "traceback": [
      "\u001b[0;31m---------------------------------------------------------------------------\u001b[0m",
      "\u001b[0;31mNameError\u001b[0m                                 Traceback (most recent call last)",
      "\u001b[0;32m<ipython-input-45-61b13bd281c0>\u001b[0m in \u001b[0;36m<module>\u001b[0;34m()\u001b[0m\n\u001b[0;32m----> 1\u001b[0;31m \u001b[0;32mclass\u001b[0m \u001b[0mdraftnet_bot\u001b[0m\u001b[0;34m(\u001b[0m\u001b[0mBot\u001b[0m\u001b[0;34m)\u001b[0m\u001b[0;34m:\u001b[0m\u001b[0;34m\u001b[0m\u001b[0;34m\u001b[0m\u001b[0m\n\u001b[0m\u001b[1;32m      2\u001b[0m \u001b[0;34m\u001b[0m\u001b[0m\n\u001b[1;32m      3\u001b[0m     \u001b[0;31m#Class CONSTANTS\u001b[0m\u001b[0;34m\u001b[0m\u001b[0;34m\u001b[0m\u001b[0;34m\u001b[0m\u001b[0m\n\u001b[1;32m      4\u001b[0m     \u001b[0;31m#None for base bots but yours should go here in ALL_CAPS\u001b[0m\u001b[0;34m\u001b[0m\u001b[0;34m\u001b[0m\u001b[0;34m\u001b[0m\u001b[0m\n\u001b[1;32m      5\u001b[0m \u001b[0;34m\u001b[0m\u001b[0m\n",
      "\u001b[0;31mNameError\u001b[0m: name 'Bot' is not defined"
     ]
    }
   ],
   "source": [
    "class draftnet_bot(Bot):\n",
    "\n",
    "    #Class CONSTANTS\n",
    "    #None for base bots but yours should go here in ALL_CAPS\n",
    "\n",
    "    def __init__(self, cur_set, le, draftnet_path=\"./bots_data/draftnet_aug_22_2019.pt\"):\n",
    "        \"\"\"\n",
    "        :param cur_set: DataFrame for current set (sorted alphabetically)\n",
    "        :param le: Label encoder that transforms numbers <-> cardnames\n",
    "        :param draftnet_path: path to draftnet parameter file (.pt)\n",
    "        \"\"\"\n",
    "        self.le = le\n",
    "        self.cur_set = cur_set\n",
    "\n",
    "        self.num_correct = 0\n",
    "        self.num_total = 0\n",
    "\n",
    "        # Need to define draftnet architecture to use torch.load().\n",
    "        self.net = torch.load(draftnet_path)\n",
    "\n",
    "    def rank_pack(self, draft_frame):\n",
    "        intermediate_rep = le.transform(draft_frame)\n",
    "\n",
    "    def __get_ranking(self, draft_frame):\n",
    "        pass\n",
    "\n",
    "    def get_performance(self):\n",
    "        \"\"\"\n",
    "        Return tuple of number of correct picks so far.\n",
    "        \"\"\"\n",
    "        return self.num_total, self.num_correct\n",
    "\n",
    "    def get_top_pick(self, pack_rank):\n",
    "        \"\"\"\n",
    "        Returns the card name of the top-ranked pick within a pack.\n",
    "        \"\"\"\n",
    "        intermediate_rep = []\n",
    "\n",
    "        return max(pack_rank, key = pack_rank.get)\n",
    "\n",
    "    def clear_history(self):\n",
    "        \"\"\"Reset class variables.\"\"\"\n",
    "        self.num_correct = 0\n",
    "        self.num_total = 0"
   ]
  },
  {
   "cell_type": "code",
   "execution_count": 40,
   "metadata": {},
   "outputs": [],
   "source": [
    "test_net = torch.load(\"./bots_data/draftnet_aug_22_2019.pt\")"
   ]
  },
  {
   "cell_type": "code",
   "execution_count": 42,
   "metadata": {},
   "outputs": [
    {
     "ename": "NameError",
     "evalue": "name 'le' is not defined",
     "output_type": "error",
     "traceback": [
      "\u001b[0;31m---------------------------------------------------------------------------\u001b[0m",
      "\u001b[0;31mNameError\u001b[0m                                 Traceback (most recent call last)",
      "\u001b[0;32m<ipython-input-42-cc06ee576410>\u001b[0m in \u001b[0;36m<module>\u001b[0;34m()\u001b[0m\n\u001b[0;32m----> 1\u001b[0;31m \u001b[0mle\u001b[0m\u001b[0;34m.\u001b[0m\u001b[0mtransform\u001b[0m\u001b[0;34m(\u001b[0m\u001b[0;34m[\u001b[0m\u001b[0;34m\"Abnormal_Endurance\"\u001b[0m\u001b[0;34m,\u001b[0m \u001b[0;34m\"Act_of_Treason\"\u001b[0m\u001b[0;34m]\u001b[0m\u001b[0;34m)\u001b[0m\u001b[0;34m\u001b[0m\u001b[0;34m\u001b[0m\u001b[0m\n\u001b[0m",
      "\u001b[0;31mNameError\u001b[0m: name 'le' is not defined"
     ]
    }
   ],
   "source": [
    "le.transform([\"Abnormal_Endurance\", \"Act_of_Treason\"])\n"
   ]
  },
  {
   "cell_type": "code",
   "execution_count": 41,
   "metadata": {},
   "outputs": [
    {
     "data": {
      "text/plain": [
       "DraftNet(\n",
       "  (bn): BatchNorm1d(306, eps=1e-05, momentum=0.1, affine=True, track_running_stats=True)\n",
       "  (linear1): Linear(in_features=306, out_features=285, bias=True)\n",
       "  (bn1): BatchNorm1d(285, eps=1e-05, momentum=0.1, affine=True, track_running_stats=True)\n",
       "  (relu1): LeakyReLU(negative_slope=0.01)\n",
       "  (dropout1): Dropout(p=0.5)\n",
       "  (linear2): Linear(in_features=285, out_features=285, bias=True)\n",
       "  (bn2): BatchNorm1d(285, eps=1e-05, momentum=0.1, affine=True, track_running_stats=True)\n",
       "  (relu2): LeakyReLU(negative_slope=0.01)\n",
       "  (dropout2): Dropout(p=0.5)\n",
       "  (linear3): Linear(in_features=285, out_features=285, bias=True)\n",
       "  (bn3): BatchNorm1d(285, eps=1e-05, momentum=0.1, affine=True, track_running_stats=True)\n",
       "  (relu3): LeakyReLU(negative_slope=0.01)\n",
       "  (dropout3): Dropout(p=0.5)\n",
       "  (linear4): Linear(in_features=285, out_features=285, bias=True)\n",
       "  (relu4): LeakyReLU(negative_slope=0.01)\n",
       "  (dropout4): Dropout(p=0.5)\n",
       "  (linear5): Linear(in_features=285, out_features=285, bias=True)\n",
       "  (relu5): LeakyReLU(negative_slope=0.01)\n",
       "  (dropout5): Dropout(p=0.5)\n",
       "  (linear6): Linear(in_features=285, out_features=285, bias=True)\n",
       "  (relu6): LeakyReLU(negative_slope=0.01)\n",
       "  (dropout6): Dropout(p=0.5)\n",
       "  (linear7): Linear(in_features=285, out_features=285, bias=True)\n",
       "  (relu7): LeakyReLU(negative_slope=0.01)\n",
       "  (dropout7): Dropout(p=0.5)\n",
       "  (linear8): Linear(in_features=285, out_features=285, bias=True)\n",
       "  (relu8): LeakyReLU(negative_slope=0.01)\n",
       ")"
      ]
     },
     "execution_count": 41,
     "metadata": {},
     "output_type": "execute_result"
    }
   ],
   "source": [
    "test_net"
   ]
  },
  {
   "cell_type": "code",
   "execution_count": null,
   "metadata": {},
   "outputs": [],
   "source": []
  }
 ],
 "metadata": {
  "kernelspec": {
   "display_name": "Python 3",
   "language": "python",
   "name": "python3"
  },
  "language_info": {
   "codemirror_mode": {
    "name": "ipython",
    "version": 3
   },
   "file_extension": ".py",
   "mimetype": "text/x-python",
   "name": "python",
   "nbconvert_exporter": "python",
   "pygments_lexer": "ipython3",
   "version": "3.6.7"
  }
 },
 "nbformat": 4,
 "nbformat_minor": 2
}
