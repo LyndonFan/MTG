{
 "cells": [
  {
   "cell_type": "markdown",
   "metadata": {},
   "source": [
    "Controversial Picks Calculator (by Bobby Mills and Arseny Khakhalin)\n",
    "\n",
    "For now this script doesn't perform a full analysis. It needs to be run on the set for human player, then it should be manually made run for a bot, and then there's an R script named `controversial_picks_part2.R` that finalizes the comparison."
   ]
  },
  {
   "cell_type": "code",
   "execution_count": 1,
   "metadata": {},
   "outputs": [],
   "source": [
    "import pandas as pd\n",
    "import numpy as np\n",
    "\n",
    "import csv\n",
    "import json\n",
    "\n",
    "import re\n",
    "\n",
    "import itertools\n",
    "\n",
    "import matplotlib.pyplot as plt\n",
    "import mpld3"
   ]
  },
  {
   "cell_type": "code",
   "execution_count": 2,
   "metadata": {},
   "outputs": [],
   "source": [
    "from draftsim_utils_ab import *"
   ]
  },
  {
   "cell_type": "code",
   "execution_count": 3,
   "metadata": {},
   "outputs": [],
   "source": [
    "#mtgJSON = json.load(open('Allsets.json'))\n",
    "with open('../../data/Allsets.json', 'r',encoding='utf-8') as json_data:\n",
    "    mtgJSON = json.load(json_data)"
   ]
  },
  {
   "cell_type": "markdown",
   "metadata": {},
   "source": [
    "Change the set abbrevation below to work with a different set"
   ]
  },
  {
   "cell_type": "code",
   "execution_count": 4,
   "metadata": {},
   "outputs": [],
   "source": [
    "# Alternatives: XLN, DOM, M19, GRN, RNA\n",
    "setName = 'WAR'"
   ]
  },
  {
   "cell_type": "code",
   "execution_count": 5,
   "metadata": {},
   "outputs": [],
   "source": [
    "thisSet = mtgJSON[setName]['cards']\n",
    "\n",
    "thisSet = {getName(card) : card for card in thisSet} # a dict with names as indices for cards, for all cards in set"
   ]
  },
  {
   "cell_type": "code",
   "execution_count": 6,
   "metadata": {
    "scrolled": true
   },
   "outputs": [
    {
     "data": {
      "text/html": [
       "<div>\n",
       "<style scoped>\n",
       "    .dataframe tbody tr th:only-of-type {\n",
       "        vertical-align: middle;\n",
       "    }\n",
       "\n",
       "    .dataframe tbody tr th {\n",
       "        vertical-align: top;\n",
       "    }\n",
       "\n",
       "    .dataframe thead th {\n",
       "        text-align: right;\n",
       "    }\n",
       "</style>\n",
       "<table border=\"1\" class=\"dataframe\">\n",
       "  <thead>\n",
       "    <tr style=\"text-align: right;\">\n",
       "      <th></th>\n",
       "      <th>format</th>\n",
       "      <th>human</th>\n",
       "      <th>bot1</th>\n",
       "      <th>bot2</th>\n",
       "      <th>bot3</th>\n",
       "      <th>bot4</th>\n",
       "      <th>bot5</th>\n",
       "      <th>bot6</th>\n",
       "      <th>bot7</th>\n",
       "    </tr>\n",
       "  </thead>\n",
       "  <tbody>\n",
       "    <tr>\n",
       "      <th>3910313</th>\n",
       "      <td>WAR</td>\n",
       "      <td>Liliana,_Dreadhorde_General,Liliana's_Triumph,...</td>\n",
       "      <td>Storrev,_Devkarin_Lich,Band_Together,Davriel,_...</td>\n",
       "      <td>God-Eternal_Bontu,Gleaming_Overseer,Vizier_of_...</td>\n",
       "      <td>Vivien,_Champion_of_the_Wilds,Nahiri,_Storm_of...</td>\n",
       "      <td>Awakening_of_Vitu-Ghazi,Challenger_Troll,Wards...</td>\n",
       "      <td>Sarkhan_the_Masterless,Spark_Harvest,Turret_Og...</td>\n",
       "      <td>Domri's_Ambush,Band_Together,Kiora,_Behemoth_B...</td>\n",
       "      <td>Chandra's_Triumph,Mobilized_District,Trusted_P...</td>\n",
       "    </tr>\n",
       "    <tr>\n",
       "      <th>3910314</th>\n",
       "      <td>WAR</td>\n",
       "      <td>Sarkhan_the_Masterless,Domri,_Anarch_of_Bolas,...</td>\n",
       "      <td>Dreadhorde_Invasion,Vizier_of_the_Scorpion,Dea...</td>\n",
       "      <td>Dovin,_Hand_of_Control,Law-Rune_Enforcer,Marty...</td>\n",
       "      <td>Roalesk,_Apex_Hybrid,Silent_Submersible,Samut,...</td>\n",
       "      <td>Kaya,_Bane_of_the_Dead,Spark_Harvest,Sorin's_T...</td>\n",
       "      <td>Ajani,_the_Greathearted,Jaya's_Greeting,Tibalt...</td>\n",
       "      <td>Vivien's_Arkbow,Cyclops_Electromancer,Spark_Do...</td>\n",
       "      <td>Domri's_Ambush,Jaya's_Greeting,Bolt_Bend,Turre...</td>\n",
       "    </tr>\n",
       "    <tr>\n",
       "      <th>3910315</th>\n",
       "      <td>WAR</td>\n",
       "      <td>Jaya,_Venerated_Firemage,Law-Rune_Enforcer,Pou...</td>\n",
       "      <td>Spark_Harvest,Casualties_of_War,Davriel,_Rogue...</td>\n",
       "      <td>Vizier_of_the_Scorpion,Angrath,_Captain_of_Cha...</td>\n",
       "      <td>Eternal_Skylord,Turret_Ogre,Sorin's_Thirst,Sky...</td>\n",
       "      <td>Enter_the_God-Eternals,Herald_of_the_Dreadhord...</td>\n",
       "      <td>God-Eternal_Oketra,The_Wanderer,Sorin,_Vengefu...</td>\n",
       "      <td>Jaya's_Greeting,Angrath,_Captain_of_Chaos,Emer...</td>\n",
       "      <td>Time_Wipe,Mowu,_Loyal_Companion,Ajani's_Pridem...</td>\n",
       "    </tr>\n",
       "    <tr>\n",
       "      <th>3910316</th>\n",
       "      <td>WAR</td>\n",
       "      <td>Teferi,_Time_Raveler,Tamiyo's_Epiphany,Guild_G...</td>\n",
       "      <td>Kaya,_Bane_of_the_Dead,Jaya's_Greeting,Law-Run...</td>\n",
       "      <td>Vraska,_Swarm's_Eminence,Bleeding_Edge,Eternal...</td>\n",
       "      <td>Eternal_Skylord,Vraska's_Finisher,Callous_Dism...</td>\n",
       "      <td>Samut,_Tyrant_Smasher,Arlinn,_Voice_of_the_Pac...</td>\n",
       "      <td>Enter_the_God-Eternals,Totally_Lost,Ugin's_Con...</td>\n",
       "      <td>Vivien's_Arkbow,Huatli,_the_Sun's_Heart,Courag...</td>\n",
       "      <td>Spark_Harvest,Jaya's_Greeting,Raging_Kronch,Ch...</td>\n",
       "    </tr>\n",
       "    <tr>\n",
       "      <th>3910317</th>\n",
       "      <td>WAR</td>\n",
       "      <td>Nissa,_Who_Shakes_the_World,Thundering_Ceratok...</td>\n",
       "      <td>Eternal_Skylord,Chandra's_Triumph,Mobilized_Di...</td>\n",
       "      <td>Nicol_Bolas,_Dragon-God,Kiora,_Behemoth_Beckon...</td>\n",
       "      <td>Ob_Nixilis's_Cruelty,Sorin's_Thirst,Soul_Divin...</td>\n",
       "      <td>God-Eternal_Kefnet,Augur_of_Bolas,Ral's_Outbur...</td>\n",
       "      <td>Domri,_Anarch_of_Bolas,Kasmina,_Enigmatic_Ment...</td>\n",
       "      <td>Bleeding_Edge,Gleaming_Overseer,Vraska's_Finis...</td>\n",
       "      <td>Ob_Nixilis's_Cruelty,Ob_Nixilis's_Cruelty,Tiba...</td>\n",
       "    </tr>\n",
       "  </tbody>\n",
       "</table>\n",
       "</div>"
      ],
      "text/plain": [
       "        format                                              human  \\\n",
       "3910313    WAR  Liliana,_Dreadhorde_General,Liliana's_Triumph,...   \n",
       "3910314    WAR  Sarkhan_the_Masterless,Domri,_Anarch_of_Bolas,...   \n",
       "3910315    WAR  Jaya,_Venerated_Firemage,Law-Rune_Enforcer,Pou...   \n",
       "3910316    WAR  Teferi,_Time_Raveler,Tamiyo's_Epiphany,Guild_G...   \n",
       "3910317    WAR  Nissa,_Who_Shakes_the_World,Thundering_Ceratok...   \n",
       "\n",
       "                                                      bot1  \\\n",
       "3910313  Storrev,_Devkarin_Lich,Band_Together,Davriel,_...   \n",
       "3910314  Dreadhorde_Invasion,Vizier_of_the_Scorpion,Dea...   \n",
       "3910315  Spark_Harvest,Casualties_of_War,Davriel,_Rogue...   \n",
       "3910316  Kaya,_Bane_of_the_Dead,Jaya's_Greeting,Law-Run...   \n",
       "3910317  Eternal_Skylord,Chandra's_Triumph,Mobilized_Di...   \n",
       "\n",
       "                                                      bot2  \\\n",
       "3910313  God-Eternal_Bontu,Gleaming_Overseer,Vizier_of_...   \n",
       "3910314  Dovin,_Hand_of_Control,Law-Rune_Enforcer,Marty...   \n",
       "3910315  Vizier_of_the_Scorpion,Angrath,_Captain_of_Cha...   \n",
       "3910316  Vraska,_Swarm's_Eminence,Bleeding_Edge,Eternal...   \n",
       "3910317  Nicol_Bolas,_Dragon-God,Kiora,_Behemoth_Beckon...   \n",
       "\n",
       "                                                      bot3  \\\n",
       "3910313  Vivien,_Champion_of_the_Wilds,Nahiri,_Storm_of...   \n",
       "3910314  Roalesk,_Apex_Hybrid,Silent_Submersible,Samut,...   \n",
       "3910315  Eternal_Skylord,Turret_Ogre,Sorin's_Thirst,Sky...   \n",
       "3910316  Eternal_Skylord,Vraska's_Finisher,Callous_Dism...   \n",
       "3910317  Ob_Nixilis's_Cruelty,Sorin's_Thirst,Soul_Divin...   \n",
       "\n",
       "                                                      bot4  \\\n",
       "3910313  Awakening_of_Vitu-Ghazi,Challenger_Troll,Wards...   \n",
       "3910314  Kaya,_Bane_of_the_Dead,Spark_Harvest,Sorin's_T...   \n",
       "3910315  Enter_the_God-Eternals,Herald_of_the_Dreadhord...   \n",
       "3910316  Samut,_Tyrant_Smasher,Arlinn,_Voice_of_the_Pac...   \n",
       "3910317  God-Eternal_Kefnet,Augur_of_Bolas,Ral's_Outbur...   \n",
       "\n",
       "                                                      bot5  \\\n",
       "3910313  Sarkhan_the_Masterless,Spark_Harvest,Turret_Og...   \n",
       "3910314  Ajani,_the_Greathearted,Jaya's_Greeting,Tibalt...   \n",
       "3910315  God-Eternal_Oketra,The_Wanderer,Sorin,_Vengefu...   \n",
       "3910316  Enter_the_God-Eternals,Totally_Lost,Ugin's_Con...   \n",
       "3910317  Domri,_Anarch_of_Bolas,Kasmina,_Enigmatic_Ment...   \n",
       "\n",
       "                                                      bot6  \\\n",
       "3910313  Domri's_Ambush,Band_Together,Kiora,_Behemoth_B...   \n",
       "3910314  Vivien's_Arkbow,Cyclops_Electromancer,Spark_Do...   \n",
       "3910315  Jaya's_Greeting,Angrath,_Captain_of_Chaos,Emer...   \n",
       "3910316  Vivien's_Arkbow,Huatli,_the_Sun's_Heart,Courag...   \n",
       "3910317  Bleeding_Edge,Gleaming_Overseer,Vraska's_Finis...   \n",
       "\n",
       "                                                      bot7  \n",
       "3910313  Chandra's_Triumph,Mobilized_District,Trusted_P...  \n",
       "3910314  Domri's_Ambush,Jaya's_Greeting,Bolt_Bend,Turre...  \n",
       "3910315  Time_Wipe,Mowu,_Loyal_Companion,Ajani's_Pridem...  \n",
       "3910316  Spark_Harvest,Jaya's_Greeting,Raging_Kronch,Ch...  \n",
       "3910317  Ob_Nixilis's_Cruelty,Ob_Nixilis's_Cruelty,Tiba...  "
      ]
     },
     "execution_count": 6,
     "metadata": {},
     "output_type": "execute_result"
    }
   ],
   "source": [
    "dataFileNames = {\n",
    "    'XLN': '../../2018-02-23 Two days data XLN.csv',\n",
    "    'DOM': '../../2018-04-16 Dominiaria initial data-2.csv',\n",
    "    'M19': '../../2018-08-23 m19 drafts round 2.csv',\n",
    "    'GRN': '../../2018-10-05 GRN Draft Data 1.csv',\n",
    "    'RNA': '../../2019-01-22 RNA merged.csv',\n",
    "    'WAR': '../../2019-04-29 WAR prerelease leadup.csv'\n",
    "}\n",
    "\n",
    "draftData = pd.read_csv(dataFileNames[setName], \n",
    "                       names = ['format', 'human', 'bot1', 'bot2', 'bot3', 'bot4', 'bot5', 'bot6', 'bot7'])\n",
    "\n",
    "draftData.head()"
   ]
  },
  {
   "cell_type": "code",
   "execution_count": 7,
   "metadata": {},
   "outputs": [],
   "source": [
    "#print(thisSet.keys())\n",
    "dict((k.lower(), v) for k, v in thisSet.items()) # Lowercase the keys\n",
    "cardlist = list(thisSet.keys())\n",
    "#print(cardlist)"
   ]
  },
  {
   "cell_type": "markdown",
   "metadata": {},
   "source": [
    "Main loop, but it's actually quite fast (~10 s)."
   ]
  },
  {
   "cell_type": "code",
   "execution_count": 19,
   "metadata": {},
   "outputs": [
    {
     "name": "stdout",
     "output_type": "stream",
     "text": [
      "Analyzed  61878  records.\n"
     ]
    }
   ],
   "source": [
    "cardpicks = {card : [] for card in cardlist} # Pick order\n",
    "cardpickOn = {card : [] for card in cardlist} # Pick order on color\n",
    "\n",
    "draftCount = 0\n",
    "player = 'human' # normally should be: human, but can also be bot1 or another bot\n",
    "for draft in draftData[player]:\n",
    "    draft = fixName(draft)\n",
    "    draft = draft.lower()\n",
    "    draft = draft.split(',')\n",
    "    draftCount += 1\n",
    "    #colorCount = {i : 0 for i in range(0,6)}\n",
    "    colorCount = [0,0,0,0,0,0,0]\n",
    "    for i in range(14):\n",
    "        try:\n",
    "            cardpicks[draft[i]].append(i+1)\n",
    "            bestColorSoFar = np.argmax(colorCount)\n",
    "            if bestColorSoFar==0 or getCardColor(thisSet[draft[i]]) == bestColorSoFar:\n",
    "                cardpickOn[draft[i]].append(i+1)\n",
    "            colorCount[getCardColor(thisSet[draft[i]])] += 1            \n",
    "        except KeyError as e:\n",
    "            print(draft)\n",
    "            print(count)\n",
    "            raise\n",
    "    #if any('karn_scion_of_urza' in x for x in draft):\n",
    "    #    print(cardpicks['karn_scion_of_urza'][-1])\n",
    "    #    #print(draft)\n",
    "    \n",
    "print(\"Analyzed \",draftCount,\" records.\")"
   ]
  },
  {
   "cell_type": "code",
   "execution_count": 20,
   "metadata": {},
   "outputs": [],
   "source": [
    "for card in cardpicks:\n",
    "    if cardpicks[card] == []:\n",
    "        cardpicks[card].append(15)\n",
    "        \n",
    "for card in cardpickOn:\n",
    "    if cardpickOn[card] == []:\n",
    "        cardpickOn[card].append(15)"
   ]
  },
  {
   "cell_type": "code",
   "execution_count": 21,
   "metadata": {},
   "outputs": [
    {
     "data": {
      "text/plain": [
       "Text(0,0.5,'Frequency')"
      ]
     },
     "execution_count": 21,
     "metadata": {},
     "output_type": "execute_result"
    },
    {
     "data": {
      "image/png": "[encoded data removed]",
      "text/plain": [
       "<Figure size 432x288 with 1 Axes>"
      ]
     },
     "metadata": {
      "needs_background": "light"
     },
     "output_type": "display_data"
    }
   ],
   "source": [
    "#cardpicks['karn_scion_of_urza']\n",
    "#cardpicks['karn_scion_of_urza']\n",
    "#cardpicks['chance_for_glory']\n",
    "\n",
    "goodCardName = 'spark_double' \n",
    "# Controversial in GRN: ionize, chance_for_glory. Well known: leapfrog, silent_dart\n",
    "\n",
    "# Histogram of cardpicks\n",
    "fig, ax = plt.subplots()\n",
    "n, bins, patches = plt.hist(cardpicks[goodCardName], 13, range=(0.5,13.5), density=True, facecolor=(0.2,0.5,1), alpha=0.75)\n",
    "ax.set_title(goodCardName, size=10)\n",
    "plt.xlabel('Pick order')\n",
    "plt.ylabel('Frequency') "
   ]
  },
  {
   "cell_type": "code",
   "execution_count": 22,
   "metadata": {},
   "outputs": [],
   "source": [
    "cardpicksdf = pd.DataFrame({\n",
    "        'avg' : [np.mean(cardpicks[card]) for card in cardpicks],\n",
    "        'var' : [np.var(cardpicks[card]) for card in cardpicks],\n",
    "        'count' : [len(cardpicks[card]) for card in cardpicks],\n",
    "        'color' : [getCardColor(thisSet[card]) for card in cardpicks],\n",
    "        'rarity' :[thisSet[card]['rarity'] for card in cardpicks],\n",
    "        'legendary' : [1 if isLegendary(thisSet[card]) else 0 for card in cardpicks]\n",
    "    }, list(cardpicks.keys()))\n",
    "#cardpicksdf.head()"
   ]
  },
  {
   "cell_type": "code",
   "execution_count": 41,
   "metadata": {},
   "outputs": [],
   "source": [
    "cardpickOndf = pd.DataFrame({\n",
    "        'avg' : [np.mean(cardpickOn[card]) for card in cardpickOn],\n",
    "        'var' : [np.var(cardpickOn[card]) for card in cardpickOn],\n",
    "        'count' : [len(cardpickOn[card]) for card in cardpickOn],\n",
    "        'color' : [getCardColor(thisSet[card]) for card in cardpickOn],\n",
    "        'rarity' :[thisSet[card]['rarity'] for card in cardpickOn],\n",
    "        'legendary' : [1 if isLegendary(thisSet[card]) else 0 for card in cardpickOn]\n",
    "    }, list(cardpickOn.keys()))"
   ]
  },
  {
   "cell_type": "code",
   "execution_count": 23,
   "metadata": {},
   "outputs": [],
   "source": [
    "if player=='human':\n",
    "    cardpicksdf.to_csv('../../data/controversial_cards_'+setName+'.csv', index_label=\"name\")\n",
    "    #cardpickOndf.to_csv('../../data/controversial_cards_data_onColor.csv', index_label=\"name\")\n",
    "else:\n",
    "    cardpicksdf.to_csv('../../data/controversial_cards_'+setName+'_bot.csv', index_label=\"name\")\n",
    "    #cardpickOndf.to_csv('../../data/controversial_cards_data_onColor_bot.csv', index_label=\"name\")"
   ]
  },
  {
   "cell_type": "code",
   "execution_count": 18,
   "metadata": {},
   "outputs": [
    {
     "data": {
      "text/html": [
       "<div>\n",
       "<style scoped>\n",
       "    .dataframe tbody tr th:only-of-type {\n",
       "        vertical-align: middle;\n",
       "    }\n",
       "\n",
       "    .dataframe tbody tr th {\n",
       "        vertical-align: top;\n",
       "    }\n",
       "\n",
       "    .dataframe thead th {\n",
       "        text-align: right;\n",
       "    }\n",
       "</style>\n",
       "<table border=\"1\" class=\"dataframe\">\n",
       "  <thead>\n",
       "    <tr style=\"text-align: right;\">\n",
       "      <th></th>\n",
       "      <th>avg</th>\n",
       "      <th>var</th>\n",
       "      <th>count</th>\n",
       "      <th>color</th>\n",
       "      <th>rarity</th>\n",
       "      <th>legendary</th>\n",
       "    </tr>\n",
       "  </thead>\n",
       "  <tbody>\n",
       "    <tr>\n",
       "      <th>niv-mizzet_reborn</th>\n",
       "      <td>9.245584</td>\n",
       "      <td>19.790971</td>\n",
       "      <td>1755</td>\n",
       "      <td>1</td>\n",
       "      <td>mythic</td>\n",
       "      <td>1</td>\n",
       "    </tr>\n",
       "    <tr>\n",
       "      <th>role_reversal</th>\n",
       "      <td>8.825334</td>\n",
       "      <td>18.330625</td>\n",
       "      <td>2542</td>\n",
       "      <td>1</td>\n",
       "      <td>rare</td>\n",
       "      <td>0</td>\n",
       "    </tr>\n",
       "    <tr>\n",
       "      <th>tamiyo_collector_of_tales</th>\n",
       "      <td>7.550562</td>\n",
       "      <td>18.056111</td>\n",
       "      <td>3115</td>\n",
       "      <td>1</td>\n",
       "      <td>rare</td>\n",
       "      <td>1</td>\n",
       "    </tr>\n",
       "    <tr>\n",
       "      <th>teferi_time_raveler</th>\n",
       "      <td>6.843373</td>\n",
       "      <td>17.971306</td>\n",
       "      <td>4565</td>\n",
       "      <td>1</td>\n",
       "      <td>rare</td>\n",
       "      <td>1</td>\n",
       "    </tr>\n",
       "    <tr>\n",
       "      <th>tenth_district_legionnaire</th>\n",
       "      <td>6.990732</td>\n",
       "      <td>17.766365</td>\n",
       "      <td>3237</td>\n",
       "      <td>1</td>\n",
       "      <td>uncommon</td>\n",
       "      <td>0</td>\n",
       "    </tr>\n",
       "    <tr>\n",
       "      <th>rubblebelt_rioters</th>\n",
       "      <td>7.738573</td>\n",
       "      <td>16.628794</td>\n",
       "      <td>2341</td>\n",
       "      <td>1</td>\n",
       "      <td>uncommon</td>\n",
       "      <td>0</td>\n",
       "    </tr>\n",
       "    <tr>\n",
       "      <th>mayhem_devil</th>\n",
       "      <td>7.360639</td>\n",
       "      <td>16.025956</td>\n",
       "      <td>2942</td>\n",
       "      <td>1</td>\n",
       "      <td>uncommon</td>\n",
       "      <td>0</td>\n",
       "    </tr>\n",
       "    <tr>\n",
       "      <th>pledge_of_unity</th>\n",
       "      <td>8.480060</td>\n",
       "      <td>15.979287</td>\n",
       "      <td>5993</td>\n",
       "      <td>1</td>\n",
       "      <td>uncommon</td>\n",
       "      <td>0</td>\n",
       "    </tr>\n",
       "    <tr>\n",
       "      <th>angrath's_rampage</th>\n",
       "      <td>7.891935</td>\n",
       "      <td>15.813197</td>\n",
       "      <td>4414</td>\n",
       "      <td>1</td>\n",
       "      <td>uncommon</td>\n",
       "      <td>0</td>\n",
       "    </tr>\n",
       "    <tr>\n",
       "      <th>cruel_celebrant</th>\n",
       "      <td>7.520586</td>\n",
       "      <td>15.739665</td>\n",
       "      <td>3279</td>\n",
       "      <td>1</td>\n",
       "      <td>uncommon</td>\n",
       "      <td>0</td>\n",
       "    </tr>\n",
       "  </tbody>\n",
       "</table>\n",
       "</div>"
      ],
      "text/plain": [
       "                                 avg        var  count  color    rarity  \\\n",
       "niv-mizzet_reborn           9.245584  19.790971   1755      1    mythic   \n",
       "role_reversal               8.825334  18.330625   2542      1      rare   \n",
       "tamiyo_collector_of_tales   7.550562  18.056111   3115      1      rare   \n",
       "teferi_time_raveler         6.843373  17.971306   4565      1      rare   \n",
       "tenth_district_legionnaire  6.990732  17.766365   3237      1  uncommon   \n",
       "rubblebelt_rioters          7.738573  16.628794   2341      1  uncommon   \n",
       "mayhem_devil                7.360639  16.025956   2942      1  uncommon   \n",
       "pledge_of_unity             8.480060  15.979287   5993      1  uncommon   \n",
       "angrath's_rampage           7.891935  15.813197   4414      1  uncommon   \n",
       "cruel_celebrant             7.520586  15.739665   3279      1  uncommon   \n",
       "\n",
       "                            legendary  \n",
       "niv-mizzet_reborn                   1  \n",
       "role_reversal                       0  \n",
       "tamiyo_collector_of_tales           1  \n",
       "teferi_time_raveler                 1  \n",
       "tenth_district_legionnaire          0  \n",
       "rubblebelt_rioters                  0  \n",
       "mayhem_devil                        0  \n",
       "pledge_of_unity                     0  \n",
       "angrath's_rampage                   0  \n",
       "cruel_celebrant                     0  "
      ]
     },
     "execution_count": 18,
     "metadata": {},
     "output_type": "execute_result"
    }
   ],
   "source": [
    "cardpicksdf.sort_values(by=['var'], ascending=False).head(10)\n",
    "#cardpicksdf.iloc[0]['rarity'] == 'Common'"
   ]
  },
  {
   "cell_type": "code",
   "execution_count": 23,
   "metadata": {},
   "outputs": [],
   "source": [
    "def getHeights(picks):\n",
    "    heights = [0 for x in range(16)]\n",
    "    \n",
    "    for num in picks:\n",
    "        heights[num] +=1\n",
    "        \n",
    "    return heights"
   ]
  },
  {
   "cell_type": "code",
   "execution_count": 24,
   "metadata": {},
   "outputs": [],
   "source": [
    "colorkey = ['0', 'M', 'W', 'U', 'B', 'G', 'R']\n",
    "colorid = ['#9F9F9F', 'DC03FD', '#F3C750', '#0E68AB', '#150B00', '#00733E', '#D3202A']\n",
    "mplcolors = ['gray', 'mediumvioletred', 'orange', 'dodgerblue', 'black', 'g', 'red']\n"
   ]
  },
  {
   "cell_type": "code",
   "execution_count": 25,
   "metadata": {},
   "outputs": [],
   "source": [
    "mplrarity = ['crimson','orange','gray', 'black', 'w']\n",
    "rarity= ['Mythic Rare', 'Rare', 'Uncommon', 'Common', 'Basic Land']"
   ]
  },
  {
   "cell_type": "code",
   "execution_count": 26,
   "metadata": {
    "scrolled": true
   },
   "outputs": [
    {
     "data": {
      "image/png": "[encoded data removed]",
      "text/plain": [
       "<Figure size 432x288 with 1 Axes>"
      ]
     },
     "metadata": {
      "needs_background": "light"
     },
     "output_type": "display_data"
    }
   ],
   "source": [
    "fig, ax = plt.subplots()\n",
    "\n",
    "scatter = ax.scatter(cardpicksdf['avg'],\n",
    "                     cardpicksdf['var'],\n",
    "                     c = [mplcolors[x] for x in cardpicksdf['color']]\n",
    "                    )\n",
    "\n",
    "ax.set_title(\"Card Picks avg vs var\", size=20)\n",
    "plt.xlabel('avg pick number')\n",
    "plt.ylabel('var in pick number') \n",
    "\n",
    "labels = list(cardpicksdf.index)\n",
    "tooltip = mpld3.plugins.PointLabelTooltip(scatter, labels=labels)\n",
    "mpld3.plugins.connect(fig, tooltip)\n",
    "\n",
    "#plt.savefig('avgvsvar.png')\n",
    "\n",
    "#mpld3.display()"
   ]
  },
  {
   "cell_type": "code",
   "execution_count": 28,
   "metadata": {
    "scrolled": true
   },
   "outputs": [
    {
     "ename": "ValueError",
     "evalue": "'mythic' is not in list",
     "output_type": "error",
     "traceback": [
      "\u001b[1;31m---------------------------------------------------------------------------\u001b[0m",
      "\u001b[1;31mValueError\u001b[0m                                Traceback (most recent call last)",
      "\u001b[1;32m<ipython-input-28-32e350c8bce7>\u001b[0m in \u001b[0;36m<module>\u001b[1;34m()\u001b[0m\n\u001b[0;32m      3\u001b[0m scatter = ax.scatter(cardpicksdf['avg'],\n\u001b[0;32m      4\u001b[0m                      \u001b[0mcardpicksdf\u001b[0m\u001b[1;33m[\u001b[0m\u001b[1;34m'var'\u001b[0m\u001b[1;33m]\u001b[0m\u001b[1;33m,\u001b[0m\u001b[1;33m\u001b[0m\u001b[0m\n\u001b[1;32m----> 5\u001b[1;33m                      \u001b[0mc\u001b[0m \u001b[1;33m=\u001b[0m \u001b[1;33m[\u001b[0m\u001b[0mmplrarity\u001b[0m\u001b[1;33m[\u001b[0m\u001b[0mrarity\u001b[0m\u001b[1;33m.\u001b[0m\u001b[0mindex\u001b[0m\u001b[1;33m(\u001b[0m\u001b[0mx\u001b[0m\u001b[1;33m)\u001b[0m\u001b[1;33m]\u001b[0m \u001b[1;32mfor\u001b[0m \u001b[0mx\u001b[0m \u001b[1;32min\u001b[0m \u001b[0mcardpicksdf\u001b[0m\u001b[1;33m[\u001b[0m\u001b[1;34m'rarity'\u001b[0m\u001b[1;33m]\u001b[0m\u001b[1;33m]\u001b[0m\u001b[1;33m\u001b[0m\u001b[0m\n\u001b[0m\u001b[0;32m      6\u001b[0m                     )\n\u001b[0;32m      7\u001b[0m \u001b[1;33m\u001b[0m\u001b[0m\n",
      "\u001b[1;32m<ipython-input-28-32e350c8bce7>\u001b[0m in \u001b[0;36m<listcomp>\u001b[1;34m(.0)\u001b[0m\n\u001b[0;32m      3\u001b[0m scatter = ax.scatter(cardpicksdf['avg'],\n\u001b[0;32m      4\u001b[0m                      \u001b[0mcardpicksdf\u001b[0m\u001b[1;33m[\u001b[0m\u001b[1;34m'var'\u001b[0m\u001b[1;33m]\u001b[0m\u001b[1;33m,\u001b[0m\u001b[1;33m\u001b[0m\u001b[0m\n\u001b[1;32m----> 5\u001b[1;33m                      \u001b[0mc\u001b[0m \u001b[1;33m=\u001b[0m \u001b[1;33m[\u001b[0m\u001b[0mmplrarity\u001b[0m\u001b[1;33m[\u001b[0m\u001b[0mrarity\u001b[0m\u001b[1;33m.\u001b[0m\u001b[0mindex\u001b[0m\u001b[1;33m(\u001b[0m\u001b[0mx\u001b[0m\u001b[1;33m)\u001b[0m\u001b[1;33m]\u001b[0m \u001b[1;32mfor\u001b[0m \u001b[0mx\u001b[0m \u001b[1;32min\u001b[0m \u001b[0mcardpicksdf\u001b[0m\u001b[1;33m[\u001b[0m\u001b[1;34m'rarity'\u001b[0m\u001b[1;33m]\u001b[0m\u001b[1;33m]\u001b[0m\u001b[1;33m\u001b[0m\u001b[0m\n\u001b[0m\u001b[0;32m      6\u001b[0m                     )\n\u001b[0;32m      7\u001b[0m \u001b[1;33m\u001b[0m\u001b[0m\n",
      "\u001b[1;31mValueError\u001b[0m: 'mythic' is not in list"
     ]
    },
    {
     "data": {
      "image/png": "[encoded data removed]",
      "text/plain": [
       "<Figure size 432x288 with 1 Axes>"
      ]
     },
     "metadata": {
      "needs_background": "light"
     },
     "output_type": "display_data"
    }
   ],
   "source": [
    "fig, ax = plt.subplots()\n",
    "\n",
    "scatter = ax.scatter(cardpicksdf['avg'],\n",
    "                     cardpicksdf['var'],\n",
    "                     c = [mplrarity[rarity.index(x)] for x in cardpicksdf['rarity']]\n",
    "                    )\n",
    "\n",
    "ax.set_title(\"Card Picks avg vs var by rarity\", size=20)\n",
    "plt.xlabel('avg pick number')\n",
    "plt.ylabel('var in pick number') \n",
    "\n",
    "\n",
    "\n",
    "labels = list(cardpicksdf.index)\n",
    "tooltip = mpld3.plugins.PointLabelTooltip(scatter, labels=labels)\n",
    "mpld3.plugins.connect(fig, tooltip)\n",
    "\n",
    "#plt.savefig('avgvsvarRarityDom.png')\n",
    "\n",
    "#mpld3.display()"
   ]
  },
  {
   "cell_type": "code",
   "execution_count": 29,
   "metadata": {},
   "outputs": [
    {
     "ename": "ValueError",
     "evalue": "'mythic' is not in list",
     "output_type": "error",
     "traceback": [
      "\u001b[1;31m---------------------------------------------------------------------------\u001b[0m",
      "\u001b[1;31mValueError\u001b[0m                                Traceback (most recent call last)",
      "\u001b[1;32m<ipython-input-29-61cc9d314f42>\u001b[0m in \u001b[0;36m<module>\u001b[1;34m()\u001b[0m\n\u001b[0;32m      6\u001b[0m scatter = ax.scatter(cardpicksdf.loc[cardpicksdf['legendary'] == 1]['avg'],\n\u001b[0;32m      7\u001b[0m                      \u001b[0mcardpicksdf\u001b[0m\u001b[1;33m.\u001b[0m\u001b[0mloc\u001b[0m\u001b[1;33m[\u001b[0m\u001b[0mcardpicksdf\u001b[0m\u001b[1;33m[\u001b[0m\u001b[1;34m'legendary'\u001b[0m\u001b[1;33m]\u001b[0m \u001b[1;33m==\u001b[0m \u001b[1;36m1\u001b[0m\u001b[1;33m]\u001b[0m\u001b[1;33m[\u001b[0m\u001b[1;34m'var'\u001b[0m\u001b[1;33m]\u001b[0m\u001b[1;33m,\u001b[0m\u001b[1;33m\u001b[0m\u001b[0m\n\u001b[1;32m----> 8\u001b[1;33m                      \u001b[0mc\u001b[0m \u001b[1;33m=\u001b[0m \u001b[1;33m[\u001b[0m\u001b[0mmplrarity\u001b[0m\u001b[1;33m[\u001b[0m\u001b[0mrarity\u001b[0m\u001b[1;33m.\u001b[0m\u001b[0mindex\u001b[0m\u001b[1;33m(\u001b[0m\u001b[0mx\u001b[0m\u001b[1;33m)\u001b[0m\u001b[1;33m]\u001b[0m \u001b[1;32mfor\u001b[0m \u001b[0mx\u001b[0m \u001b[1;32min\u001b[0m \u001b[0mcardpicksdf\u001b[0m\u001b[1;33m[\u001b[0m\u001b[1;34m'rarity'\u001b[0m\u001b[1;33m]\u001b[0m\u001b[1;33m]\u001b[0m\u001b[1;33m,\u001b[0m\u001b[1;33m\u001b[0m\u001b[0m\n\u001b[0m\u001b[0;32m      9\u001b[0m                      \u001b[0mmarker\u001b[0m \u001b[1;33m=\u001b[0m \u001b[1;34m's'\u001b[0m\u001b[1;33m\u001b[0m\u001b[0m\n\u001b[0;32m     10\u001b[0m                     )\n",
      "\u001b[1;32m<ipython-input-29-61cc9d314f42>\u001b[0m in \u001b[0;36m<listcomp>\u001b[1;34m(.0)\u001b[0m\n\u001b[0;32m      6\u001b[0m scatter = ax.scatter(cardpicksdf.loc[cardpicksdf['legendary'] == 1]['avg'],\n\u001b[0;32m      7\u001b[0m                      \u001b[0mcardpicksdf\u001b[0m\u001b[1;33m.\u001b[0m\u001b[0mloc\u001b[0m\u001b[1;33m[\u001b[0m\u001b[0mcardpicksdf\u001b[0m\u001b[1;33m[\u001b[0m\u001b[1;34m'legendary'\u001b[0m\u001b[1;33m]\u001b[0m \u001b[1;33m==\u001b[0m \u001b[1;36m1\u001b[0m\u001b[1;33m]\u001b[0m\u001b[1;33m[\u001b[0m\u001b[1;34m'var'\u001b[0m\u001b[1;33m]\u001b[0m\u001b[1;33m,\u001b[0m\u001b[1;33m\u001b[0m\u001b[0m\n\u001b[1;32m----> 8\u001b[1;33m                      \u001b[0mc\u001b[0m \u001b[1;33m=\u001b[0m \u001b[1;33m[\u001b[0m\u001b[0mmplrarity\u001b[0m\u001b[1;33m[\u001b[0m\u001b[0mrarity\u001b[0m\u001b[1;33m.\u001b[0m\u001b[0mindex\u001b[0m\u001b[1;33m(\u001b[0m\u001b[0mx\u001b[0m\u001b[1;33m)\u001b[0m\u001b[1;33m]\u001b[0m \u001b[1;32mfor\u001b[0m \u001b[0mx\u001b[0m \u001b[1;32min\u001b[0m \u001b[0mcardpicksdf\u001b[0m\u001b[1;33m[\u001b[0m\u001b[1;34m'rarity'\u001b[0m\u001b[1;33m]\u001b[0m\u001b[1;33m]\u001b[0m\u001b[1;33m,\u001b[0m\u001b[1;33m\u001b[0m\u001b[0m\n\u001b[0m\u001b[0;32m      9\u001b[0m                      \u001b[0mmarker\u001b[0m \u001b[1;33m=\u001b[0m \u001b[1;34m's'\u001b[0m\u001b[1;33m\u001b[0m\u001b[0m\n\u001b[0;32m     10\u001b[0m                     )\n",
      "\u001b[1;31mValueError\u001b[0m: 'mythic' is not in list"
     ]
    },
    {
     "data": {
      "image/png": "[encoded data removed]",
      "text/plain": [
       "<Figure size 432x288 with 1 Axes>"
      ]
     },
     "metadata": {
      "needs_background": "light"
     },
     "output_type": "display_data"
    }
   ],
   "source": [
    "fig, ax = plt.subplots()\n",
    "\n",
    "#The top scatter is for legendary cards. The bottom is non legendary.\n",
    "#You can comment one out for more clarity\n",
    "\n",
    "scatter = ax.scatter(cardpicksdf.loc[cardpicksdf['legendary'] == 1]['avg'],\n",
    "                     cardpicksdf.loc[cardpicksdf['legendary'] == 1]['var'],\n",
    "                     c = [mplrarity[rarity.index(x)] for x in cardpicksdf['rarity']],\n",
    "                     marker = 's'\n",
    "                    )\n",
    "scatter = ax.scatter(cardpicksdf.loc[cardpicksdf['legendary'] == 0]['avg'],\n",
    "                     cardpicksdf.loc[cardpicksdf['legendary'] == 0]['var'],\n",
    "                     c = [mplrarity[rarity.index(x)] for x in cardpicksdf['rarity']],\n",
    "                     marker = 'o'\n",
    "                    )\n",
    "\n",
    "ax.set_title(\"Card Picks avg vs var by rarity\", size=10)\n",
    "plt.xlabel('avg pick number')\n",
    "plt.ylabel('var in pick number') \n",
    "\n",
    "\n",
    "\n",
    "labels = list(cardpicksdf.index)\n",
    "tooltip = mpld3.plugins.PointLabelTooltip(scatter, labels=labels)\n",
    "mpld3.plugins.connect(fig, tooltip)\n",
    "\n",
    "plt.savefig('avgvsvarRarityDomNormal.png')\n",
    "\n",
    "mpld3.display()"
   ]
  }
 ],
 "metadata": {
  "kernelspec": {
   "display_name": "Python 3",
   "language": "python",
   "name": "python3"
  },
  "language_info": {
   "codemirror_mode": {
    "name": "ipython",
    "version": 3
   },
   "file_extension": ".py",
   "mimetype": "text/x-python",
   "name": "python",
   "nbconvert_exporter": "python",
   "pygments_lexer": "ipython3",
   "version": "3.7.0"
  }
 },
 "nbformat": 4,
 "nbformat_minor": 2
}
