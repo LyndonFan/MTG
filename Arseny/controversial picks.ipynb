{
 "cells": [
  {
   "cell_type": "code",
   "execution_count": 1,
   "metadata": {},
   "outputs": [],
   "source": [
    "import pandas as pd\n",
    "import numpy as np\n",
    "\n",
    "import csv\n",
    "import json\n",
    "\n",
    "import re\n",
    "\n",
    "import itertools\n",
    "\n",
    "import matplotlib.pyplot as plt\n",
    "import mpld3"
   ]
  },
  {
   "cell_type": "code",
   "execution_count": 7,
   "metadata": {},
   "outputs": [],
   "source": [
    "from draftsim_utils_ab import *"
   ]
  },
  {
   "cell_type": "markdown",
   "metadata": {},
   "source": [
    "Controversial Picks Calculator (by Bobby Mills and Arseny Khakhalin)"
   ]
  },
  {
   "cell_type": "code",
   "execution_count": 4,
   "metadata": {},
   "outputs": [],
   "source": [
    "#mtgJSON = json.load(open('Allsets.json'))\n",
    "with open('../../data/Allsets.json', 'r',encoding='utf-8') as json_data:\n",
    "    mtgJSON = json.load(json_data)"
   ]
  },
  {
   "cell_type": "markdown",
   "metadata": {},
   "source": [
    "Change the set abbrevation below to work with a different set"
   ]
  },
  {
   "cell_type": "code",
   "execution_count": 5,
   "metadata": {},
   "outputs": [],
   "source": [
    "#thisSet = mtgJSON['DOM']['cards']\n",
    "#thisSet = mtgJSON['M19']['cards']\n",
    "#thisSet = mtgJSON['GRN']['cards']\n",
    "thisSet = mtgJSON['RNA']['cards']"
   ]
  },
  {
   "cell_type": "code",
   "execution_count": 8,
   "metadata": {},
   "outputs": [],
   "source": [
    "thisSet = {getName(card) : card for card in thisSet} # a dict with names as indices for cards, for all cards in set"
   ]
  },
  {
   "cell_type": "markdown",
   "metadata": {},
   "source": [
    "Change the data file below to work with the draftsim data you want"
   ]
  },
  {
   "cell_type": "code",
   "execution_count": 9,
   "metadata": {
    "scrolled": true
   },
   "outputs": [
    {
     "data": {
      "text/html": [
       "<div>\n",
       "<style scoped>\n",
       "    .dataframe tbody tr th:only-of-type {\n",
       "        vertical-align: middle;\n",
       "    }\n",
       "\n",
       "    .dataframe tbody tr th {\n",
       "        vertical-align: top;\n",
       "    }\n",
       "\n",
       "    .dataframe thead th {\n",
       "        text-align: right;\n",
       "    }\n",
       "</style>\n",
       "<table border=\"1\" class=\"dataframe\">\n",
       "  <thead>\n",
       "    <tr style=\"text-align: right;\">\n",
       "      <th></th>\n",
       "      <th>format</th>\n",
       "      <th>human</th>\n",
       "      <th>bot1</th>\n",
       "      <th>bot2</th>\n",
       "      <th>bot3</th>\n",
       "      <th>bot4</th>\n",
       "      <th>bot5</th>\n",
       "      <th>bot6</th>\n",
       "      <th>bot7</th>\n",
       "    </tr>\n",
       "  </thead>\n",
       "  <tbody>\n",
       "    <tr>\n",
       "      <th>3024448</th>\n",
       "      <td>RNA</td>\n",
       "      <td>Chillbringer,Summary_Judgment,Thought_Collapse...</td>\n",
       "      <td>Titanic_Brawl,Titanic_Brawl,Rhythm_of_the_Wild...</td>\n",
       "      <td>Pestilent_Spirit,Scorchmark,Immolation_Shaman,...</td>\n",
       "      <td>Trollbred_Guardian,Arrester's_Admonition,Sauro...</td>\n",
       "      <td>Trollbred_Guardian,Simic_Ascendancy,Applied_Bi...</td>\n",
       "      <td>Ravager_Wurm,Titanic_Brawl,Axebane_Beast,Rampa...</td>\n",
       "      <td>Mortify,Flames_of_the_Raze-Boar,Scorchmark,Und...</td>\n",
       "      <td>Skewer_the_Critics,Incubation_Incongruity,Silh...</td>\n",
       "    </tr>\n",
       "    <tr>\n",
       "      <th>3024449</th>\n",
       "      <td>RNA</td>\n",
       "      <td>Zegana,_Utopian_Speaker,Theater_of_Horrors,Cry...</td>\n",
       "      <td>Bedeck_Bedazzle,Vindictive_Vampire,Burning-Tre...</td>\n",
       "      <td>Summary_Judgment,Clear_the_Stage,Final_Payment...</td>\n",
       "      <td>Collision_Colossus,Clan_Guildmage,Biogenic_Upg...</td>\n",
       "      <td>Incubation_Incongruity,Gruul_Beastmaster,Sphin...</td>\n",
       "      <td>Trollbred_Guardian,Open_the_Gates,Simic_Guildg...</td>\n",
       "      <td>Electrodominance,Arrester's_Admonition,Goblin_...</td>\n",
       "      <td>Wilderness_Reclamation,Essence_Capture,Lawmage...</td>\n",
       "    </tr>\n",
       "    <tr>\n",
       "      <th>3024450</th>\n",
       "      <td>RNA</td>\n",
       "      <td>Priest_of_Forgotten_Gods,Imperious_Oligarch,Ba...</td>\n",
       "      <td>Pestilent_Spirit,Titanic_Brawl,Get_the_Point,D...</td>\n",
       "      <td>Electrodominance,Spikewheel_Acrobat,Orzhov_Enf...</td>\n",
       "      <td>Skewer_the_Critics,Grotesque_Demise,Hackrobat,...</td>\n",
       "      <td>Get_the_Point,Arrester's_Admonition,Mortify,Un...</td>\n",
       "      <td>Flames_of_the_Raze-Boar,Gruul_Beastmaster,Biom...</td>\n",
       "      <td>Summary_Judgment,Skewer_the_Critics,Glass_of_t...</td>\n",
       "      <td>Frilled_Mystic,Humongulus,Ministrant_of_Obliga...</td>\n",
       "    </tr>\n",
       "    <tr>\n",
       "      <th>3024451</th>\n",
       "      <td>RNA</td>\n",
       "      <td>Repudiate_Replicate,Sphinx_of_the_Guildpact,Gy...</td>\n",
       "      <td>Grotesque_Demise,Collision_Colossus,Sauroform_...</td>\n",
       "      <td>Precognitive_Perception,Skitter_Eel,Senate_Gui...</td>\n",
       "      <td>Simic_Ascendancy,Essence_Capture,Spirit_of_the...</td>\n",
       "      <td>Simic_Guildgate_1,Depose_Deploy,Civic_Stalwart...</td>\n",
       "      <td>Lumbering_Battlement,Senate_Griffin,Gateway_Pl...</td>\n",
       "      <td>Thrash_Threat,Savage_Smash,Gates_Ablaze,Rubble...</td>\n",
       "      <td>Windstorm_Drake,Code_of_Constraint,Titanic_Bra...</td>\n",
       "    </tr>\n",
       "    <tr>\n",
       "      <th>3024452</th>\n",
       "      <td>RNA</td>\n",
       "      <td>Angel_of_Grace,Impassioned_Orator,Senate_Guild...</td>\n",
       "      <td>Thrash_Threat,Savage_Smash,Immolation_Shaman,S...</td>\n",
       "      <td>Deputy_of_Detention,Ministrant_of_Obligation,E...</td>\n",
       "      <td>Lumbering_Battlement,Lawmage's_Binding,Impassi...</td>\n",
       "      <td>Hydroid_Krasis,Incubation_Incongruity,Open_the...</td>\n",
       "      <td>Incubation_Incongruity,Skewer_the_Critics,Summ...</td>\n",
       "      <td>Dovin,_Grand_Arbiter,Verity_Circle,Sphinx_of_N...</td>\n",
       "      <td>Zegana,_Utopian_Speaker,Titanic_Brawl,Gatebrea...</td>\n",
       "    </tr>\n",
       "  </tbody>\n",
       "</table>\n",
       "</div>"
      ],
      "text/plain": [
       "        format                                              human  \\\n",
       "3024448    RNA  Chillbringer,Summary_Judgment,Thought_Collapse...   \n",
       "3024449    RNA  Zegana,_Utopian_Speaker,Theater_of_Horrors,Cry...   \n",
       "3024450    RNA  Priest_of_Forgotten_Gods,Imperious_Oligarch,Ba...   \n",
       "3024451    RNA  Repudiate_Replicate,Sphinx_of_the_Guildpact,Gy...   \n",
       "3024452    RNA  Angel_of_Grace,Impassioned_Orator,Senate_Guild...   \n",
       "\n",
       "                                                      bot1  \\\n",
       "3024448  Titanic_Brawl,Titanic_Brawl,Rhythm_of_the_Wild...   \n",
       "3024449  Bedeck_Bedazzle,Vindictive_Vampire,Burning-Tre...   \n",
       "3024450  Pestilent_Spirit,Titanic_Brawl,Get_the_Point,D...   \n",
       "3024451  Grotesque_Demise,Collision_Colossus,Sauroform_...   \n",
       "3024452  Thrash_Threat,Savage_Smash,Immolation_Shaman,S...   \n",
       "\n",
       "                                                      bot2  \\\n",
       "3024448  Pestilent_Spirit,Scorchmark,Immolation_Shaman,...   \n",
       "3024449  Summary_Judgment,Clear_the_Stage,Final_Payment...   \n",
       "3024450  Electrodominance,Spikewheel_Acrobat,Orzhov_Enf...   \n",
       "3024451  Precognitive_Perception,Skitter_Eel,Senate_Gui...   \n",
       "3024452  Deputy_of_Detention,Ministrant_of_Obligation,E...   \n",
       "\n",
       "                                                      bot3  \\\n",
       "3024448  Trollbred_Guardian,Arrester's_Admonition,Sauro...   \n",
       "3024449  Collision_Colossus,Clan_Guildmage,Biogenic_Upg...   \n",
       "3024450  Skewer_the_Critics,Grotesque_Demise,Hackrobat,...   \n",
       "3024451  Simic_Ascendancy,Essence_Capture,Spirit_of_the...   \n",
       "3024452  Lumbering_Battlement,Lawmage's_Binding,Impassi...   \n",
       "\n",
       "                                                      bot4  \\\n",
       "3024448  Trollbred_Guardian,Simic_Ascendancy,Applied_Bi...   \n",
       "3024449  Incubation_Incongruity,Gruul_Beastmaster,Sphin...   \n",
       "3024450  Get_the_Point,Arrester's_Admonition,Mortify,Un...   \n",
       "3024451  Simic_Guildgate_1,Depose_Deploy,Civic_Stalwart...   \n",
       "3024452  Hydroid_Krasis,Incubation_Incongruity,Open_the...   \n",
       "\n",
       "                                                      bot5  \\\n",
       "3024448  Ravager_Wurm,Titanic_Brawl,Axebane_Beast,Rampa...   \n",
       "3024449  Trollbred_Guardian,Open_the_Gates,Simic_Guildg...   \n",
       "3024450  Flames_of_the_Raze-Boar,Gruul_Beastmaster,Biom...   \n",
       "3024451  Lumbering_Battlement,Senate_Griffin,Gateway_Pl...   \n",
       "3024452  Incubation_Incongruity,Skewer_the_Critics,Summ...   \n",
       "\n",
       "                                                      bot6  \\\n",
       "3024448  Mortify,Flames_of_the_Raze-Boar,Scorchmark,Und...   \n",
       "3024449  Electrodominance,Arrester's_Admonition,Goblin_...   \n",
       "3024450  Summary_Judgment,Skewer_the_Critics,Glass_of_t...   \n",
       "3024451  Thrash_Threat,Savage_Smash,Gates_Ablaze,Rubble...   \n",
       "3024452  Dovin,_Grand_Arbiter,Verity_Circle,Sphinx_of_N...   \n",
       "\n",
       "                                                      bot7  \n",
       "3024448  Skewer_the_Critics,Incubation_Incongruity,Silh...  \n",
       "3024449  Wilderness_Reclamation,Essence_Capture,Lawmage...  \n",
       "3024450  Frilled_Mystic,Humongulus,Ministrant_of_Obliga...  \n",
       "3024451  Windstorm_Drake,Code_of_Constraint,Titanic_Bra...  \n",
       "3024452  Zegana,_Utopian_Speaker,Titanic_Brawl,Gatebrea...  "
      ]
     },
     "execution_count": 9,
     "metadata": {},
     "output_type": "execute_result"
    }
   ],
   "source": [
    "draftData = pd.read_csv('../../2019-01-16 RNA test.csv', \n",
    "                       names = ['format', 'human', 'bot1', 'bot2', 'bot3', 'bot4', 'bot5', 'bot6', 'bot7'])\n",
    "#draftData = pd.read_csv('../2018-10-05 GRN Draft Data 1.csv', \n",
    "#                       names = ['format', 'human', 'bot1', 'bot2', 'bot3', 'bot4', 'bot5', 'bot6', 'bot7'])\n",
    "#draftData = pd.read_csv('05-31-18 Rows 500000-600000.csv', \n",
    "#                       names = ['format', 'human', 'bot1', 'bot2', 'bot3', 'bot4', 'bot5', 'bot6', 'bot7'])\n",
    "#draftData = pd.read_csv('../2018-08-23 m19 drafts round 2.csv', \n",
    "#                      names = ['format', 'human', 'bot1', 'bot2', 'bot3', 'bot4', 'bot5', 'bot6', 'bot7'])\n",
    "#draftData = pd.read_csv('2018-04-16 Dominiaria initial data-2.csv', \n",
    "#                        names = ['format', 'human', 'bot1', 'bot2', 'bot3', 'bot4', 'bot5', 'bot6', 'bot7'])\n",
    "draftData.head()"
   ]
  },
  {
   "cell_type": "code",
   "execution_count": 10,
   "metadata": {},
   "outputs": [],
   "source": [
    "#print(thisSet.keys())\n",
    "dict((k.lower(), v) for k, v in thisSet.items()) # Lowercase the keys\n",
    "cardlist = list(thisSet.keys())\n",
    "#print(cardlist)"
   ]
  },
  {
   "cell_type": "code",
   "execution_count": 12,
   "metadata": {},
   "outputs": [],
   "source": [
    "#Pick a card name to see what the mtgJSON looks like\n",
    "# thisSet['gigantosaurus'] # M19\n",
    "#thisSet['karn_scion_of_urza']\n",
    "#thisSet['blade_instructor'] # grn"
   ]
  },
  {
   "cell_type": "code",
   "execution_count": 13,
   "metadata": {},
   "outputs": [],
   "source": [
    "cardpicks = {card : [] for card in cardlist} # Pick order\n",
    "cardpickOn = {card : [] for card in cardlist} # Pick order on color\n",
    "\n",
    "count = 0\n",
    "player = 'human' # normally should be: human, but can also be bot1 or another bot\n",
    "for draft in draftData[player]:\n",
    "    draft = fixName(draft)\n",
    "    draft = draft.lower()\n",
    "    draft = draft.split(',')\n",
    "    count = count+1    \n",
    "    #colorCount = {i : 0 for i in range(0,6)}\n",
    "    colorCount = [0,0,0,0,0,0,0]\n",
    "    for i in range(14):\n",
    "        try:\n",
    "            cardpicks[draft[i]].append(i+1)\n",
    "            bestColorSoFar = np.argmax(colorCount)\n",
    "            if bestColorSoFar==0 or getCardColor(thisSet[draft[i]]) == bestColorSoFar:\n",
    "                cardpickOn[draft[i]].append(i+1)\n",
    "            colorCount[getCardColor(thisSet[draft[i]])] += 1            \n",
    "        except KeyError as e:\n",
    "            print(draft)\n",
    "            print(count)\n",
    "            raise\n",
    "    #if any('karn_scion_of_urza' in x for x in draft):\n",
    "    #    print(cardpicks['karn_scion_of_urza'][-1])\n",
    "    #    #print(draft)"
   ]
  },
  {
   "cell_type": "code",
   "execution_count": 14,
   "metadata": {},
   "outputs": [],
   "source": [
    "for card in cardpicks:\n",
    "    if cardpicks[card] == []:\n",
    "        cardpicks[card].append(15)\n",
    "        \n",
    "for card in cardpickOn:\n",
    "    if cardpickOn[card] == []:\n",
    "        cardpickOn[card].append(15)"
   ]
  },
  {
   "cell_type": "code",
   "execution_count": 16,
   "metadata": {},
   "outputs": [
    {
     "data": {
      "text/plain": [
       "Text(0,0.5,'Frequency')"
      ]
     },
     "execution_count": 16,
     "metadata": {},
     "output_type": "execute_result"
    },
    {
     "data": {
      "image/png": "[encoded data removed]",
      "text/plain": [
       "<Figure size 432x288 with 1 Axes>"
      ]
     },
     "metadata": {
      "needs_background": "light"
     },
     "output_type": "display_data"
    }
   ],
   "source": [
    "#cardpicks['karn_scion_of_urza']\n",
    "#cardpicks['karn_scion_of_urza']\n",
    "#cardpicks['chance_for_glory']\n",
    "\n",
    "goodCardName = 'cindervines' # Controversial in GRN: ionize, chance_for_glory. Well known: leapfrog, silent_dart\n",
    "\n",
    "# Histogram of cardpicks\n",
    "fig, ax = plt.subplots()\n",
    "n, bins, patches = plt.hist(cardpicks[goodCardName], 13, range=(0.5,13.5), density=True, facecolor=(0.2,0.5,1), alpha=0.75)\n",
    "ax.set_title(goodCardName, size=10)\n",
    "plt.xlabel('Pick order')\n",
    "plt.ylabel('Frequency') "
   ]
  },
  {
   "cell_type": "code",
   "execution_count": 17,
   "metadata": {},
   "outputs": [],
   "source": [
    "cardpicksdf = pd.DataFrame({\n",
    "        'avg' : [np.mean(cardpicks[card]) for card in cardpicks],\n",
    "        'var' : [np.var(cardpicks[card]) for card in cardpicks],\n",
    "        'count' : [len(cardpicks[card]) for card in cardpicks],\n",
    "        'color' : [getCardColor(thisSet[card]) for card in cardpicks],\n",
    "        'rarity' :[thisSet[card]['rarity'] for card in cardpicks],\n",
    "        'legendary' : [1 if isLegendary(thisSet[card]) else 0 for card in cardpicks]\n",
    "    }, list(cardpicks.keys()))\n",
    "#cardpicksdf.head()"
   ]
  },
  {
   "cell_type": "code",
   "execution_count": 18,
   "metadata": {},
   "outputs": [],
   "source": [
    "cardpickOndf = pd.DataFrame({\n",
    "        'avg' : [np.mean(cardpickOn[card]) for card in cardpickOn],\n",
    "        'var' : [np.var(cardpickOn[card]) for card in cardpickOn],\n",
    "        'count' : [len(cardpickOn[card]) for card in cardpickOn],\n",
    "        'color' : [getCardColor(thisSet[card]) for card in cardpickOn],\n",
    "        'rarity' :[thisSet[card]['rarity'] for card in cardpickOn],\n",
    "        'legendary' : [1 if isLegendary(thisSet[card]) else 0 for card in cardpickOn]\n",
    "    }, list(cardpickOn.keys()))"
   ]
  },
  {
   "cell_type": "code",
   "execution_count": 28,
   "metadata": {},
   "outputs": [],
   "source": [
    "if player=='human':\n",
    "    cardpicksdf.to_csv('../../data/controversial_cards_data.csv', index_label=\"name\")\n",
    "    cardpickOndf.to_csv('../../data/controversial_cards_data_onColor.csv', index_label=\"name\")\n",
    "else:\n",
    "    cardpicksdf.to_csv('../../data/controversial_cards_data_bot.csv', index_label=\"name\")\n",
    "    cardpickOndf.to_csv('../../data/controversial_cards_data_onColor_bot.csv', index_label=\"name\")"
   ]
  },
  {
   "cell_type": "code",
   "execution_count": 22,
   "metadata": {},
   "outputs": [
    {
     "data": {
      "text/html": [
       "<div>\n",
       "<style scoped>\n",
       "    .dataframe tbody tr th:only-of-type {\n",
       "        vertical-align: middle;\n",
       "    }\n",
       "\n",
       "    .dataframe tbody tr th {\n",
       "        vertical-align: top;\n",
       "    }\n",
       "\n",
       "    .dataframe thead th {\n",
       "        text-align: right;\n",
       "    }\n",
       "</style>\n",
       "<table border=\"1\" class=\"dataframe\">\n",
       "  <thead>\n",
       "    <tr style=\"text-align: right;\">\n",
       "      <th></th>\n",
       "      <th>avg</th>\n",
       "      <th>var</th>\n",
       "      <th>count</th>\n",
       "      <th>color</th>\n",
       "      <th>rarity</th>\n",
       "      <th>legendary</th>\n",
       "    </tr>\n",
       "  </thead>\n",
       "  <tbody>\n",
       "    <tr>\n",
       "      <th>kaya_orzhov_usurper</th>\n",
       "      <td>7.561835</td>\n",
       "      <td>18.618517</td>\n",
       "      <td>1504</td>\n",
       "      <td>1</td>\n",
       "      <td>mythic</td>\n",
       "      <td>1</td>\n",
       "    </tr>\n",
       "    <tr>\n",
       "      <th>emergency_powers</th>\n",
       "      <td>9.187817</td>\n",
       "      <td>18.339344</td>\n",
       "      <td>985</td>\n",
       "      <td>1</td>\n",
       "      <td>mythic</td>\n",
       "      <td>0</td>\n",
       "    </tr>\n",
       "    <tr>\n",
       "      <th>cindervines</th>\n",
       "      <td>8.856627</td>\n",
       "      <td>17.973420</td>\n",
       "      <td>1660</td>\n",
       "      <td>1</td>\n",
       "      <td>rare</td>\n",
       "      <td>0</td>\n",
       "    </tr>\n",
       "    <tr>\n",
       "      <th>mirror_march</th>\n",
       "      <td>7.475898</td>\n",
       "      <td>17.096045</td>\n",
       "      <td>1141</td>\n",
       "      <td>5</td>\n",
       "      <td>rare</td>\n",
       "      <td>0</td>\n",
       "    </tr>\n",
       "    <tr>\n",
       "      <th>absorb</th>\n",
       "      <td>7.230187</td>\n",
       "      <td>16.507337</td>\n",
       "      <td>1981</td>\n",
       "      <td>1</td>\n",
       "      <td>rare</td>\n",
       "      <td>0</td>\n",
       "    </tr>\n",
       "    <tr>\n",
       "      <th>smothering_tithe</th>\n",
       "      <td>7.532508</td>\n",
       "      <td>16.482689</td>\n",
       "      <td>1292</td>\n",
       "      <td>2</td>\n",
       "      <td>rare</td>\n",
       "      <td>0</td>\n",
       "    </tr>\n",
       "    <tr>\n",
       "      <th>high_alert</th>\n",
       "      <td>7.058573</td>\n",
       "      <td>16.481829</td>\n",
       "      <td>2578</td>\n",
       "      <td>1</td>\n",
       "      <td>uncommon</td>\n",
       "      <td>0</td>\n",
       "    </tr>\n",
       "    <tr>\n",
       "      <th>lavinia_azorius_renegade</th>\n",
       "      <td>9.094844</td>\n",
       "      <td>15.856695</td>\n",
       "      <td>1571</td>\n",
       "      <td>1</td>\n",
       "      <td>rare</td>\n",
       "      <td>1</td>\n",
       "    </tr>\n",
       "    <tr>\n",
       "      <th>blood_crypt</th>\n",
       "      <td>7.832180</td>\n",
       "      <td>15.183774</td>\n",
       "      <td>2312</td>\n",
       "      <td>1</td>\n",
       "      <td>rare</td>\n",
       "      <td>0</td>\n",
       "    </tr>\n",
       "    <tr>\n",
       "      <th>godless_shrine</th>\n",
       "      <td>7.628521</td>\n",
       "      <td>15.098799</td>\n",
       "      <td>2272</td>\n",
       "      <td>1</td>\n",
       "      <td>rare</td>\n",
       "      <td>0</td>\n",
       "    </tr>\n",
       "  </tbody>\n",
       "</table>\n",
       "</div>"
      ],
      "text/plain": [
       "                               avg        var  count  color    rarity  \\\n",
       "kaya_orzhov_usurper       7.561835  18.618517   1504      1    mythic   \n",
       "emergency_powers          9.187817  18.339344    985      1    mythic   \n",
       "cindervines               8.856627  17.973420   1660      1      rare   \n",
       "mirror_march              7.475898  17.096045   1141      5      rare   \n",
       "absorb                    7.230187  16.507337   1981      1      rare   \n",
       "smothering_tithe          7.532508  16.482689   1292      2      rare   \n",
       "high_alert                7.058573  16.481829   2578      1  uncommon   \n",
       "lavinia_azorius_renegade  9.094844  15.856695   1571      1      rare   \n",
       "blood_crypt               7.832180  15.183774   2312      1      rare   \n",
       "godless_shrine            7.628521  15.098799   2272      1      rare   \n",
       "\n",
       "                          legendary  \n",
       "kaya_orzhov_usurper               1  \n",
       "emergency_powers                  0  \n",
       "cindervines                       0  \n",
       "mirror_march                      0  \n",
       "absorb                            0  \n",
       "smothering_tithe                  0  \n",
       "high_alert                        0  \n",
       "lavinia_azorius_renegade          1  \n",
       "blood_crypt                       0  \n",
       "godless_shrine                    0  "
      ]
     },
     "execution_count": 22,
     "metadata": {},
     "output_type": "execute_result"
    }
   ],
   "source": [
    "cardpicksdf.sort_values(by=['var'], ascending=False).head(10)\n",
    "#cardpicksdf.iloc[0]['rarity'] == 'Common'"
   ]
  },
  {
   "cell_type": "code",
   "execution_count": 23,
   "metadata": {},
   "outputs": [],
   "source": [
    "def getHeights(picks):\n",
    "    heights = [0 for x in range(16)]\n",
    "    \n",
    "    for num in picks:\n",
    "        heights[num] +=1\n",
    "        \n",
    "    return heights"
   ]
  },
  {
   "cell_type": "code",
   "execution_count": 24,
   "metadata": {},
   "outputs": [],
   "source": [
    "colorkey = ['0', 'M', 'W', 'U', 'B', 'G', 'R']\n",
    "colorid = ['#9F9F9F', 'DC03FD', '#F3C750', '#0E68AB', '#150B00', '#00733E', '#D3202A']\n",
    "mplcolors = ['gray', 'mediumvioletred', 'orange', 'dodgerblue', 'black', 'g', 'red']\n"
   ]
  },
  {
   "cell_type": "code",
   "execution_count": 25,
   "metadata": {},
   "outputs": [],
   "source": [
    "mplrarity = ['crimson','orange','gray', 'black', 'w']\n",
    "rarity= ['Mythic Rare', 'Rare', 'Uncommon', 'Common', 'Basic Land']"
   ]
  },
  {
   "cell_type": "code",
   "execution_count": 26,
   "metadata": {
    "scrolled": true
   },
   "outputs": [
    {
     "data": {
      "image/png": "[encoded data removed]",
      "text/plain": [
       "<Figure size 432x288 with 1 Axes>"
      ]
     },
     "metadata": {
      "needs_background": "light"
     },
     "output_type": "display_data"
    }
   ],
   "source": [
    "fig, ax = plt.subplots()\n",
    "\n",
    "scatter = ax.scatter(cardpicksdf['avg'],\n",
    "                     cardpicksdf['var'],\n",
    "                     c = [mplcolors[x] for x in cardpicksdf['color']]\n",
    "                    )\n",
    "\n",
    "ax.set_title(\"Card Picks avg vs var\", size=20)\n",
    "plt.xlabel('avg pick number')\n",
    "plt.ylabel('var in pick number') \n",
    "\n",
    "labels = list(cardpicksdf.index)\n",
    "tooltip = mpld3.plugins.PointLabelTooltip(scatter, labels=labels)\n",
    "mpld3.plugins.connect(fig, tooltip)\n",
    "\n",
    "#plt.savefig('avgvsvar.png')\n",
    "\n",
    "#mpld3.display()"
   ]
  },
  {
   "cell_type": "code",
   "execution_count": 27,
   "metadata": {
    "scrolled": true
   },
   "outputs": [
    {
     "ename": "ValueError",
     "evalue": "'mythic' is not in list",
     "output_type": "error",
     "traceback": [
      "\u001b[1;31m---------------------------------------------------------------------------\u001b[0m",
      "\u001b[1;31mValueError\u001b[0m                                Traceback (most recent call last)",
      "\u001b[1;32m<ipython-input-27-32e350c8bce7>\u001b[0m in \u001b[0;36m<module>\u001b[1;34m()\u001b[0m\n\u001b[0;32m      3\u001b[0m scatter = ax.scatter(cardpicksdf['avg'],\n\u001b[0;32m      4\u001b[0m                      \u001b[0mcardpicksdf\u001b[0m\u001b[1;33m[\u001b[0m\u001b[1;34m'var'\u001b[0m\u001b[1;33m]\u001b[0m\u001b[1;33m,\u001b[0m\u001b[1;33m\u001b[0m\u001b[0m\n\u001b[1;32m----> 5\u001b[1;33m                      \u001b[0mc\u001b[0m \u001b[1;33m=\u001b[0m \u001b[1;33m[\u001b[0m\u001b[0mmplrarity\u001b[0m\u001b[1;33m[\u001b[0m\u001b[0mrarity\u001b[0m\u001b[1;33m.\u001b[0m\u001b[0mindex\u001b[0m\u001b[1;33m(\u001b[0m\u001b[0mx\u001b[0m\u001b[1;33m)\u001b[0m\u001b[1;33m]\u001b[0m \u001b[1;32mfor\u001b[0m \u001b[0mx\u001b[0m \u001b[1;32min\u001b[0m \u001b[0mcardpicksdf\u001b[0m\u001b[1;33m[\u001b[0m\u001b[1;34m'rarity'\u001b[0m\u001b[1;33m]\u001b[0m\u001b[1;33m]\u001b[0m\u001b[1;33m\u001b[0m\u001b[0m\n\u001b[0m\u001b[0;32m      6\u001b[0m                     )\n\u001b[0;32m      7\u001b[0m \u001b[1;33m\u001b[0m\u001b[0m\n",
      "\u001b[1;32m<ipython-input-27-32e350c8bce7>\u001b[0m in \u001b[0;36m<listcomp>\u001b[1;34m(.0)\u001b[0m\n\u001b[0;32m      3\u001b[0m scatter = ax.scatter(cardpicksdf['avg'],\n\u001b[0;32m      4\u001b[0m                      \u001b[0mcardpicksdf\u001b[0m\u001b[1;33m[\u001b[0m\u001b[1;34m'var'\u001b[0m\u001b[1;33m]\u001b[0m\u001b[1;33m,\u001b[0m\u001b[1;33m\u001b[0m\u001b[0m\n\u001b[1;32m----> 5\u001b[1;33m                      \u001b[0mc\u001b[0m \u001b[1;33m=\u001b[0m \u001b[1;33m[\u001b[0m\u001b[0mmplrarity\u001b[0m\u001b[1;33m[\u001b[0m\u001b[0mrarity\u001b[0m\u001b[1;33m.\u001b[0m\u001b[0mindex\u001b[0m\u001b[1;33m(\u001b[0m\u001b[0mx\u001b[0m\u001b[1;33m)\u001b[0m\u001b[1;33m]\u001b[0m \u001b[1;32mfor\u001b[0m \u001b[0mx\u001b[0m \u001b[1;32min\u001b[0m \u001b[0mcardpicksdf\u001b[0m\u001b[1;33m[\u001b[0m\u001b[1;34m'rarity'\u001b[0m\u001b[1;33m]\u001b[0m\u001b[1;33m]\u001b[0m\u001b[1;33m\u001b[0m\u001b[0m\n\u001b[0m\u001b[0;32m      6\u001b[0m                     )\n\u001b[0;32m      7\u001b[0m \u001b[1;33m\u001b[0m\u001b[0m\n",
      "\u001b[1;31mValueError\u001b[0m: 'mythic' is not in list"
     ]
    },
    {
     "data": {
      "image/png": "[encoded data removed]",
      "text/plain": [
       "<Figure size 432x288 with 1 Axes>"
      ]
     },
     "metadata": {
      "needs_background": "light"
     },
     "output_type": "display_data"
    }
   ],
   "source": [
    "fig, ax = plt.subplots()\n",
    "\n",
    "scatter = ax.scatter(cardpicksdf['avg'],\n",
    "                     cardpicksdf['var'],\n",
    "                     c = [mplrarity[rarity.index(x)] for x in cardpicksdf['rarity']]\n",
    "                    )\n",
    "\n",
    "ax.set_title(\"Card Picks avg vs var by rarity\", size=20)\n",
    "plt.xlabel('avg pick number')\n",
    "plt.ylabel('var in pick number') \n",
    "\n",
    "\n",
    "\n",
    "labels = list(cardpicksdf.index)\n",
    "tooltip = mpld3.plugins.PointLabelTooltip(scatter, labels=labels)\n",
    "mpld3.plugins.connect(fig, tooltip)\n",
    "\n",
    "#plt.savefig('avgvsvarRarityDom.png')\n",
    "\n",
    "#mpld3.display()"
   ]
  },
  {
   "cell_type": "code",
   "execution_count": null,
   "metadata": {},
   "outputs": [],
   "source": [
    "fig, ax = plt.subplots()\n",
    "\n",
    "#The top scatter is for legendary cards. The bottom is non legendary.\n",
    "#You can comment one out for more clarity\n",
    "\n",
    "scatter = ax.scatter(cardpicksdf.loc[cardpicksdf['legendary'] == 1]['avg'],\n",
    "                     cardpicksdf.loc[cardpicksdf['legendary'] == 1]['var'],\n",
    "                     c = [mplrarity[rarity.index(x)] for x in cardpicksdf['rarity']],\n",
    "                     marker = 's'\n",
    "                    )\n",
    "scatter = ax.scatter(cardpicksdf.loc[cardpicksdf['legendary'] == 0]['avg'],\n",
    "                     cardpicksdf.loc[cardpicksdf['legendary'] == 0]['var'],\n",
    "                     c = [mplrarity[rarity.index(x)] for x in cardpicksdf['rarity']],\n",
    "                     marker = 'o'\n",
    "                    )\n",
    "\n",
    "ax.set_title(\"Card Picks avg vs var by rarity\", size=10)\n",
    "plt.xlabel('avg pick number')\n",
    "plt.ylabel('var in pick number') \n",
    "\n",
    "\n",
    "\n",
    "labels = list(cardpicksdf.index)\n",
    "tooltip = mpld3.plugins.PointLabelTooltip(scatter, labels=labels)\n",
    "mpld3.plugins.connect(fig, tooltip)\n",
    "\n",
    "plt.savefig('avgvsvarRarityDomNormal.png')\n",
    "\n",
    "mpld3.display()"
   ]
  }
 ],
 "metadata": {
  "kernelspec": {
   "display_name": "Python 3",
   "language": "python",
   "name": "python3"
  },
  "language_info": {
   "codemirror_mode": {
    "name": "ipython",
    "version": 3
   },
   "file_extension": ".py",
   "mimetype": "text/x-python",
   "name": "python",
   "nbconvert_exporter": "python",
   "pygments_lexer": "ipython3",
   "version": "3.7.0"
  }
 },
 "nbformat": 4,
 "nbformat_minor": 2
}
