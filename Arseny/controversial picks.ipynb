{
 "cells": [
  {
   "cell_type": "markdown",
   "metadata": {},
   "source": [
    "Controversial Picks Calculator (by Bobby Mills and Arseny Khakhalin)\n",
    "\n",
    "For now this script doesn't perform a full analysis. It needs to be run on the set for human player, then it should be manually made run for a bot, and then there's an R script named `controversial_picks_part2.R` that finalizes the comparison."
   ]
  },
  {
   "cell_type": "code",
   "execution_count": 1,
   "metadata": {},
   "outputs": [],
   "source": [
    "import pandas as pd\n",
    "import numpy as np\n",
    "\n",
    "import csv\n",
    "import json\n",
    "\n",
    "import re\n",
    "\n",
    "import itertools\n",
    "\n",
    "import matplotlib.pyplot as plt\n",
    "import mpld3"
   ]
  },
  {
   "cell_type": "code",
   "execution_count": 2,
   "metadata": {},
   "outputs": [],
   "source": [
    "from draftsim_utils_ab import *"
   ]
  },
  {
   "cell_type": "code",
   "execution_count": 3,
   "metadata": {},
   "outputs": [],
   "source": [
    "#mtgJSON = json.load(open('Allsets.json'))\n",
    "with open('../../data/Allsets.json', 'r',encoding='utf-8') as json_data:\n",
    "    mtgJSON = json.load(json_data)"
   ]
  },
  {
   "cell_type": "markdown",
   "metadata": {},
   "source": [
    "Change the set abbrevation below to work with a different set"
   ]
  },
  {
   "cell_type": "code",
   "execution_count": 5,
   "metadata": {},
   "outputs": [],
   "source": [
    "# Alternatives: XLN, DOM, M19, GRN, RNA\n",
    "setName = 'RNA'"
   ]
  },
  {
   "cell_type": "code",
   "execution_count": 7,
   "metadata": {},
   "outputs": [],
   "source": [
    "thisSet = mtgJSON[setName]['cards']\n",
    "\n",
    "thisSet = {getName(card) : card for card in thisSet} # a dict with names as indices for cards, for all cards in set"
   ]
  },
  {
   "cell_type": "code",
   "execution_count": 9,
   "metadata": {
    "scrolled": true
   },
   "outputs": [
    {
     "data": {
      "text/html": [
       "<div>\n",
       "<style scoped>\n",
       "    .dataframe tbody tr th:only-of-type {\n",
       "        vertical-align: middle;\n",
       "    }\n",
       "\n",
       "    .dataframe tbody tr th {\n",
       "        vertical-align: top;\n",
       "    }\n",
       "\n",
       "    .dataframe thead th {\n",
       "        text-align: right;\n",
       "    }\n",
       "</style>\n",
       "<table border=\"1\" class=\"dataframe\">\n",
       "  <thead>\n",
       "    <tr style=\"text-align: right;\">\n",
       "      <th></th>\n",
       "      <th>format</th>\n",
       "      <th>human</th>\n",
       "      <th>bot1</th>\n",
       "      <th>bot2</th>\n",
       "      <th>bot3</th>\n",
       "      <th>bot4</th>\n",
       "      <th>bot5</th>\n",
       "      <th>bot6</th>\n",
       "      <th>bot7</th>\n",
       "    </tr>\n",
       "  </thead>\n",
       "  <tbody>\n",
       "    <tr>\n",
       "      <th>3095772</th>\n",
       "      <td>RNA</td>\n",
       "      <td>Angel_of_Grace,Final_Payment,Concordia_Pegasus...</td>\n",
       "      <td>Biomancer's_Familiar,Incubation_Incongruity,Wr...</td>\n",
       "      <td>Biomancer's_Familiar,Sharktocrab,Applied_Bioma...</td>\n",
       "      <td>Zegana,_Utopian_Speaker,Sharktocrab,Rubble_Sli...</td>\n",
       "      <td>Tithe_Taker,Forbidding_Spirit,Civic_Stalwart,S...</td>\n",
       "      <td>Skewer_the_Critics,Get_the_Point,Light_Up_the_...</td>\n",
       "      <td>Spirit_of_the_Spires,Verity_Circle,Orzhov_Guil...</td>\n",
       "      <td>Sphinx_of_New_Prahv,Tenth_District_Veteran,Imp...</td>\n",
       "    </tr>\n",
       "    <tr>\n",
       "      <th>3095773</th>\n",
       "      <td>RNA</td>\n",
       "      <td>Zegana,_Utopian_Speaker,Sharktocrab,Sharktocra...</td>\n",
       "      <td>Precognitive_Perception,Azorius_Guildgate_2,Ar...</td>\n",
       "      <td>Windstorm_Drake,Arrester's_Admonition,Cry_of_t...</td>\n",
       "      <td>Mortify,Code_of_Constraint,Sky_Tether,Gateway_...</td>\n",
       "      <td>Growth-Chamber_Guardian,Flames_of_the_Raze-Boa...</td>\n",
       "      <td>Enraged_Ceratok,Skewer_the_Critics,Grotesque_D...</td>\n",
       "      <td>Incubation_Druid,Clan_Guildmage,Gruul_Beastmas...</td>\n",
       "      <td>Kaya's_Wrath,Arrester's_Admonition,Arrester's_...</td>\n",
       "    </tr>\n",
       "    <tr>\n",
       "      <th>3095774</th>\n",
       "      <td>RNA</td>\n",
       "      <td>Bedevil,Rubblebelt_Recluse,Cindervines,Noxious...</td>\n",
       "      <td>Repudiate_Replicate,Rampaging_Rendhorn,Depose_...</td>\n",
       "      <td>Repudiate_Replicate,Frilled_Mystic,Gift_of_Str...</td>\n",
       "      <td>Wilderness_Reclamation,Scorchmark,Collision_Co...</td>\n",
       "      <td>Grotesque_Demise,Carnival_Carnage,Orzhov_Guild...</td>\n",
       "      <td>Warrant_Warden,Sphinx_of_New_Prahv,Lawmage's_B...</td>\n",
       "      <td>Skarrgan_Hellkite,Scorchmark,Hackrobat,Rubble_...</td>\n",
       "      <td>Skarrgan_Hellkite,Wilderness_Reclamation,Incub...</td>\n",
       "    </tr>\n",
       "    <tr>\n",
       "      <th>3095775</th>\n",
       "      <td>RNA</td>\n",
       "      <td>Mortify,Haazda_Officer,Archway_Angel,Concordia...</td>\n",
       "      <td>Domri,_Chaos_Bringer,Biogenic_Upgrade,Regenesi...</td>\n",
       "      <td>Trollbred_Guardian,Arrester's_Admonition,Arres...</td>\n",
       "      <td>Ethereal_Absolution,Summary_Judgment,Final_Pay...</td>\n",
       "      <td>Incubation_Incongruity,Arrester's_Admonition,S...</td>\n",
       "      <td>Growth-Chamber_Guardian,Repudiate_Replicate,Sw...</td>\n",
       "      <td>Bedevil,Blade_Juggler,Rakdos_Firewheeler,Cry_o...</td>\n",
       "      <td>Skewer_the_Critics,Skewer_the_Critics,Zhur-Taa...</td>\n",
       "    </tr>\n",
       "    <tr>\n",
       "      <th>3095776</th>\n",
       "      <td>RNA</td>\n",
       "      <td>Get_the_Point,Gruul_Guildgate_2,Simic_Guildgat...</td>\n",
       "      <td>Enraged_Ceratok,End-Raze_Forerunners,Titanic_B...</td>\n",
       "      <td>Grotesque_Demise,Final_Payment,Orzhov_Racketee...</td>\n",
       "      <td>Mesmerizing_Benthid,Growth-Chamber_Guardian,Co...</td>\n",
       "      <td>Biomancer's_Familiar,Open_the_Gates,Summary_Ju...</td>\n",
       "      <td>Biomancer's_Familiar,Growth_Spiral,Humongulus,...</td>\n",
       "      <td>Nikya_of_the_Old_Ways,Arrester's_Admonition,Su...</td>\n",
       "      <td>Incubation_Druid,Gruul_Beastmaster,Applied_Bio...</td>\n",
       "    </tr>\n",
       "  </tbody>\n",
       "</table>\n",
       "</div>"
      ],
      "text/plain": [
       "        format                                              human  \\\n",
       "3095772    RNA  Angel_of_Grace,Final_Payment,Concordia_Pegasus...   \n",
       "3095773    RNA  Zegana,_Utopian_Speaker,Sharktocrab,Sharktocra...   \n",
       "3095774    RNA  Bedevil,Rubblebelt_Recluse,Cindervines,Noxious...   \n",
       "3095775    RNA  Mortify,Haazda_Officer,Archway_Angel,Concordia...   \n",
       "3095776    RNA  Get_the_Point,Gruul_Guildgate_2,Simic_Guildgat...   \n",
       "\n",
       "                                                      bot1  \\\n",
       "3095772  Biomancer's_Familiar,Incubation_Incongruity,Wr...   \n",
       "3095773  Precognitive_Perception,Azorius_Guildgate_2,Ar...   \n",
       "3095774  Repudiate_Replicate,Rampaging_Rendhorn,Depose_...   \n",
       "3095775  Domri,_Chaos_Bringer,Biogenic_Upgrade,Regenesi...   \n",
       "3095776  Enraged_Ceratok,End-Raze_Forerunners,Titanic_B...   \n",
       "\n",
       "                                                      bot2  \\\n",
       "3095772  Biomancer's_Familiar,Sharktocrab,Applied_Bioma...   \n",
       "3095773  Windstorm_Drake,Arrester's_Admonition,Cry_of_t...   \n",
       "3095774  Repudiate_Replicate,Frilled_Mystic,Gift_of_Str...   \n",
       "3095775  Trollbred_Guardian,Arrester's_Admonition,Arres...   \n",
       "3095776  Grotesque_Demise,Final_Payment,Orzhov_Racketee...   \n",
       "\n",
       "                                                      bot3  \\\n",
       "3095772  Zegana,_Utopian_Speaker,Sharktocrab,Rubble_Sli...   \n",
       "3095773  Mortify,Code_of_Constraint,Sky_Tether,Gateway_...   \n",
       "3095774  Wilderness_Reclamation,Scorchmark,Collision_Co...   \n",
       "3095775  Ethereal_Absolution,Summary_Judgment,Final_Pay...   \n",
       "3095776  Mesmerizing_Benthid,Growth-Chamber_Guardian,Co...   \n",
       "\n",
       "                                                      bot4  \\\n",
       "3095772  Tithe_Taker,Forbidding_Spirit,Civic_Stalwart,S...   \n",
       "3095773  Growth-Chamber_Guardian,Flames_of_the_Raze-Boa...   \n",
       "3095774  Grotesque_Demise,Carnival_Carnage,Orzhov_Guild...   \n",
       "3095775  Incubation_Incongruity,Arrester's_Admonition,S...   \n",
       "3095776  Biomancer's_Familiar,Open_the_Gates,Summary_Ju...   \n",
       "\n",
       "                                                      bot5  \\\n",
       "3095772  Skewer_the_Critics,Get_the_Point,Light_Up_the_...   \n",
       "3095773  Enraged_Ceratok,Skewer_the_Critics,Grotesque_D...   \n",
       "3095774  Warrant_Warden,Sphinx_of_New_Prahv,Lawmage's_B...   \n",
       "3095775  Growth-Chamber_Guardian,Repudiate_Replicate,Sw...   \n",
       "3095776  Biomancer's_Familiar,Growth_Spiral,Humongulus,...   \n",
       "\n",
       "                                                      bot6  \\\n",
       "3095772  Spirit_of_the_Spires,Verity_Circle,Orzhov_Guil...   \n",
       "3095773  Incubation_Druid,Clan_Guildmage,Gruul_Beastmas...   \n",
       "3095774  Skarrgan_Hellkite,Scorchmark,Hackrobat,Rubble_...   \n",
       "3095775  Bedevil,Blade_Juggler,Rakdos_Firewheeler,Cry_o...   \n",
       "3095776  Nikya_of_the_Old_Ways,Arrester's_Admonition,Su...   \n",
       "\n",
       "                                                      bot7  \n",
       "3095772  Sphinx_of_New_Prahv,Tenth_District_Veteran,Imp...  \n",
       "3095773  Kaya's_Wrath,Arrester's_Admonition,Arrester's_...  \n",
       "3095774  Skarrgan_Hellkite,Wilderness_Reclamation,Incub...  \n",
       "3095775  Skewer_the_Critics,Skewer_the_Critics,Zhur-Taa...  \n",
       "3095776  Incubation_Druid,Gruul_Beastmaster,Applied_Bio...  "
      ]
     },
     "execution_count": 9,
     "metadata": {},
     "output_type": "execute_result"
    }
   ],
   "source": [
    "dataFileNames = {\n",
    "    'XLN': '../../2018-02-23 Two days data XLN.csv',\n",
    "    'DOM': '../../2018-04-16 Dominiaria initial data-2.csv',\n",
    "    'M19': '../../2018-08-23 m19 drafts round 2.csv',\n",
    "    'GRN': '../../2018-10-05 GRN Draft Data 1.csv',\n",
    "    'RNA': '../../2019-01-22 RNA merged.csv'\n",
    "}\n",
    "\n",
    "draftData = pd.read_csv(dataFileNames[setName], \n",
    "                       names = ['format', 'human', 'bot1', 'bot2', 'bot3', 'bot4', 'bot5', 'bot6', 'bot7'])\n",
    "\n",
    "draftData.head()"
   ]
  },
  {
   "cell_type": "code",
   "execution_count": 10,
   "metadata": {},
   "outputs": [],
   "source": [
    "#print(thisSet.keys())\n",
    "dict((k.lower(), v) for k, v in thisSet.items()) # Lowercase the keys\n",
    "cardlist = list(thisSet.keys())\n",
    "#print(cardlist)"
   ]
  },
  {
   "cell_type": "markdown",
   "metadata": {},
   "source": [
    "Main loop, but it's actually quite fast (~10 s)."
   ]
  },
  {
   "cell_type": "code",
   "execution_count": 37,
   "metadata": {},
   "outputs": [
    {
     "name": "stdout",
     "output_type": "stream",
     "text": [
      "Analyzed  88388  records.\n"
     ]
    }
   ],
   "source": [
    "cardpicks = {card : [] for card in cardlist} # Pick order\n",
    "cardpickOn = {card : [] for card in cardlist} # Pick order on color\n",
    "\n",
    "draftCount = 0\n",
    "player = 'human' # normally should be: human, but can also be bot1 or another bot\n",
    "for draft in draftData[player]:\n",
    "    draft = fixName(draft)\n",
    "    draft = draft.lower()\n",
    "    draft = draft.split(',')\n",
    "    draftCount += 1\n",
    "    #colorCount = {i : 0 for i in range(0,6)}\n",
    "    colorCount = [0,0,0,0,0,0,0]\n",
    "    for i in range(14):\n",
    "        try:\n",
    "            cardpicks[draft[i]].append(i+1)\n",
    "            bestColorSoFar = np.argmax(colorCount)\n",
    "            if bestColorSoFar==0 or getCardColor(thisSet[draft[i]]) == bestColorSoFar:\n",
    "                cardpickOn[draft[i]].append(i+1)\n",
    "            colorCount[getCardColor(thisSet[draft[i]])] += 1            \n",
    "        except KeyError as e:\n",
    "            print(draft)\n",
    "            print(count)\n",
    "            raise\n",
    "    #if any('karn_scion_of_urza' in x for x in draft):\n",
    "    #    print(cardpicks['karn_scion_of_urza'][-1])\n",
    "    #    #print(draft)\n",
    "    \n",
    "print(\"Analyzed \",draftCount,\" records.\")"
   ]
  },
  {
   "cell_type": "code",
   "execution_count": 38,
   "metadata": {},
   "outputs": [],
   "source": [
    "for card in cardpicks:\n",
    "    if cardpicks[card] == []:\n",
    "        cardpicks[card].append(15)\n",
    "        \n",
    "for card in cardpickOn:\n",
    "    if cardpickOn[card] == []:\n",
    "        cardpickOn[card].append(15)"
   ]
  },
  {
   "cell_type": "code",
   "execution_count": 39,
   "metadata": {},
   "outputs": [
    {
     "data": {
      "text/plain": [
       "Text(0,0.5,'Frequency')"
      ]
     },
     "execution_count": 39,
     "metadata": {},
     "output_type": "execute_result"
    },
    {
     "data": {
      "image/png": "[encoded data removed]",
      "text/plain": [
       "<Figure size 432x288 with 1 Axes>"
      ]
     },
     "metadata": {
      "needs_background": "light"
     },
     "output_type": "display_data"
    }
   ],
   "source": [
    "#cardpicks['karn_scion_of_urza']\n",
    "#cardpicks['karn_scion_of_urza']\n",
    "#cardpicks['chance_for_glory']\n",
    "\n",
    "goodCardName = 'mortify' \n",
    "# Controversial in GRN: ionize, chance_for_glory. Well known: leapfrog, silent_dart\n",
    "\n",
    "# Histogram of cardpicks\n",
    "fig, ax = plt.subplots()\n",
    "n, bins, patches = plt.hist(cardpicks[goodCardName], 13, range=(0.5,13.5), density=True, facecolor=(0.2,0.5,1), alpha=0.75)\n",
    "ax.set_title(goodCardName, size=10)\n",
    "plt.xlabel('Pick order')\n",
    "plt.ylabel('Frequency') "
   ]
  },
  {
   "cell_type": "code",
   "execution_count": 40,
   "metadata": {},
   "outputs": [],
   "source": [
    "cardpicksdf = pd.DataFrame({\n",
    "        'avg' : [np.mean(cardpicks[card]) for card in cardpicks],\n",
    "        'var' : [np.var(cardpicks[card]) for card in cardpicks],\n",
    "        'count' : [len(cardpicks[card]) for card in cardpicks],\n",
    "        'color' : [getCardColor(thisSet[card]) for card in cardpicks],\n",
    "        'rarity' :[thisSet[card]['rarity'] for card in cardpicks],\n",
    "        'legendary' : [1 if isLegendary(thisSet[card]) else 0 for card in cardpicks]\n",
    "    }, list(cardpicks.keys()))\n",
    "#cardpicksdf.head()"
   ]
  },
  {
   "cell_type": "code",
   "execution_count": 41,
   "metadata": {},
   "outputs": [],
   "source": [
    "cardpickOndf = pd.DataFrame({\n",
    "        'avg' : [np.mean(cardpickOn[card]) for card in cardpickOn],\n",
    "        'var' : [np.var(cardpickOn[card]) for card in cardpickOn],\n",
    "        'count' : [len(cardpickOn[card]) for card in cardpickOn],\n",
    "        'color' : [getCardColor(thisSet[card]) for card in cardpickOn],\n",
    "        'rarity' :[thisSet[card]['rarity'] for card in cardpickOn],\n",
    "        'legendary' : [1 if isLegendary(thisSet[card]) else 0 for card in cardpickOn]\n",
    "    }, list(cardpickOn.keys()))"
   ]
  },
  {
   "cell_type": "code",
   "execution_count": 42,
   "metadata": {},
   "outputs": [],
   "source": [
    "if player=='human':\n",
    "    cardpicksdf.to_csv('../../data/controversial_cards_'+setName+'.csv', index_label=\"name\")\n",
    "    #cardpickOndf.to_csv('../../data/controversial_cards_data_onColor.csv', index_label=\"name\")\n",
    "else:\n",
    "    cardpicksdf.to_csv('../../data/controversial_cards_'+setName+'_bot.csv', index_label=\"name\")\n",
    "    #cardpickOndf.to_csv('../../data/controversial_cards_data_onColor_bot.csv', index_label=\"name\")"
   ]
  },
  {
   "cell_type": "code",
   "execution_count": 43,
   "metadata": {},
   "outputs": [
    {
     "data": {
      "text/html": [
       "<div>\n",
       "<style scoped>\n",
       "    .dataframe tbody tr th:only-of-type {\n",
       "        vertical-align: middle;\n",
       "    }\n",
       "\n",
       "    .dataframe tbody tr th {\n",
       "        vertical-align: top;\n",
       "    }\n",
       "\n",
       "    .dataframe thead th {\n",
       "        text-align: right;\n",
       "    }\n",
       "</style>\n",
       "<table border=\"1\" class=\"dataframe\">\n",
       "  <thead>\n",
       "    <tr style=\"text-align: right;\">\n",
       "      <th></th>\n",
       "      <th>avg</th>\n",
       "      <th>var</th>\n",
       "      <th>count</th>\n",
       "      <th>color</th>\n",
       "      <th>rarity</th>\n",
       "      <th>legendary</th>\n",
       "    </tr>\n",
       "  </thead>\n",
       "  <tbody>\n",
       "    <tr>\n",
       "      <th>kaya_orzhov_usurper</th>\n",
       "      <td>7.556142</td>\n",
       "      <td>18.431290</td>\n",
       "      <td>2841</td>\n",
       "      <td>1</td>\n",
       "      <td>mythic</td>\n",
       "      <td>1</td>\n",
       "    </tr>\n",
       "    <tr>\n",
       "      <th>emergency_powers</th>\n",
       "      <td>9.225240</td>\n",
       "      <td>17.575998</td>\n",
       "      <td>1878</td>\n",
       "      <td>1</td>\n",
       "      <td>mythic</td>\n",
       "      <td>0</td>\n",
       "    </tr>\n",
       "    <tr>\n",
       "      <th>cindervines</th>\n",
       "      <td>9.100991</td>\n",
       "      <td>17.569219</td>\n",
       "      <td>3129</td>\n",
       "      <td>1</td>\n",
       "      <td>rare</td>\n",
       "      <td>0</td>\n",
       "    </tr>\n",
       "    <tr>\n",
       "      <th>smothering_tithe</th>\n",
       "      <td>7.875270</td>\n",
       "      <td>17.315905</td>\n",
       "      <td>2317</td>\n",
       "      <td>2</td>\n",
       "      <td>rare</td>\n",
       "      <td>0</td>\n",
       "    </tr>\n",
       "    <tr>\n",
       "      <th>mirror_march</th>\n",
       "      <td>7.863747</td>\n",
       "      <td>16.895304</td>\n",
       "      <td>2055</td>\n",
       "      <td>5</td>\n",
       "      <td>rare</td>\n",
       "      <td>0</td>\n",
       "    </tr>\n",
       "    <tr>\n",
       "      <th>high_alert</th>\n",
       "      <td>7.087882</td>\n",
       "      <td>16.653136</td>\n",
       "      <td>5166</td>\n",
       "      <td>1</td>\n",
       "      <td>uncommon</td>\n",
       "      <td>0</td>\n",
       "    </tr>\n",
       "    <tr>\n",
       "      <th>absorb</th>\n",
       "      <td>7.259969</td>\n",
       "      <td>16.539184</td>\n",
       "      <td>3812</td>\n",
       "      <td>1</td>\n",
       "      <td>rare</td>\n",
       "      <td>0</td>\n",
       "    </tr>\n",
       "    <tr>\n",
       "      <th>lavinia_azorius_renegade</th>\n",
       "      <td>9.277665</td>\n",
       "      <td>15.910682</td>\n",
       "      <td>2946</td>\n",
       "      <td>1</td>\n",
       "      <td>rare</td>\n",
       "      <td>1</td>\n",
       "    </tr>\n",
       "    <tr>\n",
       "      <th>godless_shrine</th>\n",
       "      <td>7.583935</td>\n",
       "      <td>15.191521</td>\n",
       "      <td>4569</td>\n",
       "      <td>1</td>\n",
       "      <td>rare</td>\n",
       "      <td>0</td>\n",
       "    </tr>\n",
       "    <tr>\n",
       "      <th>awaken_the_erstwhile</th>\n",
       "      <td>9.748383</td>\n",
       "      <td>15.175369</td>\n",
       "      <td>1546</td>\n",
       "      <td>4</td>\n",
       "      <td>rare</td>\n",
       "      <td>0</td>\n",
       "    </tr>\n",
       "  </tbody>\n",
       "</table>\n",
       "</div>"
      ],
      "text/plain": [
       "                               avg        var  count  color    rarity  \\\n",
       "kaya_orzhov_usurper       7.556142  18.431290   2841      1    mythic   \n",
       "emergency_powers          9.225240  17.575998   1878      1    mythic   \n",
       "cindervines               9.100991  17.569219   3129      1      rare   \n",
       "smothering_tithe          7.875270  17.315905   2317      2      rare   \n",
       "mirror_march              7.863747  16.895304   2055      5      rare   \n",
       "high_alert                7.087882  16.653136   5166      1  uncommon   \n",
       "absorb                    7.259969  16.539184   3812      1      rare   \n",
       "lavinia_azorius_renegade  9.277665  15.910682   2946      1      rare   \n",
       "godless_shrine            7.583935  15.191521   4569      1      rare   \n",
       "awaken_the_erstwhile      9.748383  15.175369   1546      4      rare   \n",
       "\n",
       "                          legendary  \n",
       "kaya_orzhov_usurper               1  \n",
       "emergency_powers                  0  \n",
       "cindervines                       0  \n",
       "smothering_tithe                  0  \n",
       "mirror_march                      0  \n",
       "high_alert                        0  \n",
       "absorb                            0  \n",
       "lavinia_azorius_renegade          1  \n",
       "godless_shrine                    0  \n",
       "awaken_the_erstwhile              0  "
      ]
     },
     "execution_count": 43,
     "metadata": {},
     "output_type": "execute_result"
    }
   ],
   "source": [
    "cardpicksdf.sort_values(by=['var'], ascending=False).head(10)\n",
    "#cardpicksdf.iloc[0]['rarity'] == 'Common'"
   ]
  },
  {
   "cell_type": "code",
   "execution_count": 23,
   "metadata": {},
   "outputs": [],
   "source": [
    "def getHeights(picks):\n",
    "    heights = [0 for x in range(16)]\n",
    "    \n",
    "    for num in picks:\n",
    "        heights[num] +=1\n",
    "        \n",
    "    return heights"
   ]
  },
  {
   "cell_type": "code",
   "execution_count": 24,
   "metadata": {},
   "outputs": [],
   "source": [
    "colorkey = ['0', 'M', 'W', 'U', 'B', 'G', 'R']\n",
    "colorid = ['#9F9F9F', 'DC03FD', '#F3C750', '#0E68AB', '#150B00', '#00733E', '#D3202A']\n",
    "mplcolors = ['gray', 'mediumvioletred', 'orange', 'dodgerblue', 'black', 'g', 'red']\n"
   ]
  },
  {
   "cell_type": "code",
   "execution_count": 25,
   "metadata": {},
   "outputs": [],
   "source": [
    "mplrarity = ['crimson','orange','gray', 'black', 'w']\n",
    "rarity= ['Mythic Rare', 'Rare', 'Uncommon', 'Common', 'Basic Land']"
   ]
  },
  {
   "cell_type": "code",
   "execution_count": 26,
   "metadata": {
    "scrolled": true
   },
   "outputs": [
    {
     "data": {
      "image/png": "[encoded data removed]",
      "text/plain": [
       "<Figure size 432x288 with 1 Axes>"
      ]
     },
     "metadata": {
      "needs_background": "light"
     },
     "output_type": "display_data"
    }
   ],
   "source": [
    "fig, ax = plt.subplots()\n",
    "\n",
    "scatter = ax.scatter(cardpicksdf['avg'],\n",
    "                     cardpicksdf['var'],\n",
    "                     c = [mplcolors[x] for x in cardpicksdf['color']]\n",
    "                    )\n",
    "\n",
    "ax.set_title(\"Card Picks avg vs var\", size=20)\n",
    "plt.xlabel('avg pick number')\n",
    "plt.ylabel('var in pick number') \n",
    "\n",
    "labels = list(cardpicksdf.index)\n",
    "tooltip = mpld3.plugins.PointLabelTooltip(scatter, labels=labels)\n",
    "mpld3.plugins.connect(fig, tooltip)\n",
    "\n",
    "#plt.savefig('avgvsvar.png')\n",
    "\n",
    "#mpld3.display()"
   ]
  },
  {
   "cell_type": "code",
   "execution_count": 28,
   "metadata": {
    "scrolled": true
   },
   "outputs": [
    {
     "ename": "ValueError",
     "evalue": "'mythic' is not in list",
     "output_type": "error",
     "traceback": [
      "\u001b[1;31m---------------------------------------------------------------------------\u001b[0m",
      "\u001b[1;31mValueError\u001b[0m                                Traceback (most recent call last)",
      "\u001b[1;32m<ipython-input-28-32e350c8bce7>\u001b[0m in \u001b[0;36m<module>\u001b[1;34m()\u001b[0m\n\u001b[0;32m      3\u001b[0m scatter = ax.scatter(cardpicksdf['avg'],\n\u001b[0;32m      4\u001b[0m                      \u001b[0mcardpicksdf\u001b[0m\u001b[1;33m[\u001b[0m\u001b[1;34m'var'\u001b[0m\u001b[1;33m]\u001b[0m\u001b[1;33m,\u001b[0m\u001b[1;33m\u001b[0m\u001b[0m\n\u001b[1;32m----> 5\u001b[1;33m                      \u001b[0mc\u001b[0m \u001b[1;33m=\u001b[0m \u001b[1;33m[\u001b[0m\u001b[0mmplrarity\u001b[0m\u001b[1;33m[\u001b[0m\u001b[0mrarity\u001b[0m\u001b[1;33m.\u001b[0m\u001b[0mindex\u001b[0m\u001b[1;33m(\u001b[0m\u001b[0mx\u001b[0m\u001b[1;33m)\u001b[0m\u001b[1;33m]\u001b[0m \u001b[1;32mfor\u001b[0m \u001b[0mx\u001b[0m \u001b[1;32min\u001b[0m \u001b[0mcardpicksdf\u001b[0m\u001b[1;33m[\u001b[0m\u001b[1;34m'rarity'\u001b[0m\u001b[1;33m]\u001b[0m\u001b[1;33m]\u001b[0m\u001b[1;33m\u001b[0m\u001b[0m\n\u001b[0m\u001b[0;32m      6\u001b[0m                     )\n\u001b[0;32m      7\u001b[0m \u001b[1;33m\u001b[0m\u001b[0m\n",
      "\u001b[1;32m<ipython-input-28-32e350c8bce7>\u001b[0m in \u001b[0;36m<listcomp>\u001b[1;34m(.0)\u001b[0m\n\u001b[0;32m      3\u001b[0m scatter = ax.scatter(cardpicksdf['avg'],\n\u001b[0;32m      4\u001b[0m                      \u001b[0mcardpicksdf\u001b[0m\u001b[1;33m[\u001b[0m\u001b[1;34m'var'\u001b[0m\u001b[1;33m]\u001b[0m\u001b[1;33m,\u001b[0m\u001b[1;33m\u001b[0m\u001b[0m\n\u001b[1;32m----> 5\u001b[1;33m                      \u001b[0mc\u001b[0m \u001b[1;33m=\u001b[0m \u001b[1;33m[\u001b[0m\u001b[0mmplrarity\u001b[0m\u001b[1;33m[\u001b[0m\u001b[0mrarity\u001b[0m\u001b[1;33m.\u001b[0m\u001b[0mindex\u001b[0m\u001b[1;33m(\u001b[0m\u001b[0mx\u001b[0m\u001b[1;33m)\u001b[0m\u001b[1;33m]\u001b[0m \u001b[1;32mfor\u001b[0m \u001b[0mx\u001b[0m \u001b[1;32min\u001b[0m \u001b[0mcardpicksdf\u001b[0m\u001b[1;33m[\u001b[0m\u001b[1;34m'rarity'\u001b[0m\u001b[1;33m]\u001b[0m\u001b[1;33m]\u001b[0m\u001b[1;33m\u001b[0m\u001b[0m\n\u001b[0m\u001b[0;32m      6\u001b[0m                     )\n\u001b[0;32m      7\u001b[0m \u001b[1;33m\u001b[0m\u001b[0m\n",
      "\u001b[1;31mValueError\u001b[0m: 'mythic' is not in list"
     ]
    },
    {
     "data": {
      "image/png": "[encoded data removed]",
      "text/plain": [
       "<Figure size 432x288 with 1 Axes>"
      ]
     },
     "metadata": {
      "needs_background": "light"
     },
     "output_type": "display_data"
    }
   ],
   "source": [
    "fig, ax = plt.subplots()\n",
    "\n",
    "scatter = ax.scatter(cardpicksdf['avg'],\n",
    "                     cardpicksdf['var'],\n",
    "                     c = [mplrarity[rarity.index(x)] for x in cardpicksdf['rarity']]\n",
    "                    )\n",
    "\n",
    "ax.set_title(\"Card Picks avg vs var by rarity\", size=20)\n",
    "plt.xlabel('avg pick number')\n",
    "plt.ylabel('var in pick number') \n",
    "\n",
    "\n",
    "\n",
    "labels = list(cardpicksdf.index)\n",
    "tooltip = mpld3.plugins.PointLabelTooltip(scatter, labels=labels)\n",
    "mpld3.plugins.connect(fig, tooltip)\n",
    "\n",
    "#plt.savefig('avgvsvarRarityDom.png')\n",
    "\n",
    "#mpld3.display()"
   ]
  },
  {
   "cell_type": "code",
   "execution_count": 29,
   "metadata": {},
   "outputs": [
    {
     "ename": "ValueError",
     "evalue": "'mythic' is not in list",
     "output_type": "error",
     "traceback": [
      "\u001b[1;31m---------------------------------------------------------------------------\u001b[0m",
      "\u001b[1;31mValueError\u001b[0m                                Traceback (most recent call last)",
      "\u001b[1;32m<ipython-input-29-61cc9d314f42>\u001b[0m in \u001b[0;36m<module>\u001b[1;34m()\u001b[0m\n\u001b[0;32m      6\u001b[0m scatter = ax.scatter(cardpicksdf.loc[cardpicksdf['legendary'] == 1]['avg'],\n\u001b[0;32m      7\u001b[0m                      \u001b[0mcardpicksdf\u001b[0m\u001b[1;33m.\u001b[0m\u001b[0mloc\u001b[0m\u001b[1;33m[\u001b[0m\u001b[0mcardpicksdf\u001b[0m\u001b[1;33m[\u001b[0m\u001b[1;34m'legendary'\u001b[0m\u001b[1;33m]\u001b[0m \u001b[1;33m==\u001b[0m \u001b[1;36m1\u001b[0m\u001b[1;33m]\u001b[0m\u001b[1;33m[\u001b[0m\u001b[1;34m'var'\u001b[0m\u001b[1;33m]\u001b[0m\u001b[1;33m,\u001b[0m\u001b[1;33m\u001b[0m\u001b[0m\n\u001b[1;32m----> 8\u001b[1;33m                      \u001b[0mc\u001b[0m \u001b[1;33m=\u001b[0m \u001b[1;33m[\u001b[0m\u001b[0mmplrarity\u001b[0m\u001b[1;33m[\u001b[0m\u001b[0mrarity\u001b[0m\u001b[1;33m.\u001b[0m\u001b[0mindex\u001b[0m\u001b[1;33m(\u001b[0m\u001b[0mx\u001b[0m\u001b[1;33m)\u001b[0m\u001b[1;33m]\u001b[0m \u001b[1;32mfor\u001b[0m \u001b[0mx\u001b[0m \u001b[1;32min\u001b[0m \u001b[0mcardpicksdf\u001b[0m\u001b[1;33m[\u001b[0m\u001b[1;34m'rarity'\u001b[0m\u001b[1;33m]\u001b[0m\u001b[1;33m]\u001b[0m\u001b[1;33m,\u001b[0m\u001b[1;33m\u001b[0m\u001b[0m\n\u001b[0m\u001b[0;32m      9\u001b[0m                      \u001b[0mmarker\u001b[0m \u001b[1;33m=\u001b[0m \u001b[1;34m's'\u001b[0m\u001b[1;33m\u001b[0m\u001b[0m\n\u001b[0;32m     10\u001b[0m                     )\n",
      "\u001b[1;32m<ipython-input-29-61cc9d314f42>\u001b[0m in \u001b[0;36m<listcomp>\u001b[1;34m(.0)\u001b[0m\n\u001b[0;32m      6\u001b[0m scatter = ax.scatter(cardpicksdf.loc[cardpicksdf['legendary'] == 1]['avg'],\n\u001b[0;32m      7\u001b[0m                      \u001b[0mcardpicksdf\u001b[0m\u001b[1;33m.\u001b[0m\u001b[0mloc\u001b[0m\u001b[1;33m[\u001b[0m\u001b[0mcardpicksdf\u001b[0m\u001b[1;33m[\u001b[0m\u001b[1;34m'legendary'\u001b[0m\u001b[1;33m]\u001b[0m \u001b[1;33m==\u001b[0m \u001b[1;36m1\u001b[0m\u001b[1;33m]\u001b[0m\u001b[1;33m[\u001b[0m\u001b[1;34m'var'\u001b[0m\u001b[1;33m]\u001b[0m\u001b[1;33m,\u001b[0m\u001b[1;33m\u001b[0m\u001b[0m\n\u001b[1;32m----> 8\u001b[1;33m                      \u001b[0mc\u001b[0m \u001b[1;33m=\u001b[0m \u001b[1;33m[\u001b[0m\u001b[0mmplrarity\u001b[0m\u001b[1;33m[\u001b[0m\u001b[0mrarity\u001b[0m\u001b[1;33m.\u001b[0m\u001b[0mindex\u001b[0m\u001b[1;33m(\u001b[0m\u001b[0mx\u001b[0m\u001b[1;33m)\u001b[0m\u001b[1;33m]\u001b[0m \u001b[1;32mfor\u001b[0m \u001b[0mx\u001b[0m \u001b[1;32min\u001b[0m \u001b[0mcardpicksdf\u001b[0m\u001b[1;33m[\u001b[0m\u001b[1;34m'rarity'\u001b[0m\u001b[1;33m]\u001b[0m\u001b[1;33m]\u001b[0m\u001b[1;33m,\u001b[0m\u001b[1;33m\u001b[0m\u001b[0m\n\u001b[0m\u001b[0;32m      9\u001b[0m                      \u001b[0mmarker\u001b[0m \u001b[1;33m=\u001b[0m \u001b[1;34m's'\u001b[0m\u001b[1;33m\u001b[0m\u001b[0m\n\u001b[0;32m     10\u001b[0m                     )\n",
      "\u001b[1;31mValueError\u001b[0m: 'mythic' is not in list"
     ]
    },
    {
     "data": {
      "image/png": "[encoded data removed]",
      "text/plain": [
       "<Figure size 432x288 with 1 Axes>"
      ]
     },
     "metadata": {
      "needs_background": "light"
     },
     "output_type": "display_data"
    }
   ],
   "source": [
    "fig, ax = plt.subplots()\n",
    "\n",
    "#The top scatter is for legendary cards. The bottom is non legendary.\n",
    "#You can comment one out for more clarity\n",
    "\n",
    "scatter = ax.scatter(cardpicksdf.loc[cardpicksdf['legendary'] == 1]['avg'],\n",
    "                     cardpicksdf.loc[cardpicksdf['legendary'] == 1]['var'],\n",
    "                     c = [mplrarity[rarity.index(x)] for x in cardpicksdf['rarity']],\n",
    "                     marker = 's'\n",
    "                    )\n",
    "scatter = ax.scatter(cardpicksdf.loc[cardpicksdf['legendary'] == 0]['avg'],\n",
    "                     cardpicksdf.loc[cardpicksdf['legendary'] == 0]['var'],\n",
    "                     c = [mplrarity[rarity.index(x)] for x in cardpicksdf['rarity']],\n",
    "                     marker = 'o'\n",
    "                    )\n",
    "\n",
    "ax.set_title(\"Card Picks avg vs var by rarity\", size=10)\n",
    "plt.xlabel('avg pick number')\n",
    "plt.ylabel('var in pick number') \n",
    "\n",
    "\n",
    "\n",
    "labels = list(cardpicksdf.index)\n",
    "tooltip = mpld3.plugins.PointLabelTooltip(scatter, labels=labels)\n",
    "mpld3.plugins.connect(fig, tooltip)\n",
    "\n",
    "plt.savefig('avgvsvarRarityDomNormal.png')\n",
    "\n",
    "mpld3.display()"
   ]
  }
 ],
 "metadata": {
  "kernelspec": {
   "display_name": "Python 3",
   "language": "python",
   "name": "python3"
  },
  "language_info": {
   "codemirror_mode": {
    "name": "ipython",
    "version": 3
   },
   "file_extension": ".py",
   "mimetype": "text/x-python",
   "name": "python",
   "nbconvert_exporter": "python",
   "pygments_lexer": "ipython3",
   "version": "3.7.0"
  }
 },
 "nbformat": 4,
 "nbformat_minor": 2
}
