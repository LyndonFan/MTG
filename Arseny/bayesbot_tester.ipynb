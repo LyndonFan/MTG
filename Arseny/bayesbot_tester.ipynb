{
 "cells": [
  {
   "cell_type": "markdown",
   "metadata": {},
   "source": [
    "Bot testbed by Arseny"
   ]
  },
  {
   "cell_type": "code",
   "execution_count": 1,
   "metadata": {},
   "outputs": [],
   "source": [
    "import numpy as np\n",
    "import pandas as pd\n",
    "import matplotlib.pyplot as plt\n",
    "from operator import itemgetter\n",
    "from copy import deepcopy\n",
    "import json\n",
    "\n",
    "import draftsimtools as ds"
   ]
  },
  {
   "cell_type": "code",
   "execution_count": 2,
   "metadata": {},
   "outputs": [],
   "source": [
    "# Load M19 drafts\n",
    "raw_drafts = ds.load_drafts(\"../../data/m19_2.csv\")"
   ]
  },
  {
   "cell_type": "code",
   "execution_count": 3,
   "metadata": {},
   "outputs": [],
   "source": [
    "# Here other folks load card lists, but I grab them from json instead\n",
    "# m19_set = ds.create_set(\"data/m19_rating.tsv\", \"data/m19_land_rating.tsv\")\n",
    "\n",
    "with open('../../data/Allsets.json', 'r',encoding='utf-8') as json_data:\n",
    "    mtgJSON = json.load(json_data)\n",
    "    \n",
    "jsonSubset = mtgJSON['M19']['cards']\n",
    "\n",
    "thisSet = {card['name'] : card for card in jsonSubset}"
   ]
  },
  {
   "cell_type": "code",
   "execution_count": 4,
   "metadata": {},
   "outputs": [
    {
     "data": {
      "text/html": [
       "<div>\n",
       "<style scoped>\n",
       "    .dataframe tbody tr th:only-of-type {\n",
       "        vertical-align: middle;\n",
       "    }\n",
       "\n",
       "    .dataframe tbody tr th {\n",
       "        vertical-align: top;\n",
       "    }\n",
       "\n",
       "    .dataframe thead th {\n",
       "        text-align: right;\n",
       "    }\n",
       "</style>\n",
       "<table border=\"1\" class=\"dataframe\">\n",
       "  <thead>\n",
       "    <tr style=\"text-align: right;\">\n",
       "      <th></th>\n",
       "      <th>colors</th>\n",
       "      <th>rarity</th>\n",
       "      <th>type</th>\n",
       "      <th>convertedManaCost</th>\n",
       "      <th>Name</th>\n",
       "    </tr>\n",
       "    <tr>\n",
       "      <th>index</th>\n",
       "      <th></th>\n",
       "      <th></th>\n",
       "      <th></th>\n",
       "      <th></th>\n",
       "      <th></th>\n",
       "    </tr>\n",
       "  </thead>\n",
       "  <tbody>\n",
       "    <tr>\n",
       "      <th>1</th>\n",
       "      <td>[R]</td>\n",
       "      <td>common</td>\n",
       "      <td>Sorcery</td>\n",
       "      <td>3.0</td>\n",
       "      <td>Act of Treason</td>\n",
       "    </tr>\n",
       "    <tr>\n",
       "      <th>2</th>\n",
       "      <td>[W]</td>\n",
       "      <td>uncommon</td>\n",
       "      <td>Instant</td>\n",
       "      <td>2.0</td>\n",
       "      <td>Aegis of the Heavens</td>\n",
       "    </tr>\n",
       "    <tr>\n",
       "      <th>3</th>\n",
       "      <td>[U, W]</td>\n",
       "      <td>uncommon</td>\n",
       "      <td>Creature — Human Artificer</td>\n",
       "      <td>4.0</td>\n",
       "      <td>Aerial Engineer</td>\n",
       "    </tr>\n",
       "    <tr>\n",
       "      <th>4</th>\n",
       "      <td>[U]</td>\n",
       "      <td>uncommon</td>\n",
       "      <td>Enchantment — Aura</td>\n",
       "      <td>2.0</td>\n",
       "      <td>Aether Tunnel</td>\n",
       "    </tr>\n",
       "  </tbody>\n",
       "</table>\n",
       "</div>"
      ],
      "text/plain": [
       "       colors    rarity                        type  convertedManaCost  \\\n",
       "index                                                                    \n",
       "1         [R]    common                     Sorcery                3.0   \n",
       "2         [W]  uncommon                     Instant                2.0   \n",
       "3      [U, W]  uncommon  Creature — Human Artificer                4.0   \n",
       "4         [U]  uncommon          Enchantment — Aura                2.0   \n",
       "\n",
       "                       Name  \n",
       "index                        \n",
       "1            Act of Treason  \n",
       "2      Aegis of the Heavens  \n",
       "3           Aerial Engineer  \n",
       "4             Aether Tunnel  "
      ]
     },
     "execution_count": 4,
     "metadata": {},
     "output_type": "execute_result"
    }
   ],
   "source": [
    "# Another (fancier) way to create a list of names + lots of other useful stuff\n",
    "nameList = pd.DataFrame.from_dict(thisSet, orient='index', columns=['colors','rarity','type','convertedManaCost'])\n",
    "nameList['Name'] = nameList.index                 # We need names as a column, not an index\n",
    "nameList['index'] = range(len(nameList))\n",
    "nameList = nameList.set_index('index')     # And we need a normal numerical index\n",
    "nameList[1:5]"
   ]
  },
  {
   "cell_type": "code",
   "execution_count": 5,
   "metadata": {},
   "outputs": [],
   "source": [
    "# Process names, then handle weird card names (those with commas)\n",
    "\n",
    "nameList['Name'] = nameList.Name.str.replace(' ','_')\n",
    "\n",
    "# This utility method searches for \"Name\" column in nameList that have commas\n",
    "nameList, raw_drafts = ds.fix_commas(nameList, raw_drafts) # Returns a tuple, as it updates both\n",
    "# nameList.Name[nameList.Name.str.find(',')!=-1] # There should be no longer any cards with commas"
   ]
  },
  {
   "cell_type": "code",
   "execution_count": 8,
   "metadata": {},
   "outputs": [
    {
     "name": "stdout",
     "output_type": "stream",
     "text": [
      "Processing draft: 0.\n",
      "Processing draft: 10000.\n",
      "Processing draft: 20000.\n",
      "Processing draft: 30000.\n",
      "Processing draft: 40000.\n",
      "Processing draft: 50000.\n",
      "Processing draft: 60000.\n",
      "Processing draft: 70000.\n",
      "Processing draft: 80000.\n",
      "Processing draft: 90000.\n",
      "Processing draft: 100000.\n"
     ]
    }
   ],
   "source": [
    "# Process the drafts, deconstructing packs (hands) at every turn of every draft\n",
    "drafts = ds.process_drafts(raw_drafts)"
   ]
  },
  {
   "cell_type": "markdown",
   "metadata": {},
   "source": [
    "### Make sure all cards are listed, even weird foils"
   ]
  },
  {
   "cell_type": "code",
   "execution_count": 9,
   "metadata": {},
   "outputs": [
    {
     "name": "stdout",
     "output_type": "stream",
     "text": [
      "---Unrecognized card:  Island_1\n",
      "---Unrecognized card:  Mountain_4\n",
      "---Unrecognized card:  Forest_4\n",
      "---Unrecognized card:  Plains_2\n",
      "---Unrecognized card:  Mountain_2\n",
      "---Unrecognized card:  Forest_2\n",
      "---Unrecognized card:  Swamp_1\n",
      "---Unrecognized card:  Mountain_3\n",
      "---Unrecognized card:  Forest_1\n",
      "---Unrecognized card:  Island_4\n",
      "---Unrecognized card:  Swamp_3\n",
      "---Unrecognized card:  Plains_1\n",
      "---Unrecognized card:  Swamp_4\n",
      "---Unrecognized card:  Plains_4\n",
      "---Unrecognized card:  Forest_3\n",
      "---Unrecognized card:  Island_3\n",
      "---Unrecognized card:  Swamp_2\n",
      "---Unrecognized card:  Plains_3\n",
      "---Unrecognized card:  Mountain_1\n",
      "---Unrecognized card:  Island_2\n",
      "Draft #100\n"
     ]
    }
   ],
   "source": [
    "# Make sure all cards are listed in the nameList; update if necessary\n",
    "for iDraft in range(200): #range(len(subset_drafts)):\n",
    "    if iDraft>0 and iDraft % 100 == 0:\n",
    "        print(\"Draft #%d\" % iDraft)\n",
    "    draft = drafts[iDraft]\n",
    "    for pack in draft:     \n",
    "        for cardName in pack:\n",
    "            try:\n",
    "                pos = nameList[nameList.Name==cardName].index[0]\n",
    "            except:\n",
    "                print(\"---Unrecognized card: \",cardName) # All unrecognized cards here seem to be foil lands\n",
    "                #  \tcolors \trarity \ttype \tconvertedManaCost \tName\n",
    "                nameList = nameList.append({'colors':[],'rarity':'weird','type':'weird',\n",
    "                                            'convertedManaCost':0,'Name':cardName},ignore_index=True)"
   ]
  },
  {
   "cell_type": "markdown",
   "metadata": {},
   "source": [
    "### Now this part below creates bots and tests them"
   ]
  },
  {
   "cell_type": "markdown",
   "metadata": {},
   "source": [
    "Random bot, defined just in case we need it for benchmarking"
   ]
  },
  {
   "cell_type": "code",
   "execution_count": 9,
   "metadata": {},
   "outputs": [],
   "source": [
    "class RandomBot(object):\n",
    "    def __init__(self,nameList):\n",
    "        self.nameList = nameList # a list with 'Name' column, containing the names\n",
    "        \n",
    "    def rank_pack(self,longVector):\n",
    "        nCards = int(len(longVector)/2)\n",
    "        collection = longVector[0:nCards]\n",
    "        pack = longVector[nCards:]\n",
    "        \n",
    "        # botCard = np.random.choice(np.nonzero(pack)[0])\n",
    "        \n",
    "        # Create fake pick preferences (fake, because for this bot it's )\n",
    "        preferences = np.random.uniform(size=nCards)*(pack>0) # Mask a random vector with available cards\n",
    "        return preferences"
   ]
  },
  {
   "cell_type": "code",
   "execution_count": 10,
   "metadata": {},
   "outputs": [],
   "source": [
    "pColl = np.loadtxt('bots_data/bayes_pCoDraft.csv', delimiter=\",\")\n",
    "pPack = np.loadtxt('bots_data/bayes_pChoice.csv', delimiter=\",\")\n",
    "pFull = np.loadtxt('bots_data/bayes_pFull.csv', delimiter=\",\")\n",
    "names = pd.read_csv('bots_data/bayes_names.csv')"
   ]
  },
  {
   "cell_type": "markdown",
   "metadata": {},
   "source": [
    "The Bayesian probability of drafting a card $i$ if we see card $j$ in the collection is: $P(i|j) = P_i P_c(j|i) \\big/ P_j$ , where $P_i$ is the probability of eventually drafting card $i$, and $P_c(j|i)$ is the probability of seeing card $j$ in the collection, as the card $i$ is drafted.\n",
    "\n",
    "$P_c(j|i)$ can be explicitly calculated from the draft statistics: $P_c(j|i) = p_{ij}/P_i$. Here $p_{ij}$ is the probability that in a randomly chosen moment, across all drafts, card $j$ is present in the collection, and card $i$ is being picked. Substituting $P_c(j|i)$ in the formula above, we get $P(i|j) = P_i \\cdot p_{ij} \\big/ (P_i \\cdot P_j) = p_{ij}\\big/ P_j$\n",
    "\n",
    "As our goal is to find the card $i$ with highest probability of being drafted $i = \\text{argmax}_i \\big( P(i|j) \\big)$, we can ignore $P_j$ in the denumenator, as it is independent of $i$. Therefore we have:\n",
    "\n",
    "$i = \\text{argmax}_i P(i|j) = \\text{argmax}_i p_{ij} = \\text{argmax}_i d_{ij}\\big/n_{ij}$ , where $d_{ij}$ is the total number of time card $i$ was drafted when card $j$ was present in the collection, and $n_{ij}$ is the number of times card $i$ was in the pack, and could have been drafted, when $j$ was in the collection.\n",
    "\n",
    "If we have several cards in the collection, and assuming independence of interactions between cards (Naive Bayes approach), we get: \n",
    "\n",
    "$i= \\text{argmax}_i \\prod_j p_{ij}$"
   ]
  },
  {
   "cell_type": "markdown",
   "metadata": {},
   "source": [
    "> Similar logic can be applied to the process of picking card $i$ when another card $k$ is also available in the pack. In this case, we can count all cases when card $i$ was preferred over card $k$ ($c_{ik}$), as well as the total number of cases when cards $i$ and $k$ were in the pack together, and so $i$ could have been picked over $k$ ($m_{ik}$), and include the related probability $c_{ik}\\big/ m_{ij}$ in the formula."
   ]
  },
  {
   "cell_type": "markdown",
   "metadata": {},
   "source": [
    "In practice, after calculating $p_{ij}$, we move to log-likelihoods, to replace products by sums:\n",
    "\n",
    "$i = \\text{argmax}_i \\sum_j \\log(p_{ij})$, and this operation can be further vectorized as $Q\\cdot c$ where $Q_{ij} = \\log(p_{ij})$ is a matrix of log-transformed probabilities of co-drafting card $i$ towards card $j$ in the collection, and $c$ is an n-encoded vector of all cards in the collection: $c_j=$ the number of cards of type $j$ currently present in the collection."
   ]
  },
  {
   "cell_type": "code",
   "execution_count": 12,
   "metadata": {},
   "outputs": [],
   "source": [
    "minPEver = np.min(pColl[pColl>0])/2 # Even smaller than the smallest non-zero P observed\n",
    "pF = pFull\n",
    "pC = np.log(np.maximum(pColl,minPEver))-np.log(minPEver) # C from 'Collection'\n",
    "pP = np.log(np.maximum(pPack,minPEver))-np.log(minPEver) # P from 'Pack'"
   ]
  },
  {
   "cell_type": "markdown",
   "metadata": {},
   "source": [
    "Note that this formula for pC above is based on an approximation for the number of times i and j were seen together. For large numbers it could work, but it would be better to just keep track of it."
   ]
  },
  {
   "cell_type": "code",
   "execution_count": 14,
   "metadata": {},
   "outputs": [],
   "source": [
    "rating = np.matmul(pP,np.ones(len(names)))\n",
    "order = np.argsort(rating)\n",
    "rank = order.argsort()\n",
    "d = pd.DataFrame({'rating': rating, 'rank': rank, 'name': nameList.Name, 'curm': nameList.rarity})\n",
    "d = d.sort_values(by='rank',ascending=False)\n",
    "# print(d.to_string()) # To print it in full"
   ]
  },
  {
   "cell_type": "markdown",
   "metadata": {},
   "source": [
    "Here comes the main testing loop:"
   ]
  },
  {
   "cell_type": "code",
   "execution_count": 18,
   "metadata": {},
   "outputs": [
    {
     "name": "stdout",
     "output_type": "stream",
     "text": [
      "Draft #100\n",
      "Draft #200\n",
      "Draft #300\n",
      "Draft #400\n",
      "Simple accuracy: 0.55\n",
      "Av. rank error:  1.04\n"
     ]
    }
   ],
   "source": [
    "#bot = ds.RandomBot() # Doesn't work as Henry's bots take lists as arguments, not vectors\n",
    "# bot = RaredraftBot(nameList)\n",
    "# bot = RandomBot(nameList)\n",
    "\n",
    "nCardsInSet = len(names)\n",
    "pickCount = 0\n",
    "accuracySimple = 0\n",
    "accuracyRank = 0 # A difference in ranks\n",
    "stats = [] # To track hits a bit better\n",
    "\n",
    "for iDraft in range(500): #range(len(subset_drafts)): # <----- Uncomment this to ran it on a full dataset\n",
    "    if iDraft>0 and iDraft % 100 == 0:\n",
    "        print(\"Draft #%d\" % iDraft)\n",
    "    draft = drafts[iDraft+2]\n",
    "    collection = np.zeros(nCardsInSet)\n",
    "    iPack = 0\n",
    "    for pack in draft:     \n",
    "        packVector = np.zeros(nCardsInSet)\n",
    "        for cardName in pack:\n",
    "            #pos = nameList[nameList.Name==cardName].index[0]\n",
    "            pos = names[names.Name==cardName].index[0]\n",
    "            packVector[pos] += 1  # Mark the card            \n",
    "            if cardName==pack[0]: # If the first card in the pack, note it, as the Human picked it\n",
    "                humanCard = pos\n",
    "                \n",
    "        # ----- that's where the bot should be called, with current collection and pack\n",
    "        #ratings = bot.rank_pack(np.concatenate([collection, packVector]))\n",
    "        #ratings = pF + np.matmul(pC,collection) + np.matmul(pP,packVector)\n",
    "        if iPack==0: # First card\n",
    "            ratings =  np.matmul(pP,packVector) # Only ratings\n",
    "        else:\n",
    "            ratings =  np.matmul(pC,collection) # Only synergies\n",
    "        ratings = ratings*(packVector>0)\n",
    "        \n",
    "        #ratings2 = np.matmul(pC,collection) # Alternative approach - synergy only\n",
    "        #ratings2 = ratings2*(packVector>0)\n",
    "        \n",
    "        # print(pd.DataFrame({'rating': ratings, 'name': nameList.Name}).loc[ratings<0].to_string())\n",
    "        \n",
    "        botCard = np.argmax(ratings)\n",
    "        #botCard2 = np.argmax(ratings2)\n",
    "        \n",
    "        # --- Update accuracy measurements and the collection:\n",
    "        pickCount += 1\n",
    "        if(humanCard==botCard):\n",
    "            accuracySimple += 1 # Simple count of correctly picked cards\n",
    "            stats.append([1,iPack])\n",
    "        #if(humanCard==botCard2):\n",
    "        #    stats.append([2,iPack])\n",
    "            \n",
    "        # This debugging output uses nameList rather than names, works only if the sequence is the same\n",
    "        if 0:\n",
    "            print(\"%4d %2d %2d %20s %10s \\t %20s %10s\" % (iDraft,iPack,len(pack),\n",
    "                  nameList.iloc[humanCard]['Name'],nameList.iloc[humanCard]['colors'],\n",
    "                  nameList.iloc[botCard]['Name'],  nameList.iloc[botCard]['colors']),end='')\n",
    "            if(humanCard==botCard):\n",
    "                print('\\tyep',end='')\n",
    "            print()\n",
    "            \n",
    "        ranks = len(ratings)-ratings.argsort().argsort()-1\n",
    "        accuracyRank += ranks[humanCard]\n",
    "        # print(\"%3d %3d %3d %3d\" % (iDraft,iCard,sum(packVector),ranks[humanCard]))\n",
    "        \n",
    "        collection[humanCard] += 1 # Update collection\n",
    "        iPack += 1\n",
    "        \n",
    "print(\"Simple accuracy: %4.2f\" % (accuracySimple/pickCount))\n",
    "print(\"Av. rank error:  %4.2f\" % (accuracyRank/pickCount))"
   ]
  },
  {
   "cell_type": "code",
   "execution_count": 19,
   "metadata": {},
   "outputs": [],
   "source": [
    "data = pd.DataFrame(stats,columns=('type','y'))\n",
    "data.to_csv('output_files/Arsenys_bots_summary.csv',index=False)"
   ]
  },
  {
   "cell_type": "code",
   "execution_count": 20,
   "metadata": {},
   "outputs": [
    {
     "name": "stderr",
     "output_type": "stream",
     "text": [
      "C:\\Users\\khakh\\AppData\\Local\\Continuum\\anaconda3\\lib\\site-packages\\ipykernel_launcher.py:7: RuntimeWarning: invalid value encountered in true_divide\n",
      "  import sys\n"
     ]
    },
    {
     "data": {
      "image/png": "[encoded data removed]",
      "text/plain": [
       "<Figure size 432x288 with 1 Axes>"
      ]
     },
     "metadata": {
      "needs_background": "light"
     },
     "output_type": "display_data"
    }
   ],
   "source": [
    "(y,x) = np.histogram(data[data.type==1].y,np.array(range(46))-0.5)\n",
    "y = y/max(y)\n",
    "plt.plot(range(0,15),y[0:15],'b.-',label=\"Full model\");\n",
    "plt.plot(range(15,30),y[15:30],'b.-');\n",
    "plt.plot(range(30,45),y[30:45],'b.-');\n",
    "(y,x) = np.histogram(data[data.type==2].y,np.array(range(46))-0.5)\n",
    "y = y/max(y)\n",
    "plt.plot(range(0,15),y[0:15],'r.-',label=\"Synergy only\");\n",
    "plt.plot(range(15,30),y[15:30],'r.-');\n",
    "plt.plot(range(30,45),y[30:45],'r.-');\n",
    "plt.legend(loc=4)\n",
    "plt.show()"
   ]
  },
  {
   "cell_type": "code",
   "execution_count": null,
   "metadata": {},
   "outputs": [],
   "source": []
  },
  {
   "cell_type": "code",
   "execution_count": null,
   "metadata": {},
   "outputs": [],
   "source": []
  },
  {
   "cell_type": "code",
   "execution_count": null,
   "metadata": {},
   "outputs": [],
   "source": []
  },
  {
   "cell_type": "code",
   "execution_count": null,
   "metadata": {},
   "outputs": [],
   "source": []
  },
  {
   "cell_type": "code",
   "execution_count": 49,
   "metadata": {},
   "outputs": [
    {
     "data": {
      "text/plain": [
       "array([4, 1, 3, 0, 2], dtype=int64)"
      ]
     },
     "execution_count": 49,
     "metadata": {},
     "output_type": "execute_result"
    }
   ],
   "source": [
    "# Playground for ranking:\n",
    "a = np.array([1,5,2,9,3])\n",
    "b = len(b)-a.argsort().argsort()-1\n",
    "b"
   ]
  },
  {
   "cell_type": "code",
   "execution_count": null,
   "metadata": {},
   "outputs": [],
   "source": [
    "# Playground for iterating through a list of lists\n",
    "colorStats = {'W':0, 'U':0, 'B':0, 'R':0, 'G':0}\n",
    "colorData = [['W'] , ['W','B'], ['U']]\n",
    "for subList in colorData:\n",
    "    for item in subList:\n",
    "        colorStats[item] += 1\n",
    "    \n",
    "colorStats"
   ]
  },
  {
   "cell_type": "code",
   "execution_count": null,
   "metadata": {},
   "outputs": [],
   "source": [
    "# Playground for subsetting and quering\n",
    "\n",
    "possible = np.array([3,5,15,28])\n",
    "# nameList.iloc[possible].rarity.str[0]=='u' # A good stub to work with rarity\n",
    "print(nameList.iloc[possible].colors)\n",
    "\n",
    "condition = list('W' in color for color in nameList.iloc[possible].colors)\n",
    "print(condition)\n",
    "\n",
    "possible[condition]"
   ]
  },
  {
   "cell_type": "code",
   "execution_count": 20,
   "metadata": {},
   "outputs": [],
   "source": [
    "# --- Naive bot (drafts like a 5-years-old)\n",
    "class RaredraftBot(object):\n",
    "    def __init__(self,nameList):\n",
    "        self.nameList = nameList # a list with 'Name' column, containing the names\n",
    "        \n",
    "    def rank_pack(self,longVector):\n",
    "        nCards = int(len(longVector)/2)\n",
    "        collection = longVector[0:nCards]\n",
    "        pack = longVector[nCards:]\n",
    "        \n",
    "        # - Analyze collection:\n",
    "        colorStats = {'W':0, 'U':0, 'B':0, 'R':0, 'G':0}\n",
    "        for subList in list(color for color in self.nameList.iloc[np.nonzero(collection)[0]].colors):\n",
    "            for item in subList:\n",
    "                colorStats[item] += 1\n",
    "        currentColor = max(colorStats, key=colorStats.get) \n",
    "        # Comment for this notation of max: Passes each iterable to the key function, \n",
    "        # Returns largest iterable based on the return value of the key function\n",
    "        # print(colorStats, currentColor)\n",
    "        \n",
    "        # - Make the pick:\n",
    "        possibleCards = np.nonzero(packVector)[0]\n",
    "        rating = np.ones(len(possibleCards)) # ones because existing cards still better than nonexisting\n",
    "        condition = self.nameList.iloc[possibleCards].rarity.str[0]=='m' # mythics\n",
    "        rating[condition] += 10 # Cecause rare+on color = 9, and 10 is greater\n",
    "        condition = self.nameList.iloc[possibleCards].rarity.str[0]=='r' # rares\n",
    "        rating[condition] += 6 # Because uncommon+oncolor = 5, and 6 is greater\n",
    "        condition = self.nameList.iloc[possibleCards].rarity.str[0]=='u' # uncommons\n",
    "        rating[condition] += 3 # because common+uncolor = 2, and 3 is greater\n",
    "        condition = list(currentColor in color \n",
    "                         for color in self.nameList.iloc[possibleCards].colors) # Follow the color\n",
    "        rating[condition] += 2\n",
    "        #print(rating)\n",
    "        \n",
    "        # botCard = possibleCards[np.argmax(rating)]\n",
    "        \n",
    "        preferences = np.zeros(nCards)\n",
    "        preferences[possibleCards] = rating\n",
    "        \n",
    "        return preferences"
   ]
  }
 ],
 "metadata": {
  "kernelspec": {
   "display_name": "Python 3",
   "language": "python",
   "name": "python3"
  },
  "language_info": {
   "codemirror_mode": {
    "name": "ipython",
    "version": 3
   },
   "file_extension": ".py",
   "mimetype": "text/x-python",
   "name": "python",
   "nbconvert_exporter": "python",
   "pygments_lexer": "ipython3",
   "version": "3.7.3"
  }
 },
 "nbformat": 4,
 "nbformat_minor": 2
}
