{
 "cells": [
  {
   "cell_type": "code",
   "execution_count": 2,
   "metadata": {},
   "outputs": [],
   "source": [
    "import pandas as pd\n",
    "import numpy as np\n",
    "import csv\n",
    "import re\n",
    "import itertools\n",
    "import matplotlib.pyplot as plt\n",
    "import mpld3\n",
    "import scipy.stats as stats"
   ]
  },
  {
   "cell_type": "code",
   "execution_count": 3,
   "metadata": {},
   "outputs": [],
   "source": [
    "from draftsim_utils_ab import *"
   ]
  },
  {
   "cell_type": "markdown",
   "metadata": {},
   "source": [
    "This one just counts how many drafts from each set are there in a given data file.\n",
    "\n",
    "By Arseny Khakhalin"
   ]
  },
  {
   "cell_type": "code",
   "execution_count": 17,
   "metadata": {
    "scrolled": true
   },
   "outputs": [],
   "source": [
    "# Change the data file below to work with the draftsim data you want\n",
    "\n",
    "draftData = pd.read_csv('../../2018-12-27-01 all sets.csv', \n",
    "                       names = ['format', 'human', 'bot1', 'bot2', 'bot3', 'bot4', 'bot5', 'bot6', 'bot7'])"
   ]
  },
  {
   "cell_type": "code",
   "execution_count": 21,
   "metadata": {},
   "outputs": [],
   "source": [
    "draftData.head();"
   ]
  },
  {
   "cell_type": "code",
   "execution_count": 19,
   "metadata": {},
   "outputs": [
    {
     "data": {
      "text/plain": [
       "{'GRN': 16782,\n",
       " 'UMA': 19277,\n",
       " 'M19': 1995,\n",
       " 'DOM': 9237,\n",
       " 'RIX': 742,\n",
       " 'XLN': 151,\n",
       " 'HOU': 97,\n",
       " 'A25': 279,\n",
       " 'SOI': 123,\n",
       " 'ORI': 93,\n",
       " 'MM3': 161,\n",
       " 'BFZ': 68,\n",
       " 'AKH': 115,\n",
       " 'KLD': 95,\n",
       " 'IMA': 124,\n",
       " 'DTK': 133,\n",
       " 'AER': 174,\n",
       " 'EMN': 109,\n",
       " 'UST': 100,\n",
       " 'OGW': 124,\n",
       " nan: 0}"
      ]
     },
     "execution_count": 19,
     "metadata": {},
     "output_type": "execute_result"
    }
   ],
   "source": [
    "sets = {}\n",
    "\n",
    "for draft in draftData['format']:\n",
    "    if draft in sets:\n",
    "        sets[draft] += 1\n",
    "    else:\n",
    "        sets[draft] = 0\n",
    "        \n",
    "sets"
   ]
  }
 ],
 "metadata": {
  "kernelspec": {
   "display_name": "Python 3",
   "language": "python",
   "name": "python3"
  },
  "language_info": {
   "codemirror_mode": {
    "name": "ipython",
    "version": 3
   },
   "file_extension": ".py",
   "mimetype": "text/x-python",
   "name": "python",
   "nbconvert_exporter": "python",
   "pygments_lexer": "ipython3",
   "version": "3.7.0"
  }
 },
 "nbformat": 4,
 "nbformat_minor": 2
}
