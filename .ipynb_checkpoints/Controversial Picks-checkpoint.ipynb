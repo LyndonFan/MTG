{
 "cells": [
  {
   "cell_type": "code",
   "execution_count": 25,
   "metadata": {},
   "outputs": [],
   "source": [
    "import pandas as pd\n",
    "import numpy as np\n",
    "\n",
    "import csv\n",
    "import json\n",
    "\n",
    "import re\n",
    "\n",
    "import itertools\n",
    "\n",
    "import matplotlib.pyplot as plt\n",
    "import mpld3"
   ]
  },
  {
   "cell_type": "raw",
   "metadata": {},
   "source": [
    "Controversial Picks Calculator (by Bobby Mills and Arseny Khakhalin)"
   ]
  },
  {
   "cell_type": "code",
   "execution_count": 26,
   "metadata": {},
   "outputs": [],
   "source": [
    "#mtgJSON = json.load(open('Allsets.json'))\n",
    "with open('../Jupyter/Allsets.json', 'r',encoding='utf-8') as json_data:\n",
    "    mtgJSON = json.load(json_data)"
   ]
  },
  {
   "cell_type": "markdown",
   "metadata": {},
   "source": [
    "Change the set abbrevation below to work with a different set"
   ]
  },
  {
   "cell_type": "code",
   "execution_count": 8,
   "metadata": {},
   "outputs": [],
   "source": [
    "#thisSet = mtgJSON['DOM']['cards']\n",
    "thisSet = mtgJSON['GRN']['cards']\n",
    "#thisSet = mtgJSON['M19']['cards']"
   ]
  },
  {
   "cell_type": "code",
   "execution_count": 9,
   "metadata": {},
   "outputs": [],
   "source": [
    "def fixName(name):\n",
    "    res = re.sub(' ', '_', name)\n",
    "    res = re.sub(',_', '_', res)\n",
    "    res = re.sub('_\\d+', '', res) #remove _number from lands\n",
    "    res = re.sub('_\\([a-zA-Z]\\)', '', res) #remove guildgate types\n",
    "    res = res.lower()\n",
    "    return res"
   ]
  },
  {
   "cell_type": "code",
   "execution_count": 13,
   "metadata": {},
   "outputs": [],
   "source": [
    "def getName(card):\n",
    "    s = '_'\n",
    "    #names only occurs in split cards\n",
    "    if card['layout'] == 'split':\n",
    "        return s.join(\n",
    "            [fixName(x) for x in card['names']]) #format split card names\n",
    "    else: #else just use name\n",
    "        return fixName(card['name'])"
   ]
  },
  {
   "cell_type": "code",
   "execution_count": 14,
   "metadata": {},
   "outputs": [],
   "source": [
    "def isLegendary(card):\n",
    "    return 'supertypes' in card.keys() and 'Legendary' in card['supertypes']"
   ]
  },
  {
   "cell_type": "code",
   "execution_count": 15,
   "metadata": {},
   "outputs": [],
   "source": [
    "def getCardColor(card):\n",
    "    colors = ['W', 'U', 'B', 'G', 'R'] # Change that to proper color sequence at some point (including in plots below)\n",
    "    pattern = \"[W,U,B,G,R]\"\n",
    "    \n",
    "    if 'manaCost' in card.keys():\n",
    "        mana = re.findall(pattern, card['manaCost'])\n",
    "        mana = list(set(mana))#delete duplicates\n",
    "        if len(mana) == 0:\n",
    "            return 0\n",
    "        elif len(mana) > 1:\n",
    "            return 1\n",
    "        else:\n",
    "            return colors.index(mana[0]) + 2\n",
    "        return mana\n",
    "    #for colored land cards\n",
    "    elif 'colorIdentity' in card.keys():\n",
    "        mana = card['colorIdentity']\n",
    "        if len(mana) == 0:\n",
    "            return 0\n",
    "        elif len(mana) > 1:\n",
    "            return 1\n",
    "        else:\n",
    "            return colors.index(mana[0]) + 2\n",
    "        return mana\n",
    "    #colorless lands\n",
    "    else:\n",
    "        return 0"
   ]
  },
  {
   "cell_type": "code",
   "execution_count": 16,
   "metadata": {},
   "outputs": [],
   "source": [
    "thisSet = {getName(card) : card for card in thisSet} # a dict with names as indices for cards, for all cards in set"
   ]
  },
  {
   "cell_type": "markdown",
   "metadata": {},
   "source": [
    "Change the data file below to work with the draftsim data you want"
   ]
  },
  {
   "cell_type": "code",
   "execution_count": 17,
   "metadata": {
    "scrolled": true
   },
   "outputs": [
    {
     "data": {
      "text/html": [
       "<div>\n",
       "<style scoped>\n",
       "    .dataframe tbody tr th:only-of-type {\n",
       "        vertical-align: middle;\n",
       "    }\n",
       "\n",
       "    .dataframe tbody tr th {\n",
       "        vertical-align: top;\n",
       "    }\n",
       "\n",
       "    .dataframe thead th {\n",
       "        text-align: right;\n",
       "    }\n",
       "</style>\n",
       "<table border=\"1\" class=\"dataframe\">\n",
       "  <thead>\n",
       "    <tr style=\"text-align: right;\">\n",
       "      <th></th>\n",
       "      <th>format</th>\n",
       "      <th>human</th>\n",
       "      <th>bot1</th>\n",
       "      <th>bot2</th>\n",
       "      <th>bot3</th>\n",
       "      <th>bot4</th>\n",
       "      <th>bot5</th>\n",
       "      <th>bot6</th>\n",
       "      <th>bot7</th>\n",
       "    </tr>\n",
       "  </thead>\n",
       "  <tbody>\n",
       "    <tr>\n",
       "      <th>1559676</th>\n",
       "      <td>M19</td>\n",
       "      <td>Leonin_Warleader,Take_Vengeance,Shield_Mare,Ma...</td>\n",
       "      <td>Goreclaw,_Terror_of_Qal_Sisma,Gravedigger,Ghir...</td>\n",
       "      <td>Death_Baron,Plague_Mare,Switcheroo,Macabre_Wal...</td>\n",
       "      <td>Luminous_Bonds,Departed_Deckhand,Skilled_Anima...</td>\n",
       "      <td>Vivien's_Invocation,Gravedigger,Druid_of_the_C...</td>\n",
       "      <td>Ajani's_Last_Stand,Knightly_Valor,Arcane_Encyc...</td>\n",
       "      <td>Murder,Aven_Wind_Mage,Psychic_Symbiont,Walking...</td>\n",
       "      <td>Dark-Dweller_Oracle,Rabid_Bite,Ghastbark_Twins...</td>\n",
       "    </tr>\n",
       "    <tr>\n",
       "      <th>1559677</th>\n",
       "      <td>M19</td>\n",
       "      <td>Sai,_Master_Thopterist,Snapping_Drake,Skyscann...</td>\n",
       "      <td>Vine_Mare,Lightning_Strike,Bristling_Boar,Plag...</td>\n",
       "      <td>Resplendent_Angel,Angel_of_the_Dawn,Angel_of_t...</td>\n",
       "      <td>Star-Crowned_Stag,Angel_of_the_Dawn,Lich's_Car...</td>\n",
       "      <td>Spit_Flame,Guttersnipe,Electrify,Goblin_Instig...</td>\n",
       "      <td>Sift,Electrify,Switcheroo,Suspicious_Bookcase,...</td>\n",
       "      <td>Bone_Dragon,Vampire_Neonate,Ravenous_Harpy,Sky...</td>\n",
       "      <td>Lathliss,_Dragon_Queen,Lich's_Caress,Trumpet_B...</td>\n",
       "    </tr>\n",
       "    <tr>\n",
       "      <th>1559678</th>\n",
       "      <td>M19</td>\n",
       "      <td>Valiant_Knight,Murder,Skymarch_Bloodletter,Peg...</td>\n",
       "      <td>Spit_Flame,Electrify,Shock,Rabid_Bite,Draconic...</td>\n",
       "      <td>Spit_Flame,Reassembling_Skeleton,Departed_Deck...</td>\n",
       "      <td>Goblin_Trashmaster,Dwindle,Hostile_Minotaur,Bo...</td>\n",
       "      <td>Open_the_Graves,Gallant_Cavalry,Poison-Tip_Arc...</td>\n",
       "      <td>Goreclaw,_Terror_of_Qal_Sisma,Oakenform,Aviati...</td>\n",
       "      <td>Ajani's_Pridemate,Electrify,Dragon_Egg,Arcane_...</td>\n",
       "      <td>Prodigious_Growth,Skyrider_Patrol,Meteor_Golem...</td>\n",
       "    </tr>\n",
       "    <tr>\n",
       "      <th>1559680</th>\n",
       "      <td>M19</td>\n",
       "      <td>Hieromancer's_Cage,Leonin_Vanguard,Luminous_Bo...</td>\n",
       "      <td>Ajani,_Adversary_of_Tyrants,Vivien's_Invocatio...</td>\n",
       "      <td>Demon_of_Catastrophes,Lightning_Strike,Skymarc...</td>\n",
       "      <td>Plague_Mare,Shock,Reassembling_Skeleton,Maraud...</td>\n",
       "      <td>Chromium,_the_Mutable,Militia_Bugler,Aethershi...</td>\n",
       "      <td>Hieromancer's_Cage,Heroic_Reinforcements,Aeria...</td>\n",
       "      <td>Departed_Deckhand,Lich's_Caress,Reassembling_S...</td>\n",
       "      <td>Lathliss,_Dragon_Queen,Electrify,Fiery_Finish,...</td>\n",
       "    </tr>\n",
       "    <tr>\n",
       "      <th>1559682</th>\n",
       "      <td>M19</td>\n",
       "      <td>Tezzeret,_Artifice_Master,Skilled_Animator,Lum...</td>\n",
       "      <td>Djinn_of_Wishes,Angel_of_the_Dawn,Aven_Wind_Ma...</td>\n",
       "      <td>Sarkhan's_Unsealing,Star-Crowned_Stag,Heroic_R...</td>\n",
       "      <td>Meteor_Golem,Luminous_Bonds,Fell_Specter,Rabid...</td>\n",
       "      <td>Demanding_Dragon,Pegasus_Courser,Arcane_Encycl...</td>\n",
       "      <td>Isareth_the_Awakener,Departed_Deckhand,Dwindle...</td>\n",
       "      <td>Goreclaw,_Terror_of_Qal_Sisma,Plague_Mare,Ghas...</td>\n",
       "      <td>Prodigious_Growth,Dryad_Greenseeker,Gargoyle_S...</td>\n",
       "    </tr>\n",
       "  </tbody>\n",
       "</table>\n",
       "</div>"
      ],
      "text/plain": [
       "        format                                              human  \\\n",
       "1559676    M19  Leonin_Warleader,Take_Vengeance,Shield_Mare,Ma...   \n",
       "1559677    M19  Sai,_Master_Thopterist,Snapping_Drake,Skyscann...   \n",
       "1559678    M19  Valiant_Knight,Murder,Skymarch_Bloodletter,Peg...   \n",
       "1559680    M19  Hieromancer's_Cage,Leonin_Vanguard,Luminous_Bo...   \n",
       "1559682    M19  Tezzeret,_Artifice_Master,Skilled_Animator,Lum...   \n",
       "\n",
       "                                                      bot1  \\\n",
       "1559676  Goreclaw,_Terror_of_Qal_Sisma,Gravedigger,Ghir...   \n",
       "1559677  Vine_Mare,Lightning_Strike,Bristling_Boar,Plag...   \n",
       "1559678  Spit_Flame,Electrify,Shock,Rabid_Bite,Draconic...   \n",
       "1559680  Ajani,_Adversary_of_Tyrants,Vivien's_Invocatio...   \n",
       "1559682  Djinn_of_Wishes,Angel_of_the_Dawn,Aven_Wind_Ma...   \n",
       "\n",
       "                                                      bot2  \\\n",
       "1559676  Death_Baron,Plague_Mare,Switcheroo,Macabre_Wal...   \n",
       "1559677  Resplendent_Angel,Angel_of_the_Dawn,Angel_of_t...   \n",
       "1559678  Spit_Flame,Reassembling_Skeleton,Departed_Deck...   \n",
       "1559680  Demon_of_Catastrophes,Lightning_Strike,Skymarc...   \n",
       "1559682  Sarkhan's_Unsealing,Star-Crowned_Stag,Heroic_R...   \n",
       "\n",
       "                                                      bot3  \\\n",
       "1559676  Luminous_Bonds,Departed_Deckhand,Skilled_Anima...   \n",
       "1559677  Star-Crowned_Stag,Angel_of_the_Dawn,Lich's_Car...   \n",
       "1559678  Goblin_Trashmaster,Dwindle,Hostile_Minotaur,Bo...   \n",
       "1559680  Plague_Mare,Shock,Reassembling_Skeleton,Maraud...   \n",
       "1559682  Meteor_Golem,Luminous_Bonds,Fell_Specter,Rabid...   \n",
       "\n",
       "                                                      bot4  \\\n",
       "1559676  Vivien's_Invocation,Gravedigger,Druid_of_the_C...   \n",
       "1559677  Spit_Flame,Guttersnipe,Electrify,Goblin_Instig...   \n",
       "1559678  Open_the_Graves,Gallant_Cavalry,Poison-Tip_Arc...   \n",
       "1559680  Chromium,_the_Mutable,Militia_Bugler,Aethershi...   \n",
       "1559682  Demanding_Dragon,Pegasus_Courser,Arcane_Encycl...   \n",
       "\n",
       "                                                      bot5  \\\n",
       "1559676  Ajani's_Last_Stand,Knightly_Valor,Arcane_Encyc...   \n",
       "1559677  Sift,Electrify,Switcheroo,Suspicious_Bookcase,...   \n",
       "1559678  Goreclaw,_Terror_of_Qal_Sisma,Oakenform,Aviati...   \n",
       "1559680  Hieromancer's_Cage,Heroic_Reinforcements,Aeria...   \n",
       "1559682  Isareth_the_Awakener,Departed_Deckhand,Dwindle...   \n",
       "\n",
       "                                                      bot6  \\\n",
       "1559676  Murder,Aven_Wind_Mage,Psychic_Symbiont,Walking...   \n",
       "1559677  Bone_Dragon,Vampire_Neonate,Ravenous_Harpy,Sky...   \n",
       "1559678  Ajani's_Pridemate,Electrify,Dragon_Egg,Arcane_...   \n",
       "1559680  Departed_Deckhand,Lich's_Caress,Reassembling_S...   \n",
       "1559682  Goreclaw,_Terror_of_Qal_Sisma,Plague_Mare,Ghas...   \n",
       "\n",
       "                                                      bot7  \n",
       "1559676  Dark-Dweller_Oracle,Rabid_Bite,Ghastbark_Twins...  \n",
       "1559677  Lathliss,_Dragon_Queen,Lich's_Caress,Trumpet_B...  \n",
       "1559678  Prodigious_Growth,Skyrider_Patrol,Meteor_Golem...  \n",
       "1559680  Lathliss,_Dragon_Queen,Electrify,Fiery_Finish,...  \n",
       "1559682  Prodigious_Growth,Dryad_Greenseeker,Gargoyle_S...  "
      ]
     },
     "execution_count": 17,
     "metadata": {},
     "output_type": "execute_result"
    }
   ],
   "source": [
    "draftData = pd.read_csv('../2018-10-05 GRN Draft Data 1.csv', \n",
    "                       names = ['format', 'human', 'bot1', 'bot2', 'bot3', 'bot4', 'bot5', 'bot6', 'bot7'])\n",
    "#draftData = pd.read_csv('05-31-18 Rows 500000-600000.csv', \n",
    "#                       names = ['format', 'human', 'bot1', 'bot2', 'bot3', 'bot4', 'bot5', 'bot6', 'bot7'])\n",
    "#draftData = pd.read_csv('../2018-08-23 m19 drafts round 2.csv', \n",
    "#                      names = ['format', 'human', 'bot1', 'bot2', 'bot3', 'bot4', 'bot5', 'bot6', 'bot7'])\n",
    "#draftData = pd.read_csv('2018-04-16 Dominiaria initial data-2.csv', \n",
    "#                        names = ['format', 'human', 'bot1', 'bot2', 'bot3', 'bot4', 'bot5', 'bot6', 'bot7'])\n",
    "draftData.head()"
   ]
  },
  {
   "cell_type": "code",
   "execution_count": 11,
   "metadata": {},
   "outputs": [],
   "source": [
    "# draftData.iloc[0]['bot1']\n",
    "# len(draftData['bot1'])"
   ]
  },
  {
   "cell_type": "code",
   "execution_count": 18,
   "metadata": {},
   "outputs": [],
   "source": [
    "#print(thisSet.keys())\n",
    "dict((k.lower(), v) for k, v in thisSet.items()) # Lowercase the keys\n",
    "cardlist = list(thisSet.keys())\n",
    "#print(cardlist)"
   ]
  },
  {
   "cell_type": "code",
   "execution_count": 20,
   "metadata": {},
   "outputs": [
    {
     "data": {
      "text/plain": [
       "{'artist': 'Jonathan Kuo',\n",
       " 'cmc': 5,\n",
       " 'colorIdentity': ['G'],\n",
       " 'colors': ['Green'],\n",
       " 'flavor': '\"Each tooth is the length of a horse, and new ones grow in every sixteen days. Let\\'s get a closer look!\"\\n—Vivien Reid',\n",
       " 'id': '7cafa32041b6918c1f03ffdb2d19d85c2a219d5c',\n",
       " 'imageName': 'gigantosaurus',\n",
       " 'layout': 'normal',\n",
       " 'manaCost': '{G}{G}{G}{G}{G}',\n",
       " 'multiverseid': 447321,\n",
       " 'name': 'Gigantosaurus',\n",
       " 'number': '185',\n",
       " 'power': '10',\n",
       " 'rarity': 'Rare',\n",
       " 'subtypes': ['Dinosaur'],\n",
       " 'toughness': '10',\n",
       " 'type': 'Creature — Dinosaur',\n",
       " 'types': ['Creature']}"
      ]
     },
     "execution_count": 20,
     "metadata": {},
     "output_type": "execute_result"
    }
   ],
   "source": [
    "#Pick a card name to see what the mtgJSON looks like\n",
    "thisSet['gigantosaurus'] # M19\n",
    "#thisSet['karn_scion_of_urza']\n",
    "#thisSet['blade_instructor'] # grn"
   ]
  },
  {
   "cell_type": "code",
   "execution_count": 21,
   "metadata": {},
   "outputs": [],
   "source": [
    "cardpicks = {card : [] for card in cardlist} # Pick order\n",
    "cardpickOn = {card : [] for card in cardlist} # Pick order on color\n",
    "\n",
    "count = 0\n",
    "player = 'human' # normally should be: human, but can also be bot1 or another bot\n",
    "for draft in draftData[player]:\n",
    "    draft = fixName(draft)\n",
    "    draft = draft.lower()\n",
    "    draft = draft.split(',')\n",
    "    count = count+1    \n",
    "    #colorCount = {i : 0 for i in range(0,6)}\n",
    "    colorCount = [0,0,0,0,0,0,0]\n",
    "    for i in range(14):\n",
    "        try:\n",
    "            cardpicks[draft[i]].append(i+1)\n",
    "            bestColorSoFar = np.argmax(colorCount)\n",
    "            if bestColorSoFar==0 or getCardColor(thisSet[draft[i]]) == bestColorSoFar:\n",
    "                cardpickOn[draft[i]].append(i+1)\n",
    "            colorCount[getCardColor(thisSet[draft[i]])] += 1            \n",
    "        except KeyError as e:\n",
    "            print(draft)\n",
    "            print(count)\n",
    "            raise\n",
    "    #if any('karn_scion_of_urza' in x for x in draft):\n",
    "    #    print(cardpicks['karn_scion_of_urza'][-1])\n",
    "    #    #print(draft)"
   ]
  },
  {
   "cell_type": "code",
   "execution_count": 22,
   "metadata": {},
   "outputs": [],
   "source": [
    "for card in cardpicks:\n",
    "    if cardpicks[card] == []:\n",
    "        cardpicks[card].append(15)\n",
    "        \n",
    "for card in cardpickOn:\n",
    "    if cardpickOn[card] == []:\n",
    "        cardpickOn[card].append(15)"
   ]
  },
  {
   "cell_type": "code",
   "execution_count": 24,
   "metadata": {},
   "outputs": [
    {
     "data": {
      "text/plain": [
       "Text(0,0.5,'Frequency')"
      ]
     },
     "execution_count": 24,
     "metadata": {},
     "output_type": "execute_result"
    },
    {
     "data": {
      "image/png": "[encoded data removed]",
      "text/plain": [
       "<Figure size 432x288 with 1 Axes>"
      ]
     },
     "metadata": {
      "needs_background": "light"
     },
     "output_type": "display_data"
    }
   ],
   "source": [
    "#cardpicks['karn_scion_of_urza']\n",
    "#cardpicks['karn_scion_of_urza']\n",
    "#cardpicks['chance_for_glory']\n",
    "\n",
    "goodCardName = 'ionize' # Controversial in GRN: ionize, chance_for_glory. Well known: leapfrog, silent_dart\n",
    "\n",
    "# Histogram of cardpicks\n",
    "fig, ax = plt.subplots()\n",
    "n, bins, patches = plt.hist(cardpicks[goodCardName], 13, range=(0.5,13.5), density=True, facecolor=(0.2,0.5,1), alpha=0.75)\n",
    "ax.set_title(goodCardName, size=10)\n",
    "plt.xlabel('Pick order')\n",
    "plt.ylabel('Frequency') "
   ]
  },
  {
   "cell_type": "code",
   "execution_count": 23,
   "metadata": {},
   "outputs": [],
   "source": [
    "cardpicksdf = pd.DataFrame({\n",
    "        'avg' : [np.mean(cardpicks[card]) for card in cardpicks],\n",
    "        'var' : [np.var(cardpicks[card]) for card in cardpicks],\n",
    "        'count' : [len(cardpicks[card]) for card in cardpicks],\n",
    "        'color' : [getCardColor(thisSet[card]) for card in cardpicks],\n",
    "        'rarity' :[thisSet[card]['rarity'] for card in cardpicks],\n",
    "        'legendary' : [1 if isLegendary(thisSet[card]) else 0 for card in cardpicks]\n",
    "    }, list(cardpicks.keys()))\n",
    "#cardpicksdf.head()"
   ]
  },
  {
   "cell_type": "code",
   "execution_count": 24,
   "metadata": {},
   "outputs": [],
   "source": [
    "cardpickOndf = pd.DataFrame({\n",
    "        'avg' : [np.mean(cardpickOn[card]) for card in cardpickOn],\n",
    "        'var' : [np.var(cardpickOn[card]) for card in cardpickOn],\n",
    "        'count' : [len(cardpickOn[card]) for card in cardpickOn],\n",
    "        'color' : [getCardColor(thisSet[card]) for card in cardpickOn],\n",
    "        'rarity' :[thisSet[card]['rarity'] for card in cardpickOn],\n",
    "        'legendary' : [1 if isLegendary(thisSet[card]) else 0 for card in cardpickOn]\n",
    "    }, list(cardpickOn.keys()))"
   ]
  },
  {
   "cell_type": "code",
   "execution_count": 25,
   "metadata": {},
   "outputs": [],
   "source": [
    "if player=='human':\n",
    "    cardpicksdf.to_csv('../Jupyter/controversial_cards_data.csv', index_label=\"name\")\n",
    "    cardpickOndf.to_csv('../Jupyter/controversial_cards_data_onColor.csv', index_label=\"name\")\n",
    "else:\n",
    "    cardpicksdf.to_csv('../Jupyter/controversial_cards_data_bot.csv', index_label=\"name\")\n",
    "    cardpickOndf.to_csv('../Jupyter/controversial_cards_data_onColor_bot.csv', index_label=\"name\")"
   ]
  },
  {
   "cell_type": "code",
   "execution_count": 20,
   "metadata": {},
   "outputs": [
    {
     "data": {
      "text/html": [
       "<div>\n",
       "<style scoped>\n",
       "    .dataframe tbody tr th:only-of-type {\n",
       "        vertical-align: middle;\n",
       "    }\n",
       "\n",
       "    .dataframe tbody tr th {\n",
       "        vertical-align: top;\n",
       "    }\n",
       "\n",
       "    .dataframe thead th {\n",
       "        text-align: right;\n",
       "    }\n",
       "</style>\n",
       "<table border=\"1\" class=\"dataframe\">\n",
       "  <thead>\n",
       "    <tr style=\"text-align: right;\">\n",
       "      <th></th>\n",
       "      <th>avg</th>\n",
       "      <th>var</th>\n",
       "      <th>count</th>\n",
       "      <th>color</th>\n",
       "      <th>rarity</th>\n",
       "      <th>legendary</th>\n",
       "    </tr>\n",
       "  </thead>\n",
       "  <tbody>\n",
       "    <tr>\n",
       "      <th>thousand-year_storm</th>\n",
       "      <td>9.165869</td>\n",
       "      <td>19.194516</td>\n",
       "      <td>2297</td>\n",
       "      <td>1</td>\n",
       "      <td>Mythic Rare</td>\n",
       "      <td>0</td>\n",
       "    </tr>\n",
       "    <tr>\n",
       "      <th>firemind's_research</th>\n",
       "      <td>7.381732</td>\n",
       "      <td>18.811131</td>\n",
       "      <td>3175</td>\n",
       "      <td>1</td>\n",
       "      <td>Rare</td>\n",
       "      <td>0</td>\n",
       "    </tr>\n",
       "    <tr>\n",
       "      <th>chance_for_glory</th>\n",
       "      <td>8.108232</td>\n",
       "      <td>18.015217</td>\n",
       "      <td>1968</td>\n",
       "      <td>1</td>\n",
       "      <td>Mythic Rare</td>\n",
       "      <td>0</td>\n",
       "    </tr>\n",
       "    <tr>\n",
       "      <th>mnemonic_betrayal</th>\n",
       "      <td>8.782915</td>\n",
       "      <td>17.338804</td>\n",
       "      <td>1990</td>\n",
       "      <td>1</td>\n",
       "      <td>Mythic Rare</td>\n",
       "      <td>0</td>\n",
       "    </tr>\n",
       "    <tr>\n",
       "      <th>ionize</th>\n",
       "      <td>7.363283</td>\n",
       "      <td>16.812561</td>\n",
       "      <td>4886</td>\n",
       "      <td>1</td>\n",
       "      <td>Rare</td>\n",
       "      <td>0</td>\n",
       "    </tr>\n",
       "    <tr>\n",
       "      <th>drowned_secrets</th>\n",
       "      <td>5.902308</td>\n",
       "      <td>16.733344</td>\n",
       "      <td>1863</td>\n",
       "      <td>3</td>\n",
       "      <td>Rare</td>\n",
       "      <td>0</td>\n",
       "    </tr>\n",
       "    <tr>\n",
       "      <th>steam_vents</th>\n",
       "      <td>7.657913</td>\n",
       "      <td>15.216547</td>\n",
       "      <td>5636</td>\n",
       "      <td>1</td>\n",
       "      <td>Rare</td>\n",
       "      <td>0</td>\n",
       "    </tr>\n",
       "    <tr>\n",
       "      <th>mausoleum_secrets</th>\n",
       "      <td>7.747492</td>\n",
       "      <td>15.126384</td>\n",
       "      <td>2293</td>\n",
       "      <td>4</td>\n",
       "      <td>Rare</td>\n",
       "      <td>0</td>\n",
       "    </tr>\n",
       "    <tr>\n",
       "      <th>omnispell_adept</th>\n",
       "      <td>7.464591</td>\n",
       "      <td>15.075979</td>\n",
       "      <td>2923</td>\n",
       "      <td>3</td>\n",
       "      <td>Rare</td>\n",
       "      <td>0</td>\n",
       "    </tr>\n",
       "    <tr>\n",
       "      <th>beacon_bolt</th>\n",
       "      <td>7.768774</td>\n",
       "      <td>14.964769</td>\n",
       "      <td>9268</td>\n",
       "      <td>1</td>\n",
       "      <td>Uncommon</td>\n",
       "      <td>0</td>\n",
       "    </tr>\n",
       "  </tbody>\n",
       "</table>\n",
       "</div>"
      ],
      "text/plain": [
       "                          avg        var  count  color       rarity  legendary\n",
       "thousand-year_storm  9.165869  19.194516   2297      1  Mythic Rare          0\n",
       "firemind's_research  7.381732  18.811131   3175      1         Rare          0\n",
       "chance_for_glory     8.108232  18.015217   1968      1  Mythic Rare          0\n",
       "mnemonic_betrayal    8.782915  17.338804   1990      1  Mythic Rare          0\n",
       "ionize               7.363283  16.812561   4886      1         Rare          0\n",
       "drowned_secrets      5.902308  16.733344   1863      3         Rare          0\n",
       "steam_vents          7.657913  15.216547   5636      1         Rare          0\n",
       "mausoleum_secrets    7.747492  15.126384   2293      4         Rare          0\n",
       "omnispell_adept      7.464591  15.075979   2923      3         Rare          0\n",
       "beacon_bolt          7.768774  14.964769   9268      1     Uncommon          0"
      ]
     },
     "execution_count": 20,
     "metadata": {},
     "output_type": "execute_result"
    }
   ],
   "source": [
    "cardpicksdf.sort_values(by=['var'], ascending=False).head(10)\n",
    "#cardpicksdf.iloc[0]['rarity'] == 'Common'"
   ]
  },
  {
   "cell_type": "code",
   "execution_count": null,
   "metadata": {},
   "outputs": [],
   "source": [
    "def getHeights(picks):\n",
    "    heights = [0 for x in range(16)]\n",
    "    \n",
    "    for num in picks:\n",
    "        heights[num] +=1\n",
    "        \n",
    "    return heights"
   ]
  },
  {
   "cell_type": "code",
   "execution_count": null,
   "metadata": {},
   "outputs": [],
   "source": [
    "colorkey = ['0', 'M', 'W', 'U', 'B', 'G', 'R']\n",
    "colorid = ['#9F9F9F', 'DC03FD', '#F3C750', '#0E68AB', '#150B00', '#00733E', '#D3202A']\n",
    "mplcolors = ['gray', 'mediumvioletred', 'orange', 'dodgerblue', 'black', 'g', 'red']\n"
   ]
  },
  {
   "cell_type": "code",
   "execution_count": null,
   "metadata": {},
   "outputs": [],
   "source": [
    "mplrarity = ['crimson','orange','gray', 'black', 'w']\n",
    "rarity= ['Mythic Rare', 'Rare', 'Uncommon', 'Common', 'Basic Land']"
   ]
  },
  {
   "cell_type": "code",
   "execution_count": null,
   "metadata": {
    "scrolled": true
   },
   "outputs": [],
   "source": [
    "fig, ax = plt.subplots()\n",
    "\n",
    "scatter = ax.scatter(cardpicksdf['avg'],\n",
    "                     cardpicksdf['var'],\n",
    "                     c = [mplcolors[x] for x in cardpicksdf['color']]\n",
    "                    )\n",
    "\n",
    "ax.set_title(\"Card Picks avg vs var\", size=20)\n",
    "plt.xlabel('avg pick number')\n",
    "plt.ylabel('var in pick number') \n",
    "\n",
    "labels = list(cardpicksdf.index)\n",
    "tooltip = mpld3.plugins.PointLabelTooltip(scatter, labels=labels)\n",
    "mpld3.plugins.connect(fig, tooltip)\n",
    "\n",
    "#plt.savefig('avgvsvar.png')\n",
    "\n",
    "#mpld3.display()"
   ]
  },
  {
   "cell_type": "code",
   "execution_count": null,
   "metadata": {
    "scrolled": true
   },
   "outputs": [],
   "source": [
    "fig, ax = plt.subplots()\n",
    "\n",
    "scatter = ax.scatter(cardpicksdf['avg'],\n",
    "                     cardpicksdf['var'],\n",
    "                     c = [mplrarity[rarity.index(x)] for x in cardpicksdf['rarity']]\n",
    "                    )\n",
    "\n",
    "ax.set_title(\"Card Picks avg vs var by rarity\", size=20)\n",
    "plt.xlabel('avg pick number')\n",
    "plt.ylabel('var in pick number') \n",
    "\n",
    "\n",
    "\n",
    "labels = list(cardpicksdf.index)\n",
    "tooltip = mpld3.plugins.PointLabelTooltip(scatter, labels=labels)\n",
    "mpld3.plugins.connect(fig, tooltip)\n",
    "\n",
    "#plt.savefig('avgvsvarRarityDom.png')\n",
    "\n",
    "#mpld3.display()"
   ]
  },
  {
   "cell_type": "code",
   "execution_count": null,
   "metadata": {},
   "outputs": [],
   "source": [
    "fig, ax = plt.subplots()\n",
    "\n",
    "#The top scatter is for legendary cards. The bottom is non legendary.\n",
    "#You can comment one out for more clarity\n",
    "\n",
    "scatter = ax.scatter(cardpicksdf.loc[cardpicksdf['legendary'] == 1]['avg'],\n",
    "                     cardpicksdf.loc[cardpicksdf['legendary'] == 1]['var'],\n",
    "                     c = [mplrarity[rarity.index(x)] for x in cardpicksdf['rarity']],\n",
    "                     marker = 's'\n",
    "                    )\n",
    "scatter = ax.scatter(cardpicksdf.loc[cardpicksdf['legendary'] == 0]['avg'],\n",
    "                     cardpicksdf.loc[cardpicksdf['legendary'] == 0]['var'],\n",
    "                     c = [mplrarity[rarity.index(x)] for x in cardpicksdf['rarity']],\n",
    "                     marker = 'o'\n",
    "                    )\n",
    "\n",
    "ax.set_title(\"Card Picks avg vs var by rarity\", size=10)\n",
    "plt.xlabel('avg pick number')\n",
    "plt.ylabel('var in pick number') \n",
    "\n",
    "\n",
    "\n",
    "labels = list(cardpicksdf.index)\n",
    "tooltip = mpld3.plugins.PointLabelTooltip(scatter, labels=labels)\n",
    "mpld3.plugins.connect(fig, tooltip)\n",
    "\n",
    "plt.savefig('avgvsvarRarityDomNormal.png')\n",
    "\n",
    "mpld3.display()"
   ]
  },
  {
   "cell_type": "code",
   "execution_count": null,
   "metadata": {},
   "outputs": [],
   "source": []
  },
  {
   "cell_type": "code",
   "execution_count": null,
   "metadata": {},
   "outputs": [],
   "source": []
  }
 ],
 "metadata": {
  "kernelspec": {
   "display_name": "Python 3",
   "language": "python",
   "name": "python3"
  },
  "language_info": {
   "codemirror_mode": {
    "name": "ipython",
    "version": 3
   },
   "file_extension": ".py",
   "mimetype": "text/x-python",
   "name": "python",
   "nbconvert_exporter": "python",
   "pygments_lexer": "ipython3",
   "version": "3.7.0"
  }
 },
 "nbformat": 4,
 "nbformat_minor": 2
}
